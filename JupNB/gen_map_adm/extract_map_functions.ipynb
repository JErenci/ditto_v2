{
 "cells": [
  {
   "cell_type": "markdown",
   "metadata": {},
   "source": [
    "# 0.INPUTS (`l_country_data`, `l_coverage`, `l_stores`, `l_states`)"
   ]
  },
  {
   "cell_type": "markdown",
   "metadata": {},
   "source": [
    "### PATHS"
   ]
  },
  {
   "cell_type": "code",
   "execution_count": 1,
   "metadata": {},
   "outputs": [
    {
     "data": {
      "text/plain": [
       "'c:\\\\Code\\\\ditto_v2'"
      ]
     },
     "execution_count": 1,
     "metadata": {},
     "output_type": "execute_result"
    }
   ],
   "source": [
    "import os\n",
    "os.chdir('/Code/ditto_v2')\n",
    "%pwd"
   ]
  },
  {
   "cell_type": "code",
   "execution_count": 2,
   "metadata": {},
   "outputs": [],
   "source": [
    "from src.functionality_maps import f_maps, Defs\n",
    "import geopandas as gpd"
   ]
  },
  {
   "cell_type": "markdown",
   "metadata": {},
   "source": [
    "### VARIABLES"
   ]
  },
  {
   "cell_type": "code",
   "execution_count": 3,
   "metadata": {},
   "outputs": [],
   "source": [
    "gadm = 'D2'\n",
    "l_country_data = [\n",
    "    # 'D1',\n",
    "    'D2','D3', 'D4', 'ZIP', #'census'\n",
    "    # gadm, \n",
    "    'census'\n",
    "    ]\n",
    "l_coverage = '20'\n",
    "\n",
    "# l_stores = ['sportscheck', 'decathlon','intersport','sport2000','sportxx','karstadt','engelhorn','sportarena','sportcheck','sportsohle]\n",
    "# l_stores = ['sportscheck', 'decathlon','intersport']\n",
    "l_stores = ['decathlon']\n",
    "\n",
    "d_inputs = {\n",
    "    'stores' : {\n",
    "        'sportscheck' : {\n",
    "            'color' : 'orange'\n",
    "        },\n",
    "        'decathlon' : {\n",
    "            'color' : (0.0, 130.0, 195.0, 255.0) # 'darkblue' # \n",
    "        },\n",
    "        'intersport' : {\n",
    "            'color' : 'darkred'\n",
    "        }\n",
    "    }\n",
    "}\n",
    "# l_stores = ['decathlon']\n",
    "\n",
    "# l_states = ['Bayern','Baden-Württemberg','Hessen','Nordrhein-Westfalen','Rheinland-Pfalz', \\\n",
    "#             'Saarland','Sachsen','Sachsen-Anhalt','Thüringen','Berlin','Brandenburg','Mecklenburg-Vorpommern', \\\n",
    "#                 'Hamburg','Niedersachsen','Schleswig-Holstein','Bremen']\n",
    "l_states = ['Baden-Württemberg']#, 'Bayern']\n",
    "\n",
    "is_logging = True\n",
    "round_dec = 2\n",
    "is_simplified = False\n",
    "simplification_tolerance = .1 #(0.01 unit in projected CRS means 0.01 unit in reality)"
   ]
  },
  {
   "cell_type": "markdown",
   "metadata": {},
   "source": [
    "# 1.INGESTION (`d_ger`, `radius_km`)"
   ]
  },
  {
   "cell_type": "markdown",
   "metadata": {},
   "source": [
    "### LOAD DATA (`d_ger`, `radius_km`)"
   ]
  },
  {
   "cell_type": "code",
   "execution_count": 4,
   "metadata": {},
   "outputs": [
    {
     "name": "stdout",
     "output_type": "stream",
     "text": [
      "Level [D2-State] loaded!\n",
      " No columns to normalize\n",
      "Level [D3-Region] loaded!\n",
      " No columns to normalize\n"
     ]
    },
    {
     "name": "stdout",
     "output_type": "stream",
     "text": [
      "Level [D4-District] loaded!\n",
      " No columns to normalize\n",
      "Level [ZIP-Locality] loaded!\n",
      " No columns to normalize\n",
      "Census is loaded!\n",
      " Normalizing non-serializable columns... ['BEGINN', 'WSK']\n",
      " Columns ['BEGINN', 'WSK'] removed\n"
     ]
    }
   ],
   "source": [
    "########## LOAD 'GERMANY' `d_ger` ##############\n",
    "import pandas as pd\n",
    "\n",
    "pd.set_option('display.max_columns', None)\n",
    "d_ger = f_maps.load_germany(l_levels=l_country_data,\n",
    "                            is_logging=True)\n",
    "\n",
    "#### PARSING VARIABLES ###\n",
    "radius_km = int(l_coverage)\n",
    "\n",
    "# d_ger['census'].head(1)\n",
    "# d_ger['census'].head(1)"
   ]
  },
  {
   "cell_type": "code",
   "execution_count": 5,
   "metadata": {},
   "outputs": [
    {
     "name": "stdout",
     "output_type": "stream",
     "text": [
      "(16, 4)\n",
      "(40, 12)\n",
      "(434, 14)\n",
      "(8700, 3)\n",
      "(10990, 28)\n"
     ]
    }
   ],
   "source": [
    "print(d_ger['D2'].shape)\n",
    "print(d_ger['D3'].shape)\n",
    "print(d_ger['D4'].shape)\n",
    "print(d_ger['ZIP'].shape)\n",
    "print(d_ger['census'].shape)"
   ]
  },
  {
   "cell_type": "markdown",
   "metadata": {},
   "source": [
    "# 2.CLEAN/FILTER (`pdf_stores`, `gpd_census`)\n",
    "[`pdf_stores`: with Store data\n",
    "\n",
    "`gpd_census`: with Population data\n",
    "]"
   ]
  },
  {
   "cell_type": "code",
   "execution_count": 6,
   "metadata": {},
   "outputs": [
    {
     "name": "stdout",
     "output_type": "stream",
     "text": [
      "Filtering stores...\n",
      "  Stores [['decathlon']]... # stores:508\n",
      "  After filtering stores [['decathlon']]... # stores:89\n",
      "  After filtering states [['Baden-Württemberg']]... # stores:14\n",
      "\n",
      "  Stores ['Karlsruhe-Durlach', 'Ulm', 'Plochingen', 'Baden - Baden', 'Aalen-Essingen', 'Schwetzingen', 'Böblingen', 'Lörrach', 'Ludwigsburg', 'Heilbronn-K3', 'Offenburg', 'Singen', 'Stuttgart-Milaneo', 'Waiblingen']\n"
     ]
    }
   ],
   "source": [
    "from src.functionality_maps import f_maps, paths, Defs\n",
    "import pandas as pd\n",
    "import geopandas as gpd\n",
    "\n",
    "### PDF_STORES ###\n",
    "print('Filtering stores...')\n",
    "pdf_stores = pd.read_json(paths.stores, orient='records', lines=True)\n",
    "print(f'  Stores [{l_stores}]... # stores:{pdf_stores.shape[0]}')\n",
    "pdf_stores = pdf_stores[pdf_stores['store'].isin(l_stores)]\n",
    "print(f'  After filtering stores [{l_stores}]... # stores:{pdf_stores.shape[0]}')\n",
    "pdf_stores = pdf_stores[pdf_stores['GADM_1'].isin(l_states)]\n",
    "print(f'  After filtering states [{l_states}]... # stores:{pdf_stores.shape[0]}\\n')\n",
    "print(f'  Stores {list(pdf_stores['name'])}')\n",
    "\n",
    "## ADD NAME OF STORE\n",
    "pdf_stores['store_name'] = pdf_stores[\"store\"] +\"_\" +  pdf_stores[\"name\"]\n",
    "\n",
    "#### EXTRACTING LOCATIONS FROM STORES ####\n",
    "l_center_points = list(zip(pdf_stores['lat'], pdf_stores['lon'], pdf_stores['store_name']))"
   ]
  },
  {
   "cell_type": "code",
   "execution_count": 7,
   "metadata": {},
   "outputs": [
    {
     "name": "stdout",
     "output_type": "stream",
     "text": [
      "Filtering by GADM (D2/State in list ['Baden-Württemberg'])\n",
      "  # States:16\n",
      "  After filtering, # States:1\n",
      "Filtering census...\n",
      "  # Towns:10990\n",
      "  After filtering, # Towns:1103\n"
     ]
    }
   ],
   "source": [
    "\n",
    "l_bundeslaender = [Defs.dict_bundeslaender_id[x] for x in l_states]\n",
    "\n",
    "#### FILTERING GEOMETRY #####\n",
    "filter_entity = paths.d_map_gadm_name[gadm]\n",
    "print(f'Filtering by GADM ({gadm}/{filter_entity} in list {l_states})')\n",
    "\n",
    "gpd_geom = d_ger['D2'] ## ALWAYS USE TOWNS/CITIES because they contain all info for above divisions\n",
    "print(f'  # States:{gpd_geom.shape[0]}')\n",
    "gpd_geom = gpd_geom[gpd_geom['name'].isin(l_states)]\n",
    "print(f'  After filtering, # States:{gpd_geom.shape[0]}')\n",
    "\n",
    "#### FILTERING CENSUS #####\n",
    "print('Filtering census...')\n",
    "gdf_census = d_ger['census']\n",
    "print(f'  # Towns:{gdf_census.shape[0]}')\n",
    "gdf_census = gdf_census[gdf_census['SN_L'].isin(l_bundeslaender)]\n",
    "print(f'  After filtering, # Towns:{gdf_census.shape[0]}')"
   ]
  },
  {
   "cell_type": "code",
   "execution_count": 8,
   "metadata": {},
   "outputs": [
    {
     "data": {
      "text/html": [
       "<div>\n",
       "<style scoped>\n",
       "    .dataframe tbody tr th:only-of-type {\n",
       "        vertical-align: middle;\n",
       "    }\n",
       "\n",
       "    .dataframe tbody tr th {\n",
       "        vertical-align: top;\n",
       "    }\n",
       "\n",
       "    .dataframe thead th {\n",
       "        text-align: right;\n",
       "    }\n",
       "</style>\n",
       "<table border=\"1\" class=\"dataframe\">\n",
       "  <thead>\n",
       "    <tr style=\"text-align: right;\">\n",
       "      <th></th>\n",
       "      <th>Bundesland</th>\n",
       "      <th>EWZ</th>\n",
       "      <th>area_dbms</th>\n",
       "      <th>area_geom</th>\n",
       "      <th>geometry</th>\n",
       "    </tr>\n",
       "  </thead>\n",
       "  <tbody>\n",
       "    <tr>\n",
       "      <th>0</th>\n",
       "      <td>Schleswig-Holstein</td>\n",
       "      <td>2953270</td>\n",
       "      <td>15254</td>\n",
       "      <td>15624.87</td>\n",
       "      <td>MULTIPOLYGON (((8.93016 53.91648, 8.9309 53.91...</td>\n",
       "    </tr>\n",
       "    <tr>\n",
       "      <th>1</th>\n",
       "      <td>Hamburg</td>\n",
       "      <td>1892122</td>\n",
       "      <td>755</td>\n",
       "      <td>742.55</td>\n",
       "      <td>MULTIPOLYGON (((9.75824 53.55644, 9.75984 53.5...</td>\n",
       "    </tr>\n",
       "    <tr>\n",
       "      <th>2</th>\n",
       "      <td>Niedersachsen</td>\n",
       "      <td>8140242</td>\n",
       "      <td>47241</td>\n",
       "      <td>47661.54</td>\n",
       "      <td>MULTIPOLYGON (((7.23817 52.264, 7.23681 52.264...</td>\n",
       "    </tr>\n",
       "    <tr>\n",
       "      <th>3</th>\n",
       "      <td>Bremen</td>\n",
       "      <td>684864</td>\n",
       "      <td>419</td>\n",
       "      <td>402.48</td>\n",
       "      <td>MULTIPOLYGON (((8.51135 53.22795, 8.51264 53.2...</td>\n",
       "    </tr>\n",
       "    <tr>\n",
       "      <th>4</th>\n",
       "      <td>Nordrhein-Westfalen</td>\n",
       "      <td>18139116</td>\n",
       "      <td>33921</td>\n",
       "      <td>34110.72</td>\n",
       "      <td>MULTIPOLYGON (((6.38501 50.38419, 6.38684 50.3...</td>\n",
       "    </tr>\n",
       "    <tr>\n",
       "      <th>5</th>\n",
       "      <td>Hessen</td>\n",
       "      <td>6391360</td>\n",
       "      <td>20895</td>\n",
       "      <td>21114.92</td>\n",
       "      <td>MULTIPOLYGON (((8.37035 49.86278, 8.36813 49.8...</td>\n",
       "    </tr>\n",
       "    <tr>\n",
       "      <th>6</th>\n",
       "      <td>Rheinland-Pfalz</td>\n",
       "      <td>4159150</td>\n",
       "      <td>18715</td>\n",
       "      <td>19856.54</td>\n",
       "      <td>POLYGON ((6.41666 49.54395, 6.41432 49.54326, ...</td>\n",
       "    </tr>\n",
       "    <tr>\n",
       "      <th>7</th>\n",
       "      <td>Baden-Württemberg</td>\n",
       "      <td>11280257</td>\n",
       "      <td>35219</td>\n",
       "      <td>35748.88</td>\n",
       "      <td>MULTIPOLYGON (((7.71191 47.5388, 7.71067 47.53...</td>\n",
       "    </tr>\n",
       "    <tr>\n",
       "      <th>8</th>\n",
       "      <td>Bayern</td>\n",
       "      <td>13369393</td>\n",
       "      <td>69430</td>\n",
       "      <td>70544.94</td>\n",
       "      <td>POLYGON ((9.6502 47.55793, 9.6492 47.55843, 9....</td>\n",
       "    </tr>\n",
       "    <tr>\n",
       "      <th>9</th>\n",
       "      <td>Saarland</td>\n",
       "      <td>992666</td>\n",
       "      <td>2545</td>\n",
       "      <td>2571.02</td>\n",
       "      <td>POLYGON ((6.83629 49.21126, 6.8371 49.2108, 6....</td>\n",
       "    </tr>\n",
       "    <tr>\n",
       "      <th>10</th>\n",
       "      <td>Berlin</td>\n",
       "      <td>3755251</td>\n",
       "      <td>891</td>\n",
       "      <td>891.79</td>\n",
       "      <td>POLYGON ((13.48006 52.67465, 13.47879 52.67345...</td>\n",
       "    </tr>\n",
       "    <tr>\n",
       "      <th>11</th>\n",
       "      <td>Brandenburg</td>\n",
       "      <td>2573135</td>\n",
       "      <td>29448</td>\n",
       "      <td>29654.16</td>\n",
       "      <td>MULTIPOLYGON (((12.52815 52.00441, 12.52201 52...</td>\n",
       "    </tr>\n",
       "    <tr>\n",
       "      <th>12</th>\n",
       "      <td>Mecklenburg-Vorpommern</td>\n",
       "      <td>1628378</td>\n",
       "      <td>22939</td>\n",
       "      <td>23074.68</td>\n",
       "      <td>MULTIPOLYGON (((11.17989 53.18668, 11.16289 53...</td>\n",
       "    </tr>\n",
       "    <tr>\n",
       "      <th>13</th>\n",
       "      <td>Sachsen</td>\n",
       "      <td>4086152</td>\n",
       "      <td>18248</td>\n",
       "      <td>18448.93</td>\n",
       "      <td>POLYGON ((12.35417 50.24852, 12.35469 50.24796...</td>\n",
       "    </tr>\n",
       "    <tr>\n",
       "      <th>14</th>\n",
       "      <td>Sachsen-Anhalt</td>\n",
       "      <td>2186643</td>\n",
       "      <td>20353</td>\n",
       "      <td>20552.24</td>\n",
       "      <td>MULTIPOLYGON (((11.20214 51.40567, 11.20096 51...</td>\n",
       "    </tr>\n",
       "    <tr>\n",
       "      <th>15</th>\n",
       "      <td>Thüringen</td>\n",
       "      <td>2126846</td>\n",
       "      <td>15890</td>\n",
       "      <td>16200.81</td>\n",
       "      <td>POLYGON ((10.04499 50.51695, 10.04134 50.51647...</td>\n",
       "    </tr>\n",
       "  </tbody>\n",
       "</table>\n",
       "</div>"
      ],
      "text/plain": [
       "                Bundesland       EWZ  area_dbms  area_geom  \\\n",
       "0       Schleswig-Holstein   2953270      15254   15624.87   \n",
       "1                  Hamburg   1892122        755     742.55   \n",
       "2            Niedersachsen   8140242      47241   47661.54   \n",
       "3                   Bremen    684864        419     402.48   \n",
       "4      Nordrhein-Westfalen  18139116      33921   34110.72   \n",
       "5                   Hessen   6391360      20895   21114.92   \n",
       "6          Rheinland-Pfalz   4159150      18715   19856.54   \n",
       "7        Baden-Württemberg  11280257      35219   35748.88   \n",
       "8                   Bayern  13369393      69430   70544.94   \n",
       "9                 Saarland    992666       2545    2571.02   \n",
       "10                  Berlin   3755251        891     891.79   \n",
       "11             Brandenburg   2573135      29448   29654.16   \n",
       "12  Mecklenburg-Vorpommern   1628378      22939   23074.68   \n",
       "13                 Sachsen   4086152      18248   18448.93   \n",
       "14          Sachsen-Anhalt   2186643      20353   20552.24   \n",
       "15               Thüringen   2126846      15890   16200.81   \n",
       "\n",
       "                                             geometry  \n",
       "0   MULTIPOLYGON (((8.93016 53.91648, 8.9309 53.91...  \n",
       "1   MULTIPOLYGON (((9.75824 53.55644, 9.75984 53.5...  \n",
       "2   MULTIPOLYGON (((7.23817 52.264, 7.23681 52.264...  \n",
       "3   MULTIPOLYGON (((8.51135 53.22795, 8.51264 53.2...  \n",
       "4   MULTIPOLYGON (((6.38501 50.38419, 6.38684 50.3...  \n",
       "5   MULTIPOLYGON (((8.37035 49.86278, 8.36813 49.8...  \n",
       "6   POLYGON ((6.41666 49.54395, 6.41432 49.54326, ...  \n",
       "7   MULTIPOLYGON (((7.71191 47.5388, 7.71067 47.53...  \n",
       "8   POLYGON ((9.6502 47.55793, 9.6492 47.55843, 9....  \n",
       "9   POLYGON ((6.83629 49.21126, 6.8371 49.2108, 6....  \n",
       "10  POLYGON ((13.48006 52.67465, 13.47879 52.67345...  \n",
       "11  MULTIPOLYGON (((12.52815 52.00441, 12.52201 52...  \n",
       "12  MULTIPOLYGON (((11.17989 53.18668, 11.16289 53...  \n",
       "13  POLYGON ((12.35417 50.24852, 12.35469 50.24796...  \n",
       "14  MULTIPOLYGON (((11.20214 51.40567, 11.20096 51...  \n",
       "15  POLYGON ((10.04499 50.51695, 10.04134 50.51647...  "
      ]
     },
     "execution_count": 8,
     "metadata": {},
     "output_type": "execute_result"
    }
   ],
   "source": [
    "def merge_census_geom(gdf:gpd.GeoDataFrame, \n",
    "                      col_groupby:str = 'SN_L', col_geom:str='geometry',\n",
    "                      is_logging:bool=False) -> gpd.GeoDataFrame:\n",
    "    if is_logging:\n",
    "        print(f'Grouping geometries...')\n",
    "    gdf = gdf.groupby('SN_L').agg( \\\n",
    "        {'EWZ':'sum', \n",
    "        'KFL' : 'sum',\n",
    "        'geometry': lambda x: x.geometry.union_all(),\n",
    "        })\n",
    "    if is_logging:\n",
    "        print(f' Adding areas and renaming columns...')\n",
    "\n",
    "    gdf = gdf.reset_index(names=['Bundesland'])\n",
    "    gdf = gpd.GeoDataFrame(gdf).set_crs(4326)\n",
    "    gdf['Bundesland'] = gdf['Bundesland'].map(Defs.dict_id_bundeslaender)\n",
    "    gdf['area_geom'] = gdf.to_crs(6933).geometry.area/ 10**6\n",
    "    gdf['area_geom'] = gdf['area_geom'].round(round_dec)\n",
    "    gdf = gdf.rename(columns={'KFL':'area_dbms'})\n",
    "    return gdf\n",
    "\n",
    "\n",
    "\n",
    "path_census_D2 = './assets/Geo/Germany/D1_Deutschland_census.json'\n",
    "# gdf_census_merged = merge_census_geom(d_ger['census'], is_logging=is_logging)\n",
    "# gdf_census_merged.to_file(path_census_D2)\n",
    "gdf_census_merged = gpd.read_file(path_census_D2)\n",
    "gdf_census_merged"
   ]
  },
  {
   "cell_type": "code",
   "execution_count": 9,
   "metadata": {},
   "outputs": [
    {
     "data": {
      "text/html": [
       "<div>\n",
       "<style scoped>\n",
       "    .dataframe tbody tr th:only-of-type {\n",
       "        vertical-align: middle;\n",
       "    }\n",
       "\n",
       "    .dataframe tbody tr th {\n",
       "        vertical-align: top;\n",
       "    }\n",
       "\n",
       "    .dataframe thead th {\n",
       "        text-align: right;\n",
       "    }\n",
       "</style>\n",
       "<table border=\"1\" class=\"dataframe\">\n",
       "  <thead>\n",
       "    <tr style=\"text-align: right;\">\n",
       "      <th></th>\n",
       "      <th>Bundesland</th>\n",
       "      <th>EWZ</th>\n",
       "      <th>area_dbms</th>\n",
       "      <th>area_geom</th>\n",
       "      <th>geometry</th>\n",
       "    </tr>\n",
       "  </thead>\n",
       "  <tbody>\n",
       "    <tr>\n",
       "      <th>7</th>\n",
       "      <td>Baden-Württemberg</td>\n",
       "      <td>11280257</td>\n",
       "      <td>35219</td>\n",
       "      <td>35748.88</td>\n",
       "      <td>MULTIPOLYGON (((7.71191 47.5388, 7.71067 47.53...</td>\n",
       "    </tr>\n",
       "  </tbody>\n",
       "</table>\n",
       "</div>"
      ],
      "text/plain": [
       "          Bundesland       EWZ  area_dbms  area_geom  \\\n",
       "7  Baden-Württemberg  11280257      35219   35748.88   \n",
       "\n",
       "                                            geometry  \n",
       "7  MULTIPOLYGON (((7.71191 47.5388, 7.71067 47.53...  "
      ]
     },
     "execution_count": 9,
     "metadata": {},
     "output_type": "execute_result"
    }
   ],
   "source": [
    "gdf_census_merged = gdf_census_merged[gdf_census_merged['Bundesland'].isin(l_states)]\n",
    "gdf_census_merged"
   ]
  },
  {
   "cell_type": "code",
   "execution_count": 10,
   "metadata": {},
   "outputs": [],
   "source": [
    "if is_simplified:\n",
    "    gdf_census['geometry'] = gdf_census.geometry.simplify(simplification_tolerance)\n",
    "    gdf_census_merged['geometry'] = gdf_census_merged.geometry.simplify(simplification_tolerance)\n",
    "\n",
    "# gdf_census_simp.info()\n",
    "# gdf_census_merged.info()"
   ]
  },
  {
   "cell_type": "markdown",
   "metadata": {},
   "source": [
    "# 3.PROCESSING (`gdf_geom_6933`, `gdf_geom_4326`)"
   ]
  },
  {
   "cell_type": "markdown",
   "metadata": {},
   "source": [
    "## 3.0. Adding lat lon to `gdf_census`"
   ]
  },
  {
   "cell_type": "code",
   "execution_count": 11,
   "metadata": {},
   "outputs": [
    {
     "name": "stdout",
     "output_type": "stream",
     "text": [
      "Computing areas...\n"
     ]
    },
    {
     "data": {
      "text/html": [
       "<div>\n",
       "<style scoped>\n",
       "    .dataframe tbody tr th:only-of-type {\n",
       "        vertical-align: middle;\n",
       "    }\n",
       "\n",
       "    .dataframe tbody tr th {\n",
       "        vertical-align: top;\n",
       "    }\n",
       "\n",
       "    .dataframe thead th {\n",
       "        text-align: right;\n",
       "    }\n",
       "</style>\n",
       "<table border=\"1\" class=\"dataframe\">\n",
       "  <thead>\n",
       "    <tr style=\"text-align: right;\">\n",
       "      <th></th>\n",
       "      <th>OBJID</th>\n",
       "      <th>ADE</th>\n",
       "      <th>GF</th>\n",
       "      <th>BSG</th>\n",
       "      <th>ARS</th>\n",
       "      <th>AGS</th>\n",
       "      <th>SDV_ARS</th>\n",
       "      <th>GEN</th>\n",
       "      <th>BEZ</th>\n",
       "      <th>IBZ</th>\n",
       "      <th>BEM</th>\n",
       "      <th>NBD</th>\n",
       "      <th>SN_L</th>\n",
       "      <th>SN_R</th>\n",
       "      <th>SN_K</th>\n",
       "      <th>SN_V1</th>\n",
       "      <th>SN_V2</th>\n",
       "      <th>SN_G</th>\n",
       "      <th>FK_S3</th>\n",
       "      <th>NUTS</th>\n",
       "      <th>ARS_0</th>\n",
       "      <th>AGS_0</th>\n",
       "      <th>EWZ</th>\n",
       "      <th>KFL</th>\n",
       "      <th>DLM_ID</th>\n",
       "      <th>EPK</th>\n",
       "      <th>EPK_norm</th>\n",
       "      <th>geometry</th>\n",
       "      <th>KFL_GPD</th>\n",
       "      <th>area_geom</th>\n",
       "      <th>lat</th>\n",
       "      <th>lon</th>\n",
       "    </tr>\n",
       "  </thead>\n",
       "  <tbody>\n",
       "    <tr>\n",
       "      <th>5198</th>\n",
       "      <td>DEBKGVG20000040K</td>\n",
       "      <td>6</td>\n",
       "      <td>4</td>\n",
       "      <td>1</td>\n",
       "      <td>081110000000</td>\n",
       "      <td>08111000</td>\n",
       "      <td>081110000000</td>\n",
       "      <td>Stuttgart</td>\n",
       "      <td>Stadt</td>\n",
       "      <td>60</td>\n",
       "      <td>kreisfrei</td>\n",
       "      <td>ja</td>\n",
       "      <td>08</td>\n",
       "      <td>1</td>\n",
       "      <td>11</td>\n",
       "      <td>00</td>\n",
       "      <td>00</td>\n",
       "      <td>000</td>\n",
       "      <td>R</td>\n",
       "      <td>DE111</td>\n",
       "      <td>081110000000</td>\n",
       "      <td>08111000</td>\n",
       "      <td>632865</td>\n",
       "      <td>207</td>\n",
       "      <td>DEBKGDL20000DZKQ</td>\n",
       "      <td>3057.318841</td>\n",
       "      <td>0.0</td>\n",
       "      <td>POLYGON ((890102.993 5519238.077, 890086.186 5...</td>\n",
       "      <td>209.95</td>\n",
       "      <td>209.95</td>\n",
       "      <td>48.774528</td>\n",
       "      <td>9.172003</td>\n",
       "    </tr>\n",
       "  </tbody>\n",
       "</table>\n",
       "</div>"
      ],
      "text/plain": [
       "                 OBJID  ADE  GF  BSG           ARS       AGS       SDV_ARS  \\\n",
       "5198  DEBKGVG20000040K    6   4    1  081110000000  08111000  081110000000   \n",
       "\n",
       "            GEN    BEZ  IBZ        BEM NBD SN_L SN_R SN_K SN_V1 SN_V2 SN_G  \\\n",
       "5198  Stuttgart  Stadt   60  kreisfrei  ja   08    1   11    00    00  000   \n",
       "\n",
       "     FK_S3   NUTS         ARS_0     AGS_0     EWZ  KFL            DLM_ID  \\\n",
       "5198     R  DE111  081110000000  08111000  632865  207  DEBKGDL20000DZKQ   \n",
       "\n",
       "              EPK  EPK_norm  \\\n",
       "5198  3057.318841       0.0   \n",
       "\n",
       "                                               geometry  KFL_GPD  area_geom  \\\n",
       "5198  POLYGON ((890102.993 5519238.077, 890086.186 5...   209.95     209.95   \n",
       "\n",
       "            lat       lon  \n",
       "5198  48.774528  9.172003  "
      ]
     },
     "execution_count": 11,
     "metadata": {},
     "output_type": "execute_result"
    }
   ],
   "source": [
    "gdf_geom_4326 = gdf_census.to_crs(epsg=4326)\n",
    "\n",
    "#### COMPUTING AREAS ####\n",
    "print('Computing areas...')\n",
    "gdf_census_6993 = gdf_census.to_crs(epsg=6933)\n",
    "gdf_census_6993['KFL_GPD'] = round(gdf_census_6993.geometry.area / 10**6, 2)\n",
    "gdf_census_6993['area_geom'] = round(gdf_census_6993['geometry'].area / 10**6, 2)\n",
    "\n",
    "gdf_census_6993['centroid']=gdf_census_6993.to_crs('+proj=cea').centroid.to_crs(gdf_census_6993.crs)\n",
    "gdf_census_6993['centroid']= gdf_census_6993['centroid'].to_crs(epsg=4326)\n",
    "gdf_census_6993['lat']=gdf_census_6993['centroid'].y\n",
    "gdf_census_6993['lon']=gdf_census_6993['centroid'].x\n",
    "\n",
    "gdf_census_6993 = gdf_census_6993.drop(['centroid'], axis=1)\n",
    "gdf_census_6993.head(1)"
   ]
  },
  {
   "cell_type": "markdown",
   "metadata": {},
   "source": [
    "## 3.1. GEOMETRIES `fglc_geom` (Region, Towns)"
   ]
  },
  {
   "cell_type": "markdown",
   "metadata": {},
   "source": [
    "### Feature Group Geometries (`fg_geom_region` using `gdf_census_merged`)"
   ]
  },
  {
   "cell_type": "code",
   "execution_count": 12,
   "metadata": {},
   "outputs": [
    {
     "data": {
      "text/plain": [
       "<folium.features.GeoJson at 0x1d8ed3fb7a0>"
      ]
     },
     "execution_count": 12,
     "metadata": {},
     "output_type": "execute_result"
    }
   ],
   "source": [
    "import folium\n",
    "\n",
    "fg_geom_pop = round(gdf_census_merged.EWZ.sum() / 10**6, round_dec)\n",
    "fg_geom_area = gdf_census_merged.area_geom.sum()\n",
    "\n",
    "# Area_dbms:{gdf_census_merged.area_dbms.sum()}Km2\n",
    "# fg_legend = f'Geometry Region of Interest [States: {l_states}, \\\n",
    "#         Pop:{fg_geom_pop}M, \\\n",
    "#         Area_geom:{fg_geom_area}Km2]'\n",
    "fg_legend = f'Region(s) of Interest [#={len(l_states)}, Pop:{fg_geom_pop}M, Area:{fg_geom_area}Km2]'\n",
    "\n",
    "fg_geom_region = folium.FeatureGroup(name=fg_legend)\n",
    "gjson_store = f_maps.get_folium_geojson( gdf_census_merged, \n",
    "                                fields=['Bundesland', 'EWZ', 'area_geom'],\n",
    "                                aliases = ['Bundesland', 'Pop', 'Area_geom[Km2]']\n",
    "                                )\n",
    "gjson_store.add_to(fg_geom_region)"
   ]
  },
  {
   "cell_type": "markdown",
   "metadata": {},
   "source": [
    "### Feature Group Geometries (`fg_geom_town` using `gdf_census`)"
   ]
  },
  {
   "cell_type": "code",
   "execution_count": 13,
   "metadata": {},
   "outputs": [
    {
     "data": {
      "text/plain": [
       "<folium.features.GeoJson at 0x1d8ed3f88f0>"
      ]
     },
     "execution_count": 13,
     "metadata": {},
     "output_type": "execute_result"
    }
   ],
   "source": [
    "num_towns = gdf_census.shape[0]\n",
    "fg_geom_pop = round(gdf_census.EWZ.sum() / 10**6, round_dec)\n",
    "fg_geom_area = gdf_census_6993.area_geom.sum()\n",
    "\n",
    "# legend_geom_town = f'Towns in RoI [#Towns: {num_towns}, \\\n",
    "#         Pop:{fg_geom_pop}M, \\\n",
    "#         Area_geom:{fg_geom_area}Km2]'\n",
    "legend_geom_town = f'Towns in RoI [#={num_towns}]'\n",
    "\n",
    "\n",
    "fg_geom_town = folium.FeatureGroup(name=legend_geom_town)\n",
    "gjson_store = f_maps.get_folium_geojson( gdf_census_6993.to_crs(4326), \n",
    "                                fields=['GEN', 'EWZ', 'area_geom', 'KFL'],\n",
    "                                aliases = ['Town', 'Pop', 'Area_geom[km2]', 'Area_dbms[Km2]']\n",
    "                                )\n",
    "gjson_store.add_to(fg_geom_town)"
   ]
  },
  {
   "cell_type": "code",
   "execution_count": 14,
   "metadata": {},
   "outputs": [],
   "source": [
    "l_fg_geometry = [fg_geom_region, fg_geom_town]\n",
    "fglc_geom = folium.plugins.GroupedLayerControl(\n",
    "    groups={'Geometry': l_fg_geometry},\n",
    "    exclusive_groups=False,\n",
    "    collapsed=False,\n",
    ")"
   ]
  },
  {
   "cell_type": "markdown",
   "metadata": {},
   "source": [
    "## 3.2. STORES (Markers, Circles)"
   ]
  },
  {
   "cell_type": "code",
   "execution_count": 15,
   "metadata": {},
   "outputs": [],
   "source": [
    "if ('centroid' in gdf_census_6993.columns):\n",
    "    gdf_census_6993 = gdf_census_6993.drop(columns=['centroid'])\n",
    "\n",
    "col_perc_dbms = 'PERC_dbms_int'\n",
    "col_perc_geom = 'PERC_geom_int'\n",
    "col_perc_pop = 'PERC_pop'\n",
    "l_cols_percentaged = ['area_geom', 'EWZ', 'KFL']\n",
    "\n",
    "d_columns = {\n",
    "    'area_geom':{'alias' : 'area',        'is_norm': True,  'is_int':False},\n",
    "    'KFL':     {'alias' : 'area_data',    'is_norm': True,  'is_int':False},\n",
    "    'EWZ':     {'alias' : 'Population',   'is_norm': True,  'is_int':True}\n",
    "}"
   ]
  },
  {
   "cell_type": "code",
   "execution_count": 16,
   "metadata": {},
   "outputs": [
    {
     "name": "stdout",
     "output_type": "stream",
     "text": [
      "[1/1] Store=decathlon\n",
      "  # stores=14\n",
      " ### 1. FG WITH MARKERS ###\n"
     ]
    },
    {
     "name": "stderr",
     "output_type": "stream",
     "text": [
      "c:\\Users\\User\\AppData\\Local\\Programs\\Python\\Python312\\Lib\\site-packages\\pyproj\\crs\\crs.py:141: FutureWarning: '+init=<authority>:<code>' syntax is deprecated. '<authority>:<code>' is the preferred initialization method. When making the change, be mindful of axis order changes: https://pyproj4.github.io/pyproj/stable/gotchas.html#axis-order-changes-in-proj-6\n",
      "  in_crs_string = _prepare_from_proj_string(in_crs_string)\n",
      "c:\\Code\\ditto_v2\\src\\functionality_maps\\f_gadm.py:193: FutureWarning: This function is deprecated. See: https://pyproj4.github.io/pyproj/stable/gotchas.html#upgrading-to-pyproj-2-from-pyproj-1\n",
      "  projected_points = [transform(proj_wgs84, proj_utm, lon, lat) for lat, lon in points_area]\n",
      "c:\\Users\\User\\AppData\\Local\\Programs\\Python\\Python312\\Lib\\site-packages\\pyproj\\crs\\crs.py:141: FutureWarning: '+init=<authority>:<code>' syntax is deprecated. '<authority>:<code>' is the preferred initialization method. When making the change, be mindful of axis order changes: https://pyproj4.github.io/pyproj/stable/gotchas.html#axis-order-changes-in-proj-6\n",
      "  in_crs_string = _prepare_from_proj_string(in_crs_string)\n",
      "c:\\Code\\ditto_v2\\src\\functionality_maps\\f_gadm.py:193: FutureWarning: This function is deprecated. See: https://pyproj4.github.io/pyproj/stable/gotchas.html#upgrading-to-pyproj-2-from-pyproj-1\n",
      "  projected_points = [transform(proj_wgs84, proj_utm, lon, lat) for lat, lon in points_area]\n",
      "c:\\Users\\User\\AppData\\Local\\Programs\\Python\\Python312\\Lib\\site-packages\\pyproj\\crs\\crs.py:141: FutureWarning: '+init=<authority>:<code>' syntax is deprecated. '<authority>:<code>' is the preferred initialization method. When making the change, be mindful of axis order changes: https://pyproj4.github.io/pyproj/stable/gotchas.html#axis-order-changes-in-proj-6\n",
      "  in_crs_string = _prepare_from_proj_string(in_crs_string)\n",
      "c:\\Code\\ditto_v2\\src\\functionality_maps\\f_gadm.py:193: FutureWarning: This function is deprecated. See: https://pyproj4.github.io/pyproj/stable/gotchas.html#upgrading-to-pyproj-2-from-pyproj-1\n",
      "  projected_points = [transform(proj_wgs84, proj_utm, lon, lat) for lat, lon in points_area]\n",
      "c:\\Users\\User\\AppData\\Local\\Programs\\Python\\Python312\\Lib\\site-packages\\pyproj\\crs\\crs.py:141: FutureWarning: '+init=<authority>:<code>' syntax is deprecated. '<authority>:<code>' is the preferred initialization method. When making the change, be mindful of axis order changes: https://pyproj4.github.io/pyproj/stable/gotchas.html#axis-order-changes-in-proj-6\n",
      "  in_crs_string = _prepare_from_proj_string(in_crs_string)\n",
      "c:\\Code\\ditto_v2\\src\\functionality_maps\\f_gadm.py:193: FutureWarning: This function is deprecated. See: https://pyproj4.github.io/pyproj/stable/gotchas.html#upgrading-to-pyproj-2-from-pyproj-1\n",
      "  projected_points = [transform(proj_wgs84, proj_utm, lon, lat) for lat, lon in points_area]\n",
      "c:\\Users\\User\\AppData\\Local\\Programs\\Python\\Python312\\Lib\\site-packages\\pyproj\\crs\\crs.py:141: FutureWarning: '+init=<authority>:<code>' syntax is deprecated. '<authority>:<code>' is the preferred initialization method. When making the change, be mindful of axis order changes: https://pyproj4.github.io/pyproj/stable/gotchas.html#axis-order-changes-in-proj-6\n",
      "  in_crs_string = _prepare_from_proj_string(in_crs_string)\n",
      "c:\\Code\\ditto_v2\\src\\functionality_maps\\f_gadm.py:193: FutureWarning: This function is deprecated. See: https://pyproj4.github.io/pyproj/stable/gotchas.html#upgrading-to-pyproj-2-from-pyproj-1\n",
      "  projected_points = [transform(proj_wgs84, proj_utm, lon, lat) for lat, lon in points_area]\n",
      "c:\\Users\\User\\AppData\\Local\\Programs\\Python\\Python312\\Lib\\site-packages\\pyproj\\crs\\crs.py:141: FutureWarning: '+init=<authority>:<code>' syntax is deprecated. '<authority>:<code>' is the preferred initialization method. When making the change, be mindful of axis order changes: https://pyproj4.github.io/pyproj/stable/gotchas.html#axis-order-changes-in-proj-6\n",
      "  in_crs_string = _prepare_from_proj_string(in_crs_string)\n",
      "c:\\Code\\ditto_v2\\src\\functionality_maps\\f_gadm.py:193: FutureWarning: This function is deprecated. See: https://pyproj4.github.io/pyproj/stable/gotchas.html#upgrading-to-pyproj-2-from-pyproj-1\n",
      "  projected_points = [transform(proj_wgs84, proj_utm, lon, lat) for lat, lon in points_area]\n",
      "c:\\Users\\User\\AppData\\Local\\Programs\\Python\\Python312\\Lib\\site-packages\\pyproj\\crs\\crs.py:141: FutureWarning: '+init=<authority>:<code>' syntax is deprecated. '<authority>:<code>' is the preferred initialization method. When making the change, be mindful of axis order changes: https://pyproj4.github.io/pyproj/stable/gotchas.html#axis-order-changes-in-proj-6\n",
      "  in_crs_string = _prepare_from_proj_string(in_crs_string)\n",
      "c:\\Code\\ditto_v2\\src\\functionality_maps\\f_gadm.py:193: FutureWarning: This function is deprecated. See: https://pyproj4.github.io/pyproj/stable/gotchas.html#upgrading-to-pyproj-2-from-pyproj-1\n",
      "  projected_points = [transform(proj_wgs84, proj_utm, lon, lat) for lat, lon in points_area]\n",
      "c:\\Users\\User\\AppData\\Local\\Programs\\Python\\Python312\\Lib\\site-packages\\pyproj\\crs\\crs.py:141: FutureWarning: '+init=<authority>:<code>' syntax is deprecated. '<authority>:<code>' is the preferred initialization method. When making the change, be mindful of axis order changes: https://pyproj4.github.io/pyproj/stable/gotchas.html#axis-order-changes-in-proj-6\n",
      "  in_crs_string = _prepare_from_proj_string(in_crs_string)\n",
      "c:\\Code\\ditto_v2\\src\\functionality_maps\\f_gadm.py:193: FutureWarning: This function is deprecated. See: https://pyproj4.github.io/pyproj/stable/gotchas.html#upgrading-to-pyproj-2-from-pyproj-1\n",
      "  projected_points = [transform(proj_wgs84, proj_utm, lon, lat) for lat, lon in points_area]\n",
      "c:\\Users\\User\\AppData\\Local\\Programs\\Python\\Python312\\Lib\\site-packages\\pyproj\\crs\\crs.py:141: FutureWarning: '+init=<authority>:<code>' syntax is deprecated. '<authority>:<code>' is the preferred initialization method. When making the change, be mindful of axis order changes: https://pyproj4.github.io/pyproj/stable/gotchas.html#axis-order-changes-in-proj-6\n",
      "  in_crs_string = _prepare_from_proj_string(in_crs_string)\n",
      "c:\\Code\\ditto_v2\\src\\functionality_maps\\f_gadm.py:193: FutureWarning: This function is deprecated. See: https://pyproj4.github.io/pyproj/stable/gotchas.html#upgrading-to-pyproj-2-from-pyproj-1\n",
      "  projected_points = [transform(proj_wgs84, proj_utm, lon, lat) for lat, lon in points_area]\n",
      "c:\\Users\\User\\AppData\\Local\\Programs\\Python\\Python312\\Lib\\site-packages\\pyproj\\crs\\crs.py:141: FutureWarning: '+init=<authority>:<code>' syntax is deprecated. '<authority>:<code>' is the preferred initialization method. When making the change, be mindful of axis order changes: https://pyproj4.github.io/pyproj/stable/gotchas.html#axis-order-changes-in-proj-6\n",
      "  in_crs_string = _prepare_from_proj_string(in_crs_string)\n",
      "c:\\Code\\ditto_v2\\src\\functionality_maps\\f_gadm.py:193: FutureWarning: This function is deprecated. See: https://pyproj4.github.io/pyproj/stable/gotchas.html#upgrading-to-pyproj-2-from-pyproj-1\n",
      "  projected_points = [transform(proj_wgs84, proj_utm, lon, lat) for lat, lon in points_area]\n",
      "c:\\Users\\User\\AppData\\Local\\Programs\\Python\\Python312\\Lib\\site-packages\\pyproj\\crs\\crs.py:141: FutureWarning: '+init=<authority>:<code>' syntax is deprecated. '<authority>:<code>' is the preferred initialization method. When making the change, be mindful of axis order changes: https://pyproj4.github.io/pyproj/stable/gotchas.html#axis-order-changes-in-proj-6\n",
      "  in_crs_string = _prepare_from_proj_string(in_crs_string)\n",
      "c:\\Code\\ditto_v2\\src\\functionality_maps\\f_gadm.py:193: FutureWarning: This function is deprecated. See: https://pyproj4.github.io/pyproj/stable/gotchas.html#upgrading-to-pyproj-2-from-pyproj-1\n",
      "  projected_points = [transform(proj_wgs84, proj_utm, lon, lat) for lat, lon in points_area]\n",
      "c:\\Users\\User\\AppData\\Local\\Programs\\Python\\Python312\\Lib\\site-packages\\pyproj\\crs\\crs.py:141: FutureWarning: '+init=<authority>:<code>' syntax is deprecated. '<authority>:<code>' is the preferred initialization method. When making the change, be mindful of axis order changes: https://pyproj4.github.io/pyproj/stable/gotchas.html#axis-order-changes-in-proj-6\n",
      "  in_crs_string = _prepare_from_proj_string(in_crs_string)\n",
      "c:\\Code\\ditto_v2\\src\\functionality_maps\\f_gadm.py:193: FutureWarning: This function is deprecated. See: https://pyproj4.github.io/pyproj/stable/gotchas.html#upgrading-to-pyproj-2-from-pyproj-1\n",
      "  projected_points = [transform(proj_wgs84, proj_utm, lon, lat) for lat, lon in points_area]\n",
      "c:\\Users\\User\\AppData\\Local\\Programs\\Python\\Python312\\Lib\\site-packages\\pyproj\\crs\\crs.py:141: FutureWarning: '+init=<authority>:<code>' syntax is deprecated. '<authority>:<code>' is the preferred initialization method. When making the change, be mindful of axis order changes: https://pyproj4.github.io/pyproj/stable/gotchas.html#axis-order-changes-in-proj-6\n",
      "  in_crs_string = _prepare_from_proj_string(in_crs_string)\n",
      "c:\\Code\\ditto_v2\\src\\functionality_maps\\f_gadm.py:193: FutureWarning: This function is deprecated. See: https://pyproj4.github.io/pyproj/stable/gotchas.html#upgrading-to-pyproj-2-from-pyproj-1\n",
      "  projected_points = [transform(proj_wgs84, proj_utm, lon, lat) for lat, lon in points_area]\n",
      "c:\\Users\\User\\AppData\\Local\\Programs\\Python\\Python312\\Lib\\site-packages\\pyproj\\crs\\crs.py:141: FutureWarning: '+init=<authority>:<code>' syntax is deprecated. '<authority>:<code>' is the preferred initialization method. When making the change, be mindful of axis order changes: https://pyproj4.github.io/pyproj/stable/gotchas.html#axis-order-changes-in-proj-6\n",
      "  in_crs_string = _prepare_from_proj_string(in_crs_string)\n",
      "c:\\Code\\ditto_v2\\src\\functionality_maps\\f_gadm.py:193: FutureWarning: This function is deprecated. See: https://pyproj4.github.io/pyproj/stable/gotchas.html#upgrading-to-pyproj-2-from-pyproj-1\n",
      "  projected_points = [transform(proj_wgs84, proj_utm, lon, lat) for lat, lon in points_area]\n"
     ]
    },
    {
     "name": "stdout",
     "output_type": "stream",
     "text": [
      " ### 2. FG WITH CIRCLES AROUND STORES ###\n",
      "### 3. FG WITH JOIN OF GEOM AND CIRCLES ###\n",
      " ### 4. FG WITH INTERSECTION OF GEOM AND CIRCLES ###\n"
     ]
    },
    {
     "ename": "NameError",
     "evalue": "name 'lon' is not defined",
     "output_type": "error",
     "traceback": [
      "\u001b[1;31m---------------------------------------------------------------------------\u001b[0m",
      "\u001b[1;31mNameError\u001b[0m                                 Traceback (most recent call last)",
      "Cell \u001b[1;32mIn[16], line 67\u001b[0m\n\u001b[0;32m     64\u001b[0m fg_join_ind \u001b[38;5;241m=\u001b[39m folium\u001b[38;5;241m.\u001b[39mFeatureGroup(name\u001b[38;5;241m=\u001b[39m\u001b[38;5;124mf\u001b[39m\u001b[38;5;124m'\u001b[39m\u001b[38;5;124mIndividual Join\u001b[39m\u001b[38;5;124m'\u001b[39m)\n\u001b[0;32m     66\u001b[0m \u001b[38;5;66;03m# Convert the Shapely circle to a geoDataFrame\u001b[39;00m\n\u001b[1;32m---> 67\u001b[0m poly_circle \u001b[38;5;241m=\u001b[39m f_maps\u001b[38;5;241m.\u001b[39mcircle_latlon(lon\u001b[38;5;241m=\u001b[39m\u001b[43mlon\u001b[49m, lat\u001b[38;5;241m=\u001b[39mlat, radius\u001b[38;5;241m=\u001b[39m\u001b[38;5;241m1000\u001b[39m \u001b[38;5;241m*\u001b[39m radius_km)\n\u001b[0;32m     68\u001b[0m gdf \u001b[38;5;241m=\u001b[39m gpd\u001b[38;5;241m.\u001b[39mGeoSeries([poly_circle])\n\u001b[0;32m     69\u001b[0m gdf_overlay \u001b[38;5;241m=\u001b[39m gdf\u001b[38;5;241m.\u001b[39mto_frame(name\u001b[38;5;241m=\u001b[39m\u001b[38;5;124m'\u001b[39m\u001b[38;5;124mgeometry\u001b[39m\u001b[38;5;124m'\u001b[39m)\u001b[38;5;241m.\u001b[39mset_crs(epsg\u001b[38;5;241m=\u001b[39m\u001b[38;5;241m4326\u001b[39m)\n",
      "\u001b[1;31mNameError\u001b[0m: name 'lon' is not defined"
     ]
    }
   ],
   "source": [
    "from src.functionality_maps import f_maps, f_gadm\n",
    "\n",
    "d_fglc = {}\n",
    "# l_stores= ['sportscheck']\n",
    "l_stores= ['decathlon']\n",
    "# l_stores = ['sportscheck', 'decathlon','intersport']\n",
    "for i,store_sel in enumerate(l_stores):\n",
    "    print(f'[{i+1}/{len(l_stores)}] Store={store_sel}')\n",
    "\n",
    "    ### FILTER BY STORE ###\n",
    "    pdf_stores_store = pdf_stores[pdf_stores['store'] == store_sel]\n",
    "    print(f'  # stores={pdf_stores_store.shape[0]}')\n",
    "\n",
    "    ### 1. FG WITH MARKERS ###\n",
    "    print(f' ### 1. FG WITH MARKERS ###')\n",
    "    fg_mk_store = f_gadm.get_fg_store(pdf_stores_store, [store_sel])\n",
    "    fg_mk_store = fg_mk_store[0]\n",
    "    # fg_stores = f_maps.get_fg_markers(df=pdf_stores, \n",
    "    #                                   name=f'Stores [{pdf_stores.shape[0]}]',\n",
    "    #                                   l_tooltip=['name', 'address'],\n",
    "    #                                   l_popup=['url'])\n",
    "\n",
    "    ### 2. FG WITH CIRCLES AROUND STORES ###\n",
    "    print(f' ### 2. FG WITH CIRCLES AROUND STORES ###')\n",
    "    gdf_circles_store = f_maps.get_gdf_circle(df=pdf_stores_store, radius_km= radius_km)\n",
    "    fg_circ_store = folium.FeatureGroup(name=f'Circles [r={radius_km}Km]')\n",
    "    f_maps.get_folium_geojson(gdf_circles_store, \n",
    "                                fields=['store','name', 'address'],\n",
    "                                aliases = ['store', 'name', 'address'],\n",
    "                                fill_color = d_inputs['stores'][store_sel]['color']\n",
    "                                ).add_to(fg_circ_store)\n",
    "\n",
    "    ### 3. FG WITH JOIN OF GEOM AND CIRCLES ###\n",
    "    print('### 3. FG WITH JOIN OF GEOM AND CIRCLES ###')\n",
    "    gdf_joi_circ_geom_store = gpd.sjoin(gdf_geom_4326, gdf_circles_store.to_crs(4326), how=\"inner\", predicate=\"intersects\")\n",
    "    gdf_joi_circ_geom_store['KFL_GPD'] = round(gdf_census_6993.to_crs(6933).geometry.area / 10**6, round_dec)\n",
    "\n",
    "    ### FEATURE GROUP ###\n",
    "    fg_joi_circ_geom_store = folium.FeatureGroup(name=f'Join')\n",
    "    gjson_store = f_maps.get_folium_geojson(gdf_joi_circ_geom_store, \n",
    "                                    fields=['GEN', 'EWZ', 'KFL', 'KFL_GPD'],\n",
    "                                    aliases = ['Name', 'Population', 'Area_dbms', 'Area_Geom']).add_to(fg_joi_circ_geom_store)\n",
    "\n",
    "\n",
    "    ### 4. FG WITH INTERSECTION OF GEOM AND CIRCLES ###\n",
    "    print(f\" ### 4. FG WITH INTERSECTION OF GEOM AND CIRCLES ###\")\n",
    "    gdf_int_circ_geom = gpd.overlay(gdf_census.to_crs(epsg=6933), \n",
    "                                    gdf_circles_store[['geometry','store','store_name']].to_crs(6933), \n",
    "                                    how='intersection')\n",
    "    gdf_int_circ_geom['area'] = gdf_int_circ_geom.geometry.area / 10**6\n",
    "\n",
    "    fg_int_circ_geom_store = folium.FeatureGroup('Intersection')\n",
    "    f_maps.get_folium_geojson(gdf_int_circ_geom,#.to_crs(4326), \n",
    "                                fields=['GEN','store_name', 'EWZ', 'KFL', 'area'],\n",
    "                                aliases = ['Location','store_name', 'Pop', 'Area_dbms[Km2]', 'Area_geom[Km2]'],\n",
    "                                fill_color = d_inputs['stores'][store_sel]['color']).add_to(fg_int_circ_geom_store)\n",
    "    \n",
    "\n",
    "\n",
    "    # #### ADDED FOR PERCENTAGE INTERSECTION\n",
    "    # ########################################\n",
    "    # ########################################\n",
    "\n",
    "    fg_join_ind = folium.FeatureGroup(name=f'Individual Join')\n",
    "\n",
    "    # Convert the Shapely circle to a geoDataFrame\n",
    "    poly_circle = f_maps.circle_latlon(lon=lon, lat=lat, radius=1000 * radius_km)\n",
    "    gdf = gpd.GeoSeries([poly_circle])\n",
    "    gdf_overlay = gdf.to_frame(name='geometry').set_crs(epsg=4326)\n",
    "    gdf_circle_6933 = gdf_overlay.to_crs(epsg=6933)\n",
    "    gdf_overlay = gpd.overlay(gdf_census_6993, gdf_circle_6933, how='intersection')\n",
    "\n",
    "    # Set the column used for NORMALIZATION (numerator)\n",
    "    gdf_overlay['area'] = round(gdf_overlay['geometry'].area / 10**6, 3)\n",
    "    gdf_overlay[col_perc_geom] = round(gdf_overlay['area'] / gdf_overlay['area_geom'], 3)\n",
    "    \n",
    "    gdf_overlay = f_maps.overlay_shapes(gdf_circle=gdf_overlay,\n",
    "                                        col_perc=col_perc_geom, \n",
    "                                        d_columns=d_columns)\n",
    "    gdf_overlay = gdf_overlay.drop_duplicates(subset=['OBJID'])\n",
    "    gdf_overlay[col_perc_dbms] = round(gdf_overlay['KFL_int'] / gdf_overlay['KFL'], 3)\n",
    "    gdf_overlay[col_perc_pop] = round(gdf_overlay['EWZ_int'] / gdf_overlay['EWZ'], 3)\n",
    "    gdf_overlay['store_name'] = store_name\n",
    "\n",
    "    gjson_store = f_maps.get_folium_geojson(gdf_overlay,#.to_crs(4326), \n",
    "                                    fields=[\n",
    "                                        'store_name', 'GEN',\n",
    "                                        # 'KFL_int', 'KFL', # col_perc_dbms, \n",
    "                                        'area_geom_int', 'area_geom', col_perc_geom,\n",
    "                                        'EWZ_int', 'EWZ', col_perc_pop,\n",
    "                                        # 'num_in', 'num_part', \n",
    "                                        ],\n",
    "                                    aliases = [\n",
    "                                        'Store', 'City',\n",
    "                                        # 'Area_dbms intersection [Km2]', 'Area_dbms shape [Km2]','Percentage dbms', \n",
    "                                        'Area_geom intersection [Km2]', 'Area_geom shape [Km2]', 'Percentage geometry',\n",
    "                                        'Population inside', 'Population total', 'Percentage population'\n",
    "                                        # 'Localities inside', 'Localities partially inside',\n",
    "                                        ])\n",
    "    gjson_store.add_to(fg_join_ind)\n",
    "\n",
    "#     # #### ADDED FOR PERCENTAGE INTERSECTION\n",
    "#     # ########################################\n",
    "#     # ########################################\n",
    "\n",
    "\n",
    "    \n",
    "\n",
    "\n",
    "    ### 5. FG WITH MERGE OF GEOM AND CIRCLES ###\n",
    "    print(f\" ### 5. FG WITH MERGE OF GEOM AND CIRCLES ###\")\n",
    "    gdf_mer_circ_geom = gdf_int_circ_geom.groupby(['store','store_name']).agg( \\\n",
    "        {'geometry': lambda x: x.geometry.union_all(),\n",
    "        'EWZ':'sum', \n",
    "        'KFL' : 'sum',\n",
    "        }).set_geometry(\"geometry\").set_crs(6933).reset_index()\n",
    "    gdf_mer_circ_geom['area_geom'] = gdf_mer_circ_geom.geometry.area / 10**6\n",
    "    fg_mer_circ_geom_store = folium.FeatureGroup('Merge')\n",
    "    gjson_store = f_maps.get_folium_geojson(gdf_mer_circ_geom.to_crs(4326),\n",
    "                            fields=['store', 'store_name', 'EWZ', 'area_geom', 'KFL'],\n",
    "                            aliases = ['store','store_name', 'Pop', 'Area_geom[Km2]', 'Area_dbms[Km2]'],\n",
    "                            fill_color = d_inputs['stores'][store_sel]['color']).add_to(fg_mer_circ_geom_store)\n",
    "\n",
    "    ### 6. FG WITH UNION OF ALL (GEOM,CIRCLES) ###\n",
    "    print(f\" ### 6. FG WITH UNION OF ALL (GEOM,CIRCLES) ###\")\n",
    "    poly_merged = gdf_mer_circ_geom.geometry.union_all()\n",
    "    gdf_store_circles_merged = gpd.GeoSeries([poly_merged]).to_frame(name='geometry').set_crs(epsg=6933)\n",
    "    num_stores = gdf_mer_circ_geom.shape[0]\n",
    "    area_total = round(gdf_store_circles_merged.to_crs(6933).geometry.area.sum() / 10**6, round_dec)\n",
    "    # perc_area  = round(area_total/fg_geom_area, round_dec)\n",
    "\n",
    "\n",
    "\n",
    "    gdf_int_merg_store = gpd.overlay(gdf_census_6993, gdf_store_circles_merged.to_crs(6933), how='intersection')\n",
    "    Pop_sum=round(gdf_int_merg_store.EWZ.sum()/10**6 , round_dec)\n",
    "    print(f'Pop sum={Pop_sum}M')\n",
    "    # str_legend = f'[# Stores={num_stores},' \\\n",
    "    #             f'area ={area_total}Km2, ' \\\n",
    "    #             f'perc_area = {perc_area}]'\n",
    "\n",
    "    gdf_store_circles_merged['num_stores'] = num_stores\n",
    "    gdf_store_circles_merged['KFL'] = gdf_mer_circ_geom.KFL.sum()\n",
    "    gdf_store_circles_merged['EWZ'] = Pop_sum\n",
    "    gdf_store_circles_merged['area'] = round(gdf_store_circles_merged.geometry.area.sum()/10**6, round_dec)\n",
    "    gdf_store_circles_merged['perc_area'] = round(gdf_store_circles_merged['area'] / fg_geom_area, round_dec)\n",
    "    gdf_store_circles_merged['perc_pop'] = round((Pop_sum) / fg_geom_pop, round_dec)\n",
    "    print(f'Total pop={fg_geom_pop}')\n",
    "\n",
    "    fg_uni_circ_geom_store = folium.FeatureGroup(name=f'Union')\n",
    "    gjson_store = f_maps.get_folium_geojson(gdf_store_circles_merged.to_crs(4326),\n",
    "                                    fields=['num_stores','area', 'perc_area', 'EWZ', 'perc_pop'],\n",
    "                                    aliases = ['# Stores','Area [Km2]', 'Area perc.', 'Pop', 'Pop perc.'],\n",
    "                                    is_styled = True,\n",
    "                                    fill_color = d_inputs['stores'][store_sel]['color']\n",
    "                                    ).add_to(fg_uni_circ_geom_store)\n",
    "\n",
    "\n",
    "\n",
    "\n",
    "\n",
    "\n",
    "    ### ADDING all FG into a list ###\n",
    "    print(' Adding all FGs')\n",
    "    l_fg_store = [                  # For a STORE CHAING (e.g. Intersport)\n",
    "        fg_mk_store,                    # FG with IND Markers of stores\n",
    "        fg_circ_store,                  # FG with IND GeoJsons of circles of radius `radius_km` around stores\n",
    "        fg_joi_circ_geom_store,         # FG with IND GeoJsons of the JOIN (Geometries, circles around stores)\n",
    "        fg_int_circ_geom_store,         # FG with IND GeoJsons of the INTERSECTION (Geometries, circles around stores)\n",
    "        # fg_merge_int,\n",
    "        fg_mer_circ_geom_store,         # FG with IND GeoJsons of the MERGE (Geometries, circles around stores)\n",
    "        fg_uni_circ_geom_store          # FG with ALL GeoJsons of the UNION of the MERGE (Geometries, circles around stores)\n",
    "        ]\n",
    "\n",
    "    ### GENERATING GroupedLayerControl FOR STORE ###\n",
    "    fglc_store = folium.plugins.GroupedLayerControl(\n",
    "        groups={f'{store_sel}': l_fg_store},\n",
    "        exclusive_groups=False,\n",
    "        collapsed=False,\n",
    "    )\n",
    "\n",
    "    ### SAVING IT IN THE DICTIONARY ###\n",
    "    d_fglc[store_sel] = {\n",
    "        'l_children' : l_fg_store,\n",
    "        'fglc' : fglc_store,\n",
    "        'fg_1_mk_stores' : fg_mk_store,\n",
    "        'fg_2_gj_circles': fg_circ_store,\n",
    "        'fg_3_gj_join': fg_joi_circ_geom_store,\n",
    "        'fg_4_gj_intersect': fg_int_circ_geom_store,\n",
    "        'fg_5_gj_merge' : fg_mer_circ_geom_store,\n",
    "        'fg_6_gj_union' : fg_uni_circ_geom_store,\n",
    "\n",
    "        'df_5_merge' : gdf_mer_circ_geom,\n",
    "        'df_6_union' : gdf_store_circles_merged\n",
    "    }"
   ]
  },
  {
   "cell_type": "markdown",
   "metadata": {},
   "source": [
    "## 3.3. ALL STORES `fg_merged_allstores`"
   ]
  },
  {
   "cell_type": "code",
   "execution_count": 47,
   "metadata": {},
   "outputs": [
    {
     "name": "stdout",
     "output_type": "stream",
     "text": [
      "[1/1] Store:decathlon\n"
     ]
    },
    {
     "data": {
      "text/html": [
       "<div>\n",
       "<style scoped>\n",
       "    .dataframe tbody tr th:only-of-type {\n",
       "        vertical-align: middle;\n",
       "    }\n",
       "\n",
       "    .dataframe tbody tr th {\n",
       "        vertical-align: top;\n",
       "    }\n",
       "\n",
       "    .dataframe thead th {\n",
       "        text-align: right;\n",
       "    }\n",
       "</style>\n",
       "<table border=\"1\" class=\"dataframe\">\n",
       "  <thead>\n",
       "    <tr style=\"text-align: right;\">\n",
       "      <th></th>\n",
       "      <th>geometry</th>\n",
       "      <th>num_stores</th>\n",
       "      <th>KFL</th>\n",
       "      <th>EWZ</th>\n",
       "      <th>area</th>\n",
       "      <th>perc_area</th>\n",
       "      <th>perc_pop</th>\n",
       "      <th>BL</th>\n",
       "    </tr>\n",
       "  </thead>\n",
       "  <tbody>\n",
       "    <tr>\n",
       "      <th>0</th>\n",
       "      <td>MULTIPOLYGON (((832564.14 5415358.655, 832571....</td>\n",
       "      <td>14</td>\n",
       "      <td>21308</td>\n",
       "      <td>7745903</td>\n",
       "      <td>11707.24</td>\n",
       "      <td>0.33</td>\n",
       "      <td>686693.53</td>\n",
       "      <td>BW</td>\n",
       "    </tr>\n",
       "  </tbody>\n",
       "</table>\n",
       "</div>"
      ],
      "text/plain": [
       "                                            geometry  num_stores    KFL  \\\n",
       "0  MULTIPOLYGON (((832564.14 5415358.655, 832571....          14  21308   \n",
       "\n",
       "       EWZ      area  perc_area   perc_pop  BL  \n",
       "0  7745903  11707.24       0.33  686693.53  BW  "
      ]
     },
     "execution_count": 47,
     "metadata": {},
     "output_type": "execute_result"
    }
   ],
   "source": [
    "df = pd.DataFrame()\n",
    "for i,(k,v) in enumerate(d_fglc.items()):\n",
    "    print(f'[{i+1}/{len(d_fglc)}] Store:{k}')\n",
    "    # v[\"key\"] = k\n",
    "    df = pd.concat([df, v['df_6_union']], ignore_index=True)\n",
    "df['BL'] = 'BW'\n",
    "df"
   ]
  },
  {
   "cell_type": "code",
   "execution_count": null,
   "metadata": {},
   "outputs": [],
   "source": [
    "poly_merged_allstores = df.geometry.union_all()\n",
    "gdf_merged_allstores = gpd.GeoSeries([poly_merged_allstores]).to_frame(name='geometry').set_crs(epsg=6933)\n",
    "\n",
    "gdf_merged_allstores = df.groupby('BL').agg( \\\n",
    "        {'geometry': lambda x: x.geometry.union_all(),\n",
    "        'num_stores':'sum', \n",
    "        }).set_geometry(\"geometry\").set_crs(6933).reset_index()\n",
    "\n",
    "gdf_merged_allstores_int_census = gpd.overlay(gdf_census_6993, \n",
    "                                              gdf_merged_allstores.to_crs(6933), how='intersection')\n",
    "\n",
    "Pop_sum = gdf_merged_allstores_int_census.EWZ.sum()\n",
    "gdf_merged_allstores['EWZ'] = Pop_sum\n",
    "gdf_merged_allstores['area'] = round(gdf_merged_allstores.geometry.area.sum()/10**6, round_dec)\n",
    "gdf_merged_allstores['perc_area'] = round(gdf_merged_allstores['area'] / fg_geom_area, round_dec)\n",
    "gdf_merged_allstores['perc_pop'] = round((Pop_sum/10**6) / fg_geom_pop, round_dec)\n",
    "\n",
    "# gdf_merged_allstores\n",
    "\n",
    "fg_merged_allstores = folium.FeatureGroup(name=f'Stores[{gdf_merged_allstores.num_stores.values[0]}]')\n",
    "gjson_store = f_maps.get_folium_geojson(gdf_merged_allstores.to_crs(4326),\n",
    "                                fields=['num_stores','area', 'perc_area', 'EWZ', 'perc_pop'],\n",
    "                                aliases = ['# Stores','Area [Km2]', 'Area perc.', 'Pop', 'Pop perc.'],\n",
    "                                is_styled = True\n",
    "                                ).add_to(fg_merged_allstores)\n",
    "\n",
    "l_fg_merged_allstores = [fg_merged_allstores]\n",
    "### GENERATING GroupedLayerControl FOR STORE ###\n",
    "fglc_all_stores = folium.plugins.GroupedLayerControl(\n",
    "    groups={'All stores': l_fg_merged_allstores},\n",
    "    exclusive_groups=False,\n",
    "    collapsed=False,\n",
    ")"
   ]
  },
  {
   "cell_type": "markdown",
   "metadata": {},
   "source": [
    "## 3.4. NEW CODE -> GEOM+STORES (Intersections,Merges)"
   ]
  },
  {
   "cell_type": "markdown",
   "metadata": {},
   "source": [
    "### Feature group Intersection (`fg_int_circ_geom` using `gdf_int_circ_geom`)"
   ]
  },
  {
   "cell_type": "code",
   "execution_count": 35,
   "metadata": {},
   "outputs": [],
   "source": [
    "gdf_int_circ_geom = gpd.overlay(gdf_census.to_crs(epsg=6933), \n",
    "                                gdf_store_circles[['geometry','store','store_name']].to_crs(6933), \n",
    "                                how='intersection')"
   ]
  },
  {
   "cell_type": "code",
   "execution_count": 41,
   "metadata": {},
   "outputs": [
    {
     "data": {
      "text/plain": [
       "<folium.features.GeoJson at 0x1a84ddb7fb0>"
      ]
     },
     "execution_count": 41,
     "metadata": {},
     "output_type": "execute_result"
    }
   ],
   "source": [
    "fg_int_circ_geom = folium.FeatureGroup('overlay')\n",
    "gjson_store = f_maps.get_folium_geojson(gdf_int_circ_geom,#.to_crs(4326), \n",
    "                        fields=['GEN','store_name', 'EWZ', 'KFL'],\n",
    "                        aliases = ['Location','store_name', 'Pop', 'Area_dbms'])\n",
    "gjson_store.add_to(fg_int_circ_geom)"
   ]
  },
  {
   "cell_type": "markdown",
   "metadata": {},
   "source": [
    "### Feature group Merge (`fg_mer_circ_geom` using `gdf_mer_circ_geom`)"
   ]
  },
  {
   "cell_type": "code",
   "execution_count": 37,
   "metadata": {},
   "outputs": [],
   "source": [
    "gdf_mer_circ_geom = gdf_int_circ_geom.groupby(['store','store_name']).agg( \\\n",
    "        {'geometry': lambda x: x.geometry.union_all(),\n",
    "        'EWZ':'sum', \n",
    "        'KFL' : 'sum',\n",
    "        }).set_geometry(\"geometry\").set_crs(6933).reset_index()\n",
    "gdf_mer_circ_geom['area_geom'] = gdf_mer_circ_geom.geometry.area / 10**6\n",
    "# gdf_me.head()"
   ]
  },
  {
   "cell_type": "code",
   "execution_count": 38,
   "metadata": {},
   "outputs": [
    {
     "data": {
      "text/plain": [
       "<folium.features.GeoJson at 0x1a832cd3590>"
      ]
     },
     "execution_count": 38,
     "metadata": {},
     "output_type": "execute_result"
    }
   ],
   "source": [
    "fg_mer_circ_geom = folium.FeatureGroup('merge')\n",
    "gjson_store = f_maps.get_folium_geojson(gdf_mer_circ_geom.to_crs(4326),\n",
    "                        fields=['store', 'store_name', 'EWZ', 'area_geom', 'KFL'],\n",
    "                        aliases = ['store','store_name', 'Pop', 'Area_geom[Km2]', 'Area_dbms[Km2]'])\n",
    "gjson_store.add_to(fg_mer_circ_geom)"
   ]
  },
  {
   "cell_type": "markdown",
   "metadata": {},
   "source": [
    "## 3.5.OLD CODE"
   ]
  },
  {
   "cell_type": "markdown",
   "metadata": {},
   "source": [
    "### Feature Group Circles (`fg_circ` using `gdf_store_circles`)\n",
    "[`pdf_stores` and `radius_km`]"
   ]
  },
  {
   "cell_type": "code",
   "execution_count": 29,
   "metadata": {},
   "outputs": [
    {
     "data": {
      "text/plain": [
       "<folium.features.GeoJson at 0x2395939d6a0>"
      ]
     },
     "execution_count": 29,
     "metadata": {},
     "output_type": "execute_result"
    }
   ],
   "source": [
    "import math, folium\n",
    "\n",
    "gdf_store_circles = f_maps.get_gdf_circle(df=pdf_stores, radius_km= radius_km)\n",
    "# gdf_store_circles.shape\n",
    "\n",
    "fg_geom_area = gdf_census_merged.area_geom.sum()\n",
    "num_stores = gdf_store_circles.shape[0]\n",
    "area_circ  = round(math.pi * radius_km**2, round_dec)\n",
    "area_total = round(num_stores*area_circ, round_dec)\n",
    "perc_area  = round(area_total/fg_geom_area, round_dec)\n",
    "\n",
    "str_legend = f'[# Circles={num_stores}, radius={radius_km}Km, ' \\\n",
    "             f'area circle={area_circ}Km2, ' \\\n",
    "             f'area total ={area_total}Km2, ' \\\n",
    "             f'perc_area = {perc_area}]'\n",
    "# str_legend\n",
    "fg_circ_store = folium.FeatureGroup(name=f'Circles {str_legend}')\n",
    "gjson_store = f_maps.get_folium_geojson(gdf_store_circles, \n",
    "                                fields=['store','name', 'address'],\n",
    "                                # aliases = ['Shop']\n",
    "                                )\n",
    "gjson_store.add_to(fg_circ_store)"
   ]
  },
  {
   "cell_type": "markdown",
   "metadata": {},
   "source": [
    "<!-- ### Featour Group Circles union (`fg_circ_union`) -->"
   ]
  },
  {
   "cell_type": "markdown",
   "metadata": {},
   "source": [
    "### Feature Group Circles (`fg_circ_merged` using `gdf_store_circles_merged`)\n",
    "[`pdf_stores` and `radius_km`])"
   ]
  },
  {
   "cell_type": "code",
   "execution_count": 30,
   "metadata": {},
   "outputs": [
    {
     "data": {
      "text/plain": [
       "<folium.features.GeoJson at 0x2396a7538f0>"
      ]
     },
     "execution_count": 30,
     "metadata": {},
     "output_type": "execute_result"
    }
   ],
   "source": [
    "poly_merged = gdf_store_circles.geometry.union_all()\n",
    "gdf_store_circles_merged = gpd.GeoSeries([poly_merged]).to_frame(name='geometry').set_crs(epsg=4326)\n",
    "num_stores = gdf_store_circles.shape[0]\n",
    "area_total = round(gdf_store_circles_merged.to_crs(6933).geometry.area.sum() / 10**6, round_dec)\n",
    "perc_area  = round(area_total/fg_geom_area, round_dec)\n",
    "\n",
    "\n",
    "str_legend = f'[# Stores={num_stores},' \\\n",
    "             f'area ={area_total}Km2, ' \\\n",
    "             f'perc_area = {perc_area}]'\n",
    "\n",
    "gdf_store_circles_merged['num_stores'] = num_stores\n",
    "gdf_store_circles_merged['area'] = area_total\n",
    "gdf_store_circles_merged['perc_area'] = perc_area\n",
    "\n",
    "\n",
    "fg_circ_merged = folium.FeatureGroup(name=f'Circles Merged {str_legend}')\n",
    "gjson_store = f_maps.get_folium_geojson(gdf_store_circles_merged, \n",
    "                                fields=['num_stores','area', 'perc_area'],\n",
    "                                aliases = ['# Stores','Area [Km2]', 'Percentage'],\n",
    "                                is_styled = True\n",
    "                                )\n",
    "gjson_store.add_to(fg_circ_merged)"
   ]
  },
  {
   "cell_type": "markdown",
   "metadata": {},
   "source": [
    "### Feature Group MERGE (`fg_merge` using [`gdf_intersection`, `gdf_overlay`])"
   ]
  },
  {
   "cell_type": "code",
   "execution_count": 34,
   "metadata": {},
   "outputs": [],
   "source": [
    "if ('centroid' in gdf_census_6993.columns):\n",
    "    gdf_census_6993 = gdf_census_6993.drop(columns=['centroid'])\n",
    "\n",
    "col_perc_dbms = 'PERC_dbms_int'\n",
    "col_perc_geom = 'PERC_geom_int'\n",
    "col_perc_pop = 'PERC_pop'\n",
    "l_cols_percentaged = ['area_geom', 'EWZ', 'KFL']\n",
    "\n",
    "d_columns = {\n",
    "    'area_geom':{'alias' : 'area',        'is_norm': True,  'is_int':False},\n",
    "    'KFL':     {'alias' : 'area_data',    'is_norm': True,  'is_int':False},\n",
    "    'EWZ':     {'alias' : 'Population',   'is_norm': True,  'is_int':True}\n",
    "}"
   ]
  },
  {
   "cell_type": "code",
   "execution_count": 35,
   "metadata": {},
   "outputs": [
    {
     "name": "stdout",
     "output_type": "stream",
     "text": [
      "area_geom = 15824.6\n",
      "area_geom_int = 11707.2\n",
      "EWZ = 7745903\n",
      "EWZ_int = 6464690\n",
      "KFL = 15571\n",
      "KFL_int = 11501.14\n",
      "perc_data = 0.74\n",
      "perc_geom = 0.74\n"
     ]
    },
    {
     "data": {
      "text/plain": [
       "<folium.features.GeoJson at 0x23971289c10>"
      ]
     },
     "execution_count": 35,
     "metadata": {},
     "output_type": "execute_result"
    }
   ],
   "source": [
    "############# OVERLAY / individual ####################\n",
    "\n",
    "# Set the column used for NORMALIZATION (denominator)\n",
    "gdf_intersection = gpd.overlay(gdf_census_6993, gdf_store_circles_merged.to_crs(6933), how='intersection')\n",
    "gdf_intersection = gdf_intersection.drop_duplicates()\n",
    "gdf_intersection['area'] = round(gdf_intersection['geometry'].area / 10**6, 2)\n",
    "gdf_intersection[col_perc_geom] = gdf_intersection['area'] / gdf_intersection['area_geom']\n",
    "\n",
    "# Generate Overlay with the intersection and drop duplicates\n",
    "gdf_overlay = f_maps.overlay_shapes(gdf_circle=gdf_intersection,\n",
    "                                    col_perc=col_perc_geom, \n",
    "                                    d_columns=d_columns)\n",
    "gdf_overlay_dd = gdf_overlay.drop_duplicates(subset=['OBJID'])\n",
    "\n",
    "# Merge Overlay\n",
    "gdf_merge = f_maps.merge_shapes(gdf_intersection, l_col_percs=l_cols_percentaged,\n",
    "                                d_percs={'data':'KFL', 'geom':'area_geom'}, \n",
    "                                num_dec=round_dec, is_logging=True)\n",
    "gdf_merge = gdf_merge.drop_duplicates()\n",
    "\n",
    "\n",
    "total_area_geom = round(gdf_census_6993.geometry.area.sum() / 10**6, round_dec)\n",
    "total_area_pop = round(gdf_census_6993.EWZ.sum() / 10**6, round_dec)\n",
    "# merge_area_dbms = round(gdf_census_6993.KFL.sum(), round_dec)\n",
    "# merge_area_circ = round(gdf_store_circles_merged.to_crs(6933).geometry.area.sum() / 10**6, round_dec)\n",
    "merge_area_inside = round(gdf_intersection[\"area\"].sum() , round_dec)\n",
    "perc_area_inside  = round(merge_area_inside/total_area_geom, round_dec)\n",
    "pop_inside =  round(gdf_merge.EWZ_int.sum() / 10**6, round_dec)\n",
    "pop_total =  round(gdf_merge.EWZ.sum() / 10**6, round_dec)\n",
    "perc_pop = round(pop_inside/total_area_pop, round_dec)\n",
    "\n",
    "\n",
    "gdf_merge['EWZ'] = gdf_merge.EWZ.sum()\n",
    "gdf_merge['KFL'] = gdf_merge.KFL.sum()\n",
    "\n",
    "# area_dbms={merge_area_dbms}Km2,  \\\n",
    "# area_circ_merged={merge_area_circ}Km2, \\\n",
    "msg_merge = f'area_int={merge_area_inside}Km2, \\\n",
    "              total_area_geom={total_area_geom}Km2,  \\\n",
    "              perc_area={perc_area_inside}, \\\n",
    "              Pop_inside={pop_inside}M,  \\\n",
    "              Pop_total={total_area_pop}M, \\\n",
    "              perc_pop={perc_pop} '\n",
    "\n",
    "\n",
    "fg_merge = folium.FeatureGroup(name=f'Merge (Geom, Circles) [{msg_merge}]')\n",
    "\n",
    "# gdf_merge['num_in'] = gdf_inside.shape[0]\n",
    "# gdf_merge['num_part'] = gdf_partly.shape[0]\n",
    "gjson_store = f_maps.get_folium_geojson(gdf_merge, \n",
    "                                  fields=[\n",
    "                                    # 'KFL_int', 'KFL', 'perc_data', \n",
    "                                    'area_geom_int', 'area_geom', 'perc_geom',\n",
    "                                    'EWZ_int', 'EWZ',\n",
    "                                    # 'num_in', 'num_part', \n",
    "                                    ],\n",
    "                                  aliases = [\n",
    "                                    # 'Area_dbms intersection [Km2]', 'Area_dbms shape [Km2]','Percentage dbms', \n",
    "                                    'Area_geom intersection [Km2]', 'Area_geom shape [Km2]','Percentage geometry',\n",
    "                                    'Population intersection', 'Population shape',\n",
    "                                    # '# Localities inside', \n",
    "                                    # '# Localities partially inside',\n",
    "                                    ])\n",
    "gjson_store.add_to(fg_merge)"
   ]
  },
  {
   "cell_type": "markdown",
   "metadata": {},
   "source": [
    "### Feature Group INDIV (`fg_join_ind` and `fg_merge_ind`)"
   ]
  },
  {
   "cell_type": "code",
   "execution_count": 32,
   "metadata": {},
   "outputs": [
    {
     "name": "stdout",
     "output_type": "stream",
     "text": [
      "[1/14] center_point=(49.00488565, 8.449674128073184, 'decathlon_Karlsruhe-Durlach')\n",
      "[2/14] center_point=(48.4007813, 9.9583729, 'decathlon_Ulm')\n",
      "[3/14] center_point=(48.7026898, 9.437392619846309, 'decathlon_Plochingen')\n",
      "[4/14] center_point=(48.7965766, 8.19518157114592, 'decathlon_Baden - Baden')\n",
      "[5/14] center_point=(48.8201891, 10.045626348192611, 'decathlon_Aalen-Essingen')\n",
      "[6/14] center_point=(49.3941626, 8.57783239839136, 'decathlon_Schwetzingen')\n",
      "[7/14] center_point=(48.6882907, 9.0090554, 'decathlon_Böblingen')\n",
      "[8/14] center_point=(47.610891699999996, 7.661843945356753, 'decathlon_Lörrach')\n",
      "[9/14] center_point=(48.900043, 9.1916945, 'decathlon_Ludwigsburg')\n",
      "[10/14] center_point=(49.1460258, 9.2214379, 'decathlon_Heilbronn-K3')\n",
      "[11/14] center_point=(48.472267200000005, 7.944426365060242, 'decathlon_Offenburg')\n",
      "[12/14] center_point=(47.7599556, 8.8420214, 'decathlon_Singen')\n",
      "[13/14] center_point=(48.791258850000006, 9.182104646022687, 'decathlon_Stuttgart-Milaneo')\n",
      "[14/14] center_point=(48.8168724, 9.300342163579177, 'decathlon_Waiblingen')\n"
     ]
    }
   ],
   "source": [
    "fg_join_ind = folium.FeatureGroup(name=f'Individual Join [#Stores={len(l_center_points)}]')\n",
    "fg_merge_ind = folium.FeatureGroup(name=f'Individual Merge [#Stores={len(l_center_points)}]')\n",
    "# gdf_sc_6933 = gdf_store_circles.to_crs(6933)\n",
    "\n",
    "# for i,(index,store) in enumerate(gdf_sc_6933.iterrows()):\n",
    "#     print(f'[{i}/{gdf_store_circles.shape[0]}] Store={store.store}_{store['name']}')\n",
    "\n",
    "for i,center_point in enumerate(l_center_points):\n",
    "    print(f'[{i+1}/{len(l_center_points)}] center_point={center_point}')\n",
    "    lon = center_point[1]\n",
    "    lat = center_point[0]\n",
    "    store_name = center_point[2]\n",
    "\n",
    "    # Convert the Shapely circle to a geoDataFrame\n",
    "    poly_circle = f_maps.circle_latlon(lon=lon, lat=lat, radius=1000 * radius_km)\n",
    "    gdf = gpd.GeoSeries([poly_circle])\n",
    "    gdf_overlay = gdf.to_frame(name='geometry').set_crs(epsg=4326)\n",
    "    gdf_circle_6933 = gdf_overlay.to_crs(epsg=6933)\n",
    "    gdf_overlay = gpd.overlay(gdf_census_6993, gdf_circle_6933, how='intersection')\n",
    "\n",
    "    # Set the column used for NORMALIZATION (numerator)\n",
    "    gdf_overlay['area'] = round(gdf_overlay['geometry'].area / 10**6, 3)\n",
    "    gdf_overlay[col_perc_geom] = round(gdf_overlay['area'] / gdf_overlay['area_geom'], 3)\n",
    "    \n",
    "    gdf_overlay = f_maps.overlay_shapes(gdf_circle=gdf_overlay,\n",
    "                                        col_perc=col_perc_geom, \n",
    "                                        d_columns=d_columns)\n",
    "    gdf_overlay = gdf_overlay.drop_duplicates(subset=['OBJID'])\n",
    "    gdf_overlay[col_perc_dbms] = round(gdf_overlay['KFL_int'] / gdf_overlay['KFL'], 3)\n",
    "    gdf_overlay[col_perc_pop] = round(gdf_overlay['EWZ_int'] / gdf_overlay['EWZ'], 3)\n",
    "    gdf_overlay['store_name'] = store_name\n",
    "\n",
    "    gjson_store = f_maps.get_folium_geojson(gdf_overlay,#.to_crs(4326), \n",
    "                                    fields=[\n",
    "                                        'store_name', 'GEN',\n",
    "                                        # 'KFL_int', 'KFL', # col_perc_dbms, \n",
    "                                        'area_geom_int', 'area_geom', col_perc_geom,\n",
    "                                        'EWZ_int', 'EWZ', col_perc_pop,\n",
    "                                        # 'num_in', 'num_part', \n",
    "                                        ],\n",
    "                                    aliases = [\n",
    "                                        'Store', 'City',\n",
    "                                        # 'Area_dbms intersection [Km2]', 'Area_dbms shape [Km2]','Percentage dbms', \n",
    "                                        'Area_geom intersection [Km2]', 'Area_geom shape [Km2]', 'Percentage geometry',\n",
    "                                        'Population inside', 'Population total', 'Percentage population'\n",
    "                                        # 'Localities inside', 'Localities partially inside',\n",
    "                                        ])\n",
    "    gjson_store.add_to(fg_join_ind)\n",
    "\n",
    "    gdf_merge = f_maps.merge_shapes(gdf_overlay, l_col_percs=l_cols_percentaged,\n",
    "                                            d_percs={'data':'KFL', 'geom':'area_geom'}, \n",
    "                                            num_dec=round_dec, is_logging=False)\n",
    "    # Copying Location Identifier\n",
    "    gdf_merge['GEN'] = gdf_overlay['GEN']\n",
    "    # Set the column used for NORMALIZATION (numerator)\n",
    "    gdf_merge['area'] = round(gdf_merge['geometry'].area / 10**6, round_dec)\n",
    "    gdf_merge[col_perc_geom] = round(gdf_merge['area'] / gdf_merge['area_geom'], 3)\n",
    "    gdf_merge[col_perc_dbms] = round(gdf_merge['KFL_int'] / gdf_merge['KFL'], 3)\n",
    "    gdf_merge[col_perc_pop] = round(gdf_merge['EWZ_int'] / gdf_merge['EWZ'], 3)\n",
    "    gdf_merge['store_name'] = store_name\n",
    "    \n",
    "    gjson_store = f_maps.get_folium_geojson(gdf_merge,#.to_crs(4326), \n",
    "                            fields=[\n",
    "                                'store_name',\n",
    "                                # 'KFL_int', 'KFL', col_perc_dbms,\n",
    "                                'area_geom_int', 'area_geom', col_perc_geom,\n",
    "                                'EWZ_int', 'EWZ', col_perc_pop,\n",
    "                                # 'num_in', 'num_part', \n",
    "                                ],\n",
    "                            aliases = [\n",
    "                                'Location',\n",
    "                                # 'Area_dbms intersection [Km2]', 'Area_dbms shape [Km2]', 'Percentage dbms', \n",
    "                                'Area_geom intersection [Km2]', 'Area_geom shape [Km2]', 'Percentage area',\n",
    "                                'Population intersection', 'Population shape', 'Percentage population'\n",
    "                                # 'Localities inside', 'Localities partially inside',\n",
    "                                ])\n",
    "    gjson_store.add_to(fg_merge_ind)\n",
    "\n",
    "    if i==0:\n",
    "        gdf_merge_concat = gdf_merge\n",
    "    else:\n",
    "        gdf_merge_concat = pd.concat([gdf_merge_concat, gdf_merge], axis=0)"
   ]
  },
  {
   "cell_type": "markdown",
   "metadata": {},
   "source": [
    "### `fg_join` EXTERNAL"
   ]
  },
  {
   "cell_type": "code",
   "execution_count": 50,
   "metadata": {},
   "outputs": [
    {
     "name": "stdout",
     "output_type": "stream",
     "text": [
      "shape(gdf_join) = 772\n",
      "shape(gdf_int_dd) =538\n"
     ]
    },
    {
     "name": "stderr",
     "output_type": "stream",
     "text": [
      "c:\\Users\\User\\AppData\\Local\\Programs\\Python\\Python312\\Lib\\site-packages\\geopandas\\geodataframe.py:1819: SettingWithCopyWarning: \n",
      "A value is trying to be set on a copy of a slice from a DataFrame.\n",
      "Try using .loc[row_indexer,col_indexer] = value instead\n",
      "\n",
      "See the caveats in the documentation: https://pandas.pydata.org/pandas-docs/stable/user_guide/indexing.html#returning-a-view-versus-a-copy\n",
      "  super().__setitem__(key, value)\n"
     ]
    },
    {
     "data": {
      "text/plain": [
       "<folium.features.GeoJson at 0x2397359c200>"
      ]
     },
     "execution_count": 50,
     "metadata": {},
     "output_type": "execute_result"
    }
   ],
   "source": [
    "# gdf_geom_4326.head(1)\n",
    "\n",
    "############# JOIN ####################\n",
    "gdf_join = gpd.sjoin(gdf_geom_4326, gdf_store_circles.to_crs(4326), how=\"inner\", predicate=\"intersects\")\n",
    "gdf_join['KFL_GPD'] = round(gdf_census_6993.to_crs(6933).geometry.area / 10**6, round_dec)\n",
    "print(f'shape(gdf_join) = {gdf_join.shape[0]}')\n",
    "\n",
    "gdf_int_dd = gdf_join.drop_duplicates(subset=['OBJID'])\n",
    "gdf_int_dd['KFL_GPD'] = round(gdf_int_dd.to_crs(6933).geometry.area / 10**6, round_dec)\n",
    "print(f'shape(gdf_int_dd) ={gdf_int_dd.shape[0]}')\n",
    "### RELEVANT NUMBERS ###\n",
    "int_gem = gdf_int_dd.shape[0]\n",
    "int_ewz =gdf_join.EWZ.sum()\n",
    "int_area_geom_nomerge = gdf_join.KFL_GPD.sum()\n",
    "int_area_dbms_nomerge = gdf_join.KFL.sum()\n",
    "int_area_geom_merge   = gdf_int_dd.KFL_GPD.sum()\n",
    "int_area_dbms_merge   = gdf_int_dd.KFL.sum()\n",
    "\n",
    "### MESSAGE ###\n",
    "int_info_msg = f'# Towns={int_gem}, ' \\\n",
    "                f'# Area (geom, no merge)={int_area_geom_nomerge}Km2, ' \\\n",
    "                f'# Area (dbms, no merge)={int_area_dbms_nomerge}Km2, ' \\\n",
    "                f'Area (geom, merge)={int_area_geom_merge}Km2,' \\\n",
    "                f'Area (dbms, merge)={int_area_dbms_merge}Km2' \\\n",
    "                f'Pop={int_ewz}'\n",
    "\n",
    "### FEATURE GROUP ###\n",
    "fg_join = folium.FeatureGroup(name=f'Join/COMBINED [{int_info_msg}')\n",
    "gjson_store = f_maps.get_folium_geojson(gdf_join, \n",
    "                                  fields=['GEN', 'EWZ', 'KFL', 'KFL_GPD'],\n",
    "                                  aliases = ['Name', 'Population', 'Area_dbms', 'Area_Geom'])\n",
    "gjson_store.add_to(fg_join)"
   ]
  },
  {
   "cell_type": "markdown",
   "metadata": {},
   "source": [
    "## 3.6. GADMs"
   ]
  },
  {
   "cell_type": "markdown",
   "metadata": {},
   "source": [
    "### Feature Group Countries (`fg_circ_merged_country`)"
   ]
  },
  {
   "cell_type": "code",
   "execution_count": 99,
   "metadata": {},
   "outputs": [
    {
     "name": "stdout",
     "output_type": "stream",
     "text": [
      "(255, 6)\n",
      "                                            geometry  ADMIN ISO_A3  \\\n",
      "0  POLYGON ((-69.99694 12.57758, -69.93639 12.531...  Aruba    ABW   \n",
      "\n",
      "   Area_total_km2  Area_land_km2  world_land_perc  \n",
      "0           180.0          180.0              0.0  \n"
     ]
    }
   ],
   "source": [
    "gdf_world = f_maps.load_gdf_from_csv(path=paths.path_wca)\n",
    "print(gdf_world.shape)\n",
    "print(gdf_world.head(1))"
   ]
  },
  {
   "cell_type": "code",
   "execution_count": 100,
   "metadata": {},
   "outputs": [],
   "source": [
    "gdf_int_world = gpd.overlay(gdf_world.to_crs(6933), gdf_store_circles_merged.to_crs(6933), how='intersection')\n",
    "gdf_int_world = gdf_int_world.drop_duplicates()\n",
    "gdf_int_world['area_intersection'] = round(gdf_int_world.geometry.area / 10**6, round_dec)\n",
    "# print(gdf_int_world.shape)\n",
    "# print(gdf_int_world.head(1))"
   ]
  },
  {
   "cell_type": "markdown",
   "metadata": {},
   "source": [
    "#### `gdf_world`"
   ]
  },
  {
   "cell_type": "markdown",
   "metadata": {},
   "source": [
    "##### `fg_country_all` (gdf_world)"
   ]
  },
  {
   "cell_type": "code",
   "execution_count": 101,
   "metadata": {},
   "outputs": [
    {
     "data": {
      "text/plain": [
       "<folium.features.GeoJson at 0x243b93695b0>"
      ]
     },
     "execution_count": 101,
     "metadata": {},
     "output_type": "execute_result"
    }
   ],
   "source": [
    "# Filtering relevant countries\n",
    "gdf_world_contain = gdf_world[gdf_world['ISO_A3'].isin(gdf_int_world['ISO_A3'])]\n",
    "\n",
    "# gdf_world_contain\n",
    "fg_country_all = folium.FeatureGroup(name=f'Countries Intersecting [{gdf_world_contain.shape[0]}]')\n",
    "gjson_store = f_maps.get_folium_geojson(gdf_world_contain.to_crs(4326), \n",
    "                                  fields=['ADMIN', 'Area_total_km2'], \n",
    "                                  aliases=['name', 'Area [km2]'])\n",
    "gjson_store.add_to(fg_country_all)"
   ]
  },
  {
   "cell_type": "markdown",
   "metadata": {},
   "source": [
    "##### `fg_country_int` (gdf_world)"
   ]
  },
  {
   "cell_type": "code",
   "execution_count": 102,
   "metadata": {},
   "outputs": [
    {
     "data": {
      "text/plain": [
       "<folium.features.GeoJson at 0x243b6470aa0>"
      ]
     },
     "execution_count": 102,
     "metadata": {},
     "output_type": "execute_result"
    }
   ],
   "source": [
    "fg_country_int = folium.FeatureGroup(name=f'ALL Country Join [{gdf_int_world.shape[0]}]')\n",
    "gjson_store = f_maps.get_folium_geojson(gdf_int_world.to_crs(4326), \n",
    "                                  fields=['ADMIN','area_intersection'], \n",
    "                                  aliases=['name', 'Area [km2]'])\n",
    "gjson_store.add_to(fg_country_int)\n",
    "\n",
    "# fg_join_country = folium.FeatureGroup(name=f'Country Join [{gdf_int_world.shape[0]}]')\n",
    "# for i,(index,country) in enumerate(gdf_int_world.iterrows()):\n",
    "#     print(f'[{i}/{gdf_int_world.shape[0]}] Country={country.ADMIN}')\n",
    "#     gpd_country = gpd.GeoDataFrame([country.to_dict()]).set_crs(6399).to_crs(4326)\n",
    "#     gjson = f_maps.get_folium_geojson(gpd_country, fields=['ADMIN'], aliases=['name'])\n",
    "#     gjson.add_to(fg_join_country)"
   ]
  },
  {
   "cell_type": "markdown",
   "metadata": {},
   "source": [
    "#### GADM"
   ]
  },
  {
   "cell_type": "code",
   "execution_count": 103,
   "metadata": {},
   "outputs": [
    {
     "name": "stdout",
     "output_type": "stream",
     "text": [
      "path_adm=assets/Geo/GADM/gadm41_AUT.gpkg\n"
     ]
    }
   ],
   "source": [
    "path = 'assets/Geo/GADM/gadm41_'\n",
    "country_3 = 'AUT'  # 3-letter country code\n",
    "l_adm = [\n",
    "    # 'ADM_ADM_0',    # COUNTRY\n",
    "    'ADM_ADM_1',    # STATE\n",
    "    # 'ADM_ADM_2',    # REGION\n",
    "    # 'ADM_ADM_3',    # COUNTY\n",
    "    # 'ADM_ADM_4',    # MUNICIPALITY\n",
    "    # 'ADM_ADM_5',  # SUB-MUNICIPALITY (Only France, Rwanda), aka PARISH\n",
    "    ]\n",
    "ext  = 'gpkg'\n",
    "path_adm = f'{path}{country_3}.{ext}'\n",
    "print(f'path_adm={path_adm}')  # PATH where the file is stored\n",
    "logging = True"
   ]
  },
  {
   "cell_type": "code",
   "execution_count": 104,
   "metadata": {},
   "outputs": [],
   "source": [
    "gdf_world = f_maps.load_gdf_from_csv(path=paths.path_wca)\n",
    "gdf_int_world = gpd.overlay(gdf_world.to_crs(6933), gdf_store_circles_merged.to_crs(6933), how='intersection')\n",
    "gdf_int_world = gdf_int_world.drop_duplicates()\n",
    "\n",
    "\n",
    "l_country_iso = list(gdf_int_world.ISO_A3.values)"
   ]
  },
  {
   "cell_type": "markdown",
   "metadata": {},
   "source": [
    "##### `fg_country_all` (GADM=0)"
   ]
  },
  {
   "cell_type": "code",
   "execution_count": 105,
   "metadata": {},
   "outputs": [],
   "source": [
    "l_adm = [\n",
    "    'ADM_ADM_0',    # COUNTRY\n",
    "    ]"
   ]
  },
  {
   "cell_type": "code",
   "execution_count": 106,
   "metadata": {},
   "outputs": [
    {
     "name": "stdout",
     "output_type": "stream",
     "text": [
      "[1/3] Country=CHE\n",
      "path=assets/Geo/GADM/gadm41_CHE.gpkg\n",
      "ADM=0\n",
      "[2/3] Country=DEU\n",
      "path=assets/Geo/GADM/gadm41_DEU.gpkg\n",
      "ADM=0\n",
      "[3/3] Country=FRA\n",
      "path=assets/Geo/GADM/gadm41_FRA.gpkg\n",
      "ADM=0\n"
     ]
    }
   ],
   "source": [
    "for i,iso3 in enumerate(l_country_iso):\n",
    "    print(f'[{i+1}/{len(l_country_iso)}] Country={iso3}')\n",
    "    path_adm = f'{path}{iso3}.{ext}'\n",
    "    [l_gdf, l_name_adm, l_tooltip_adm ] = f_maps.extract_gdf_gpkg(\n",
    "        path       = path_adm, \n",
    "        l_levels   = l_adm,\n",
    "        is_logging = False\n",
    "    )\n",
    "    if i==0:\n",
    "        gdf_adm0 = l_gdf[0]\n",
    "    else:\n",
    "        gdf_adm0= pd.concat([gdf_adm0, l_gdf[0]])"
   ]
  },
  {
   "cell_type": "code",
   "execution_count": 107,
   "metadata": {},
   "outputs": [
    {
     "name": "stdout",
     "output_type": "stream",
     "text": [
      "(3, 7)\n",
      "  GID_0      COUNTRY  num_stores      area  perc_area  \\\n",
      "0   CHE  Switzerland          14  14119.32       0.39   \n",
      "\n",
      "                                            geometry  area_intersection  \n",
      "0  MULTIPOLYGON (((722255.399 5400604.903, 722938...             783.41  \n"
     ]
    }
   ],
   "source": [
    "gdf_int_countries = gpd.overlay(gdf_adm0.to_crs(6933), gdf_store_circles_merged.to_crs(6933), how='intersection')\n",
    "gdf_int_countries = gdf_int_countries.drop_duplicates()\n",
    "gdf_int_countries['area_intersection'] = round(gdf_int_countries.geometry.area / 10**6, round_dec)\n",
    "print(gdf_int_countries.shape)\n",
    "print(gdf_int_countries.head(1))"
   ]
  },
  {
   "cell_type": "code",
   "execution_count": 108,
   "metadata": {},
   "outputs": [
    {
     "name": "stdout",
     "output_type": "stream",
     "text": [
      "(3, 3)\n",
      "(3, 3)\n"
     ]
    }
   ],
   "source": [
    "# Filtering relevant countries\n",
    "col_filter = 'COUNTRY'\n",
    "col_alias = 'Country'\n",
    "gdf_adm0_map = gdf_adm0[gdf_adm0[col_filter].isin(gdf_int_countries[col_filter])]\n",
    "print(gdf_adm0_map.shape)\n",
    "gdf_adm0_map = gdf_adm0_map.drop_duplicates()\n",
    "print(gdf_adm0_map.shape)"
   ]
  },
  {
   "cell_type": "code",
   "execution_count": 109,
   "metadata": {},
   "outputs": [
    {
     "data": {
      "text/plain": [
       "<folium.features.GeoJson at 0x243b93688f0>"
      ]
     },
     "execution_count": 109,
     "metadata": {},
     "output_type": "execute_result"
    }
   ],
   "source": [
    "fg_gadm0_all = folium.FeatureGroup(name=f'Countries [{gdf_adm0_map.shape[0]}]')\n",
    "gjson_store = f_maps.get_folium_geojson(gdf_adm0_map,\n",
    "                                  fields=['COUNTRY', col_filter], \n",
    "                                  aliases=['Country', col_alias])\n",
    "gjson_store.add_to(fg_gadm0_all)    "
   ]
  },
  {
   "cell_type": "markdown",
   "metadata": {},
   "source": [
    "##### `fg_country_int` (GADM=0)"
   ]
  },
  {
   "cell_type": "code",
   "execution_count": 110,
   "metadata": {},
   "outputs": [],
   "source": [
    "gdf_gadm0_int = gpd.overlay(gdf_adm0_map.to_crs(6933), gdf_store_circles_merged.to_crs(6933), how='intersection')\n",
    "gdf_gadm0_int = gdf_gadm0_int.drop_duplicates()\n",
    "gdf_gadm0_int['area_intersection'] = round(gdf_gadm0_int.geometry.area / 10**6, round_dec)\n",
    "# print(gdf_gadm0_int.shape)\n",
    "# print(gdf_gadm0_int.head(1))"
   ]
  },
  {
   "cell_type": "code",
   "execution_count": 111,
   "metadata": {},
   "outputs": [
    {
     "data": {
      "text/plain": [
       "<folium.features.GeoJson at 0x243cbcaf5f0>"
      ]
     },
     "execution_count": 111,
     "metadata": {},
     "output_type": "execute_result"
    }
   ],
   "source": [
    "fg_gadm0_ind = folium.FeatureGroup(name=f'ALL Countries Join [{gdf_gadm0_int.shape[0]}]')\n",
    "gjson_store = f_maps.get_folium_geojson(gdf_gadm0_int.to_crs(4326), \n",
    "                                  fields=['COUNTRY', 'area_intersection'], \n",
    "                                  aliases=['Country', 'Area[km2]'])\n",
    "gjson_store.add_to(fg_gadm0_ind)"
   ]
  },
  {
   "cell_type": "markdown",
   "metadata": {},
   "source": [
    "##### `fg_states_all` (GADM=1)"
   ]
  },
  {
   "cell_type": "code",
   "execution_count": 112,
   "metadata": {},
   "outputs": [],
   "source": [
    "l_adm = [\n",
    "    'ADM_ADM_1',    # STATE\n",
    "    ]"
   ]
  },
  {
   "cell_type": "code",
   "execution_count": 113,
   "metadata": {},
   "outputs": [
    {
     "name": "stdout",
     "output_type": "stream",
     "text": [
      "[1/3] Country=CHE\n",
      "path=assets/Geo/GADM/gadm41_CHE.gpkg\n",
      "ADM=1\n",
      "yes\n",
      "l_columns=['COUNTRY', 'GID_0', 'NAME_1', 'TYPE_1']\n",
      "[2/3] Country=DEU\n",
      "path=assets/Geo/GADM/gadm41_DEU.gpkg\n",
      "ADM=1\n",
      "yes\n",
      "l_columns=['COUNTRY', 'GID_0', 'NAME_1', 'TYPE_1']\n",
      "[3/3] Country=FRA\n",
      "path=assets/Geo/GADM/gadm41_FRA.gpkg\n",
      "ADM=1\n",
      "yes\n",
      "l_columns=['COUNTRY', 'GID_0', 'NAME_1', 'TYPE_1']\n"
     ]
    }
   ],
   "source": [
    "\n",
    "\n",
    "for i,iso3 in enumerate(l_country_iso):\n",
    "    print(f'[{i+1}/{len(l_country_iso)}] Country={iso3}')\n",
    "    path_adm = f'{path}{iso3}.{ext}'\n",
    "    [l_gdf, l_name_adm, l_tooltip_adm ] = f_maps.extract_gdf_gpkg(\n",
    "        path       = path_adm, \n",
    "        l_levels   = l_adm,\n",
    "        is_logging = False\n",
    "    )\n",
    "    if i==0:\n",
    "        gdf_adm1 = l_gdf[0]\n",
    "    else:\n",
    "        gdf_adm1 = pd.concat([gdf_adm1, l_gdf[0]])\n",
    "\n",
    "# print(gdf_adm1.shape)\n",
    "# print(gdf_adm1.head(1))"
   ]
  },
  {
   "cell_type": "code",
   "execution_count": 114,
   "metadata": {},
   "outputs": [],
   "source": [
    "gdf_int_states = gpd.overlay(gdf_adm1.to_crs(6933), gdf_store_circles_merged.to_crs(6933), how='intersection')\n",
    "gdf_int_states = gdf_int_states.drop_duplicates()\n",
    "gdf_int_states['area_intersection'] = round(gdf_int_states.geometry.area / 10**6, round_dec)\n",
    "# print(gdf_int_states.shape)\n",
    "# print(gdf_int_states.head(1))"
   ]
  },
  {
   "cell_type": "code",
   "execution_count": 115,
   "metadata": {},
   "outputs": [
    {
     "name": "stdout",
     "output_type": "stream",
     "text": [
      "(12, 12)\n",
      "(12, 12)\n"
     ]
    }
   ],
   "source": [
    "# Filtering relevant countries\n",
    "col_filter = 'NAME_1'\n",
    "col_alias = 'State'\n",
    "gdf_adm1_map = gdf_adm1[gdf_adm1[col_filter].isin(gdf_int_states[col_filter])]\n",
    "print(gdf_adm1_map.shape)\n",
    "gdf_adm1_map = gdf_adm1_map.drop_duplicates()\n",
    "print(gdf_adm1_map.shape)"
   ]
  },
  {
   "cell_type": "code",
   "execution_count": 116,
   "metadata": {},
   "outputs": [
    {
     "data": {
      "text/plain": [
       "<folium.features.GeoJson at 0x243cad85730>"
      ]
     },
     "execution_count": 116,
     "metadata": {},
     "output_type": "execute_result"
    }
   ],
   "source": [
    "fg_states_all = folium.FeatureGroup(name=f'States [{gdf_adm1_map.shape[0]}]')\n",
    "gjson_store = f_maps.get_folium_geojson(gdf_adm1_map,\n",
    "                                  fields=['COUNTRY', col_filter], \n",
    "                                  aliases=['Country', col_alias])\n",
    "gjson_store.add_to(fg_states_all)"
   ]
  },
  {
   "cell_type": "markdown",
   "metadata": {},
   "source": [
    "##### `fg_states_int` (GADM=1)"
   ]
  },
  {
   "cell_type": "code",
   "execution_count": 117,
   "metadata": {},
   "outputs": [
    {
     "data": {
      "text/plain": [
       "<folium.features.GeoJson at 0x243cadc8bf0>"
      ]
     },
     "execution_count": 117,
     "metadata": {},
     "output_type": "execute_result"
    }
   ],
   "source": [
    "fg_states_int = folium.FeatureGroup(name=f'ALL States Join [{gdf_int_states.shape[0]}]')\n",
    "gjson_store = f_maps.get_folium_geojson(gdf_int_states.to_crs(4326), \n",
    "                                  fields=['COUNTRY', 'NAME_1', 'area_intersection'], \n",
    "                                  aliases=['Country', 'State', 'Area[km2]'])\n",
    "gjson_store.add_to(fg_states_int)"
   ]
  },
  {
   "cell_type": "markdown",
   "metadata": {},
   "source": [
    "### Feature Group JOIN (`fg_join` using [`gdf_geom_4326` and `gdf_overlay`]"
   ]
  },
  {
   "cell_type": "code",
   "execution_count": 119,
   "metadata": {},
   "outputs": [
    {
     "name": "stdout",
     "output_type": "stream",
     "text": [
      "shape(gdf_join) = 772\n",
      "shape(gdf_int_dd) =538\n"
     ]
    },
    {
     "name": "stderr",
     "output_type": "stream",
     "text": [
      "c:\\Users\\User\\AppData\\Local\\Programs\\Python\\Python312\\Lib\\site-packages\\geopandas\\geodataframe.py:1819: SettingWithCopyWarning: \n",
      "A value is trying to be set on a copy of a slice from a DataFrame.\n",
      "Try using .loc[row_indexer,col_indexer] = value instead\n",
      "\n",
      "See the caveats in the documentation: https://pandas.pydata.org/pandas-docs/stable/user_guide/indexing.html#returning-a-view-versus-a-copy\n",
      "  super().__setitem__(key, value)\n"
     ]
    },
    {
     "data": {
      "text/plain": [
       "<folium.features.GeoJson at 0x243b936a4e0>"
      ]
     },
     "execution_count": 119,
     "metadata": {},
     "output_type": "execute_result"
    }
   ],
   "source": [
    "# gdf_geom_4326.head(1)\n",
    "\n",
    "############# JOIN ####################\n",
    "gdf_join = gpd.sjoin(gdf_geom_4326, gdf_store_circles.to_crs(4326), how=\"inner\", predicate=\"intersects\")\n",
    "gdf_join['KFL_GPD'] = round(gdf_census_6993.to_crs(6933).geometry.area / 10**6, round_dec)\n",
    "print(f'shape(gdf_join) = {gdf_join.shape[0]}')\n",
    "\n",
    "gdf_int_dd = gdf_join.drop_duplicates(subset=['OBJID'])\n",
    "gdf_int_dd['KFL_GPD'] = round(gdf_int_dd.to_crs(6933).geometry.area / 10**6, round_dec)\n",
    "print(f'shape(gdf_int_dd) ={gdf_int_dd.shape[0]}')\n",
    "### RELEVANT NUMBERS ###\n",
    "int_gem = gdf_int_dd.shape[0]\n",
    "int_ewz =gdf_join.EWZ.sum()\n",
    "int_area_geom_nomerge = gdf_join.KFL_GPD.sum()\n",
    "int_area_dbms_nomerge = gdf_join.KFL.sum()\n",
    "int_area_geom_merge   = gdf_int_dd.KFL_GPD.sum()\n",
    "int_area_dbms_merge   = gdf_int_dd.KFL.sum()\n",
    "\n",
    "### MESSAGE ###\n",
    "int_info_msg = f'# Towns={int_gem}, ' \\\n",
    "                f'# Area (geom, no merge)={int_area_geom_nomerge}Km2, ' \\\n",
    "                f'# Area (dbms, no merge)={int_area_dbms_nomerge}Km2, ' \\\n",
    "                f'Area (geom, merge)={int_area_geom_merge}Km2,' \\\n",
    "                f'Area (dbms, merge)={int_area_dbms_merge}Km2' \\\n",
    "                f'Pop={int_ewz}'\n",
    "\n",
    "### FEATURE GROUP ###\n",
    "fg_join = folium.FeatureGroup(name=f'Join/COMBINED [{int_info_msg}')\n",
    "gjson_store = f_maps.get_folium_geojson(gdf_join, \n",
    "                                  fields=['GEN', 'EWZ', 'KFL', 'KFL_GPD'],\n",
    "                                  aliases = ['Name', 'Population', 'Area_dbms', 'Area_Geom'])\n",
    "gjson_store.add_to(fg_join)"
   ]
  },
  {
   "cell_type": "markdown",
   "metadata": {},
   "source": [
    "## 3.7. TOWN Markers"
   ]
  },
  {
   "cell_type": "markdown",
   "metadata": {},
   "source": [
    "### TOWN MARKERS"
   ]
  },
  {
   "cell_type": "code",
   "execution_count": 123,
   "metadata": {},
   "outputs": [
    {
     "name": "stdout",
     "output_type": "stream",
     "text": [
      "Shape(gdf_dist)=538\n",
      "Shape(gdf_dist)=538\n",
      "[1/14] store_coords=(49.00488565, 8.449674128073184, 'decathlon_Karlsruhe-Durlach')\n",
      "[2/14] store_coords=(48.4007813, 9.9583729, 'decathlon_Ulm')\n",
      "[3/14] store_coords=(48.7026898, 9.437392619846309, 'decathlon_Plochingen')\n",
      "[4/14] store_coords=(48.7965766, 8.19518157114592, 'decathlon_Baden - Baden')\n",
      "[5/14] store_coords=(48.8201891, 10.045626348192611, 'decathlon_Aalen-Essingen')\n",
      "[6/14] store_coords=(49.3941626, 8.57783239839136, 'decathlon_Schwetzingen')\n",
      "[7/14] store_coords=(48.6882907, 9.0090554, 'decathlon_Böblingen')\n",
      "[8/14] store_coords=(47.610891699999996, 7.661843945356753, 'decathlon_Lörrach')\n",
      "[9/14] store_coords=(48.900043, 9.1916945, 'decathlon_Ludwigsburg')\n",
      "[10/14] store_coords=(49.1460258, 9.2214379, 'decathlon_Heilbronn-K3')\n",
      "[11/14] store_coords=(48.472267200000005, 7.944426365060242, 'decathlon_Offenburg')\n",
      "[12/14] store_coords=(47.7599556, 8.8420214, 'decathlon_Singen')\n",
      "[13/14] store_coords=(48.791258850000006, 9.182104646022687, 'decathlon_Stuttgart-Milaneo')\n",
      "[14/14] store_coords=(48.8168724, 9.300342163579177, 'decathlon_Waiblingen')\n"
     ]
    }
   ],
   "source": [
    "l_center_points = list(zip(pdf_stores['lat'], pdf_stores['lon'], pdf_stores['store']+'_'+pdf_stores['name']))#_{pdf_stores['name']}'))\n",
    "# l_center_points\n",
    "\n",
    "# ################### Distance to point of interest ##########\n",
    "gdf_dist = pd.DataFrame(gdf_intersection[['ARS','lat','lon',col_perc_geom,'GEN','EWZ']])\n",
    "gdf_dist = gpd.GeoDataFrame(gdf_dist, crs='epsg:4326', \n",
    "                    geometry=[geometry.Point(xy) for xy in zip(gdf_dist['lon'], gdf_dist['lat'])])\n",
    "print(f'Shape(gdf_dist)={gdf_dist.shape[0]}')\n",
    "gdf_dist = gdf_dist.drop_duplicates()\n",
    "print(f'Shape(gdf_dist)={gdf_dist.shape[0]}')\n",
    "for i,store_coords in enumerate(l_center_points):\n",
    "    print(f'[{i+1}/{len(l_center_points)}] store_coords={store_coords}')\n",
    "    gdf_dist = f_maps.compute_dist_to_lat_lon(gdf_dist, col_out=f'dist_{store_coords[2]}', \n",
    "                                              lon=store_coords[1], lat=store_coords[0], \n",
    "                                              round_dec=round_dec, units='km')\n",
    "\n",
    "l_dist_cols = [col for col in gdf_dist.columns if col.startswith('dist_')]\n",
    "gdf_dist['dist'] = gdf_dist[l_dist_cols].min(axis=1)\n",
    "gdf_dist['dist_min_store'] = gdf_dist[l_dist_cols].idxmin(axis=1)\n",
    "gdf_dist['dist_min_store'] = gdf_dist['dist_min_store'].apply(lambda x: x.replace('dist_',''))\n",
    "\n",
    "\n",
    "\n",
    "l_dist_to_remove = gdf_dist.columns[gdf_dist.columns.str.startswith('dist_')].tolist()\n",
    "l_dist_to_remove.remove('dist_min_store')\n",
    "# l_dist_to_remove\n",
    "gdf_dist = gdf_dist.drop(columns=l_dist_to_remove)\n",
    "# gdf_dist"
   ]
  },
  {
   "cell_type": "code",
   "execution_count": 124,
   "metadata": {},
   "outputs": [
    {
     "name": "stdout",
     "output_type": "stream",
     "text": [
      "Inside =439\n",
      "Partly =99\n",
      "Outside =565\n",
      "Inside+Partly=538\n",
      "Total intersection=538\n",
      "Inside+Partly+Outside=1103\n",
      "Total Geom =1103\n"
     ]
    }
   ],
   "source": [
    "#######################  Gemeinde Markers  ##########################\n",
    "\n",
    "################\n",
    "###  INSIDE  ###\n",
    "################\n",
    "gdf_inside = gdf_dist[gdf_dist['dist'] <= radius_km]\n",
    "num_inside_towns = gdf_inside.shape[0]\n",
    "\n",
    "fg_inside_circle = f_maps.get_markers_polygon(gdf_inside,\n",
    "                                        l_tooltip=['GEN','dist', 'dist_min_store'],\n",
    "                                        col_lat='lat', col_lon='lon', \n",
    "                                        name=f'Markers inside {gdf_inside.shape[0]}', color='darkgreen')\n",
    "pop_inside = round(gdf_inside.EWZ.sum()/10**6,round_dec)\n",
    "fg_inside = folium.FeatureGroup(name=f'Markers - Inside [towns:{num_inside_towns}, \\\n",
    "                                Pop:{pop_inside}M]')\n",
    "fg_inside_circle.add_to(fg_inside)\n",
    "\n",
    "\n",
    "################\n",
    "###  PARTLY  ###\n",
    "################\n",
    "gdf_partly = gdf_dist[(gdf_dist['dist'] > radius_km)  & (gdf_dist[col_perc_geom] != 1.0)]\n",
    "num_partly_towns = gdf_partly.shape[0]\n",
    "\n",
    "fg_partly_circle = f_maps.get_markers_polygon(gdf_partly,\n",
    "                                        l_tooltip=['GEN','dist', 'dist_min_store'], \n",
    "                                        col_lat='lat', col_lon='lon', \n",
    "                                        name=f'Markers partly {gdf_partly.shape[0]}', color='orange')\n",
    "pop_partly = round(gdf_partly.EWZ.sum()/10**6,round_dec)\n",
    "fg_partly = folium.FeatureGroup(name=f'Markers - Partly [towns:{num_partly_towns}, \\\n",
    "                                Pop:{pop_partly}M]')\n",
    "fg_partly_circle.add_to(fg_partly)\n",
    "\n",
    "\n",
    "# #################\n",
    "# ###  OUTSIDE  ###\n",
    "# #################\n",
    "gdf_outside = gdf_census_6993[~gdf_census_6993['ARS'].isin(gdf_dist['ARS'])]\n",
    "num_outside_towns = gdf_outside.shape[0]\n",
    "\n",
    "fg_outside_circle = f_maps.get_markers_polygon(gdf_outside,\n",
    "                                        l_tooltip=['GEN'], \n",
    "                                        col_lat='lat', col_lon='lon', \n",
    "                                        name=f'Markers outside {gdf_outside.shape[0]}', \n",
    "                                        color='red')\n",
    "pop_outside = round(gdf_outside.EWZ.sum()/10**6,round_dec)\n",
    "fg_outside = folium.FeatureGroup(name=f'Markers - Outside [towns:{num_outside_towns}, \\\n",
    "                                Pop:{pop_outside}M]')\n",
    "fg_outside_circle.add_to(fg_outside)\n",
    "\n",
    "### VALIDATION ###\n",
    "print(f'Inside ={ num_inside_towns}')\n",
    "print(f'Partly ={num_partly_towns}')\n",
    "print(f'Outside ={num_outside_towns}')\n",
    "print(f'Inside+Partly={num_inside_towns+ num_partly_towns}')\n",
    "print(f'Total intersection={gdf_dist.shape[0]}')\n",
    "\n",
    "print(f'Inside+Partly+Outside={num_inside_towns+ num_partly_towns+num_outside_towns}')\n",
    "print(f'Total Geom ={gdf_geom_4326.shape[0]}')"
   ]
  },
  {
   "cell_type": "code",
   "execution_count": 125,
   "metadata": {},
   "outputs": [],
   "source": [
    "# fg_inside.layer_name = fg_inside.layer_name + f'[{num_inside_towns}/{gpd_zensus_filt.shape[0]}]'\n",
    "# fg_partly.layer_name = fg_partly.layer_name + f'[{num_partly_towns}/{gpd_zensus_filt.shape[0]}]'\n",
    "# fg_int.layer_name = fg_int.layer_name + f'[Area={sum_int_kfl}, Area_Geom={round(sum_int_geom,round_dec)}, EWZ={sum_int_ewz} ]'\n"
   ]
  },
  {
   "cell_type": "markdown",
   "metadata": {},
   "source": [
    "# 4.VISUALIZATION"
   ]
  },
  {
   "cell_type": "code",
   "execution_count": null,
   "metadata": {},
   "outputs": [],
   "source": [
    "## ALL COMMENTED ##\n",
    "\n",
    "# l_fg = [\n",
    "    \n",
    "#     ### 3.1. GEOMETRIES (Region, Towns) ###\n",
    "    \n",
    "#     fg_geom_region,     ### GEOJSON / REGION OF INTEREST (RoI) ###          #Bayern,Ba-Wu+Decathlon: 0.7s\n",
    "#     fg_geom_town,       ### GEOJSON / REGION BREAKDOWN (Towns) ###\n",
    "\n",
    "#     ### 3.2. STORES (Markers, Circles) ###    \n",
    "#     # fglc,               ### MARKERS / STORES IN RoI                         #Bayern,Ba-Wu+Decathlon: 0.0s\n",
    "#     # fg_circ,            ### GEOJSON / Circles of radius_km around stores    #Bayern,Ba-Wu+Decathlon: 2.2s\n",
    "    \n",
    "#     ### 3.3. GEOM+STORES (Intersections,Merges) ###\n",
    "#     fg_int_circ_geom,   #(Location, Storename)                                     #Bayern,Ba-Wu+Decathlon: 54.0s\n",
    "#     fg_mer_circ_geom,   #[Store,City, geom_in, geom_tot, geom_perc, pop_in, pop_tot, pop_perc]  GeoJson of intersection [Gem,circles]               #Bayern,Ba-Wu+Decathlon: 4.6s\n",
    "    \n",
    "#     # ### GEOJSON / INDIVIDUAL, INTERSECTION CIRCLE-DBMS DATA [EWZ, AREA]  ###\n",
    "#     # ## fg_join,      #GeoJson of intersection [Gem,circles]               #Bayern,Ba-Wu+Decathlon: 2:52.2s\n",
    "    \n",
    "#     # ### GEOJSON / INDIVIDUAL, MERGE CIRCLE-DBMS DATA [EWZ, AREA]  ###\n",
    "#     # fg_circ_merged,    #GeoJson with Circles of radius_km around stores     #Bayern,Ba-Wu+Decathlon: 0.1s\n",
    "#     # fg_merge_ind,  #GeoJson of merge [Gem,circles]                      #Bayern,Ba-Wu+Decathlon: 0.5s\n",
    "#     # fg_mer_circ_geom,         #Bayern,Ba-Wu+Decathlon: 1.0s\n",
    "\n",
    "#     # ### GEOJSON / MERGED DATA, MERGE CIRCLE-DBMS DATA [EWZ, AREA] ###\n",
    "#     # fg_merge,        #GeoJson of merge [Gem,circles]                      #Bayern,Ba-Wu+Decathlon: 2.2s\n",
    "\n",
    "#     # ### GEOJSON / COUNTRIES ###\n",
    "#     # fg_country_all,  # Duration: 0.3s (gdf_world)\n",
    "#     # fg_gadm0_all,    # Duration: 20.2s (GADM=0)\n",
    "\n",
    "#     # fg_country_int,    # Duration: 0.1s\n",
    "#     # fg_gadm0_ind,      # Duration: 2.7s (GADM=0)\n",
    "\n",
    "#     # ## GEOJSON / STATES ###\n",
    "#     # fg_states_all,   # Duration: 21.9s (GADM=1)\n",
    "#     # fg_states_int,   # Duration: 3.9s  (GADM=1)\n",
    "\n",
    "#     # ## MARKERS / TOWNS ###\n",
    "#     # fg_inside,     #Markers with Gem inside intersection (Gem,circle)   #Bayern,Ba-Wu+Decathlon: 7.0s\n",
    "#     # fg_partly,      #Markers with Gem partly intersection (Gem,circle)   #Bayern,Ba-Wu+Decathlon: 1.9s\n",
    "#     # fg_outside,     #Markers with Gem partly intersection (Gem,circle)   #Bayern,Ba-Wu+Decathlon: 6.5s\n",
    "#     ]\n",
    "\n",
    "\n",
    "\n",
    "# fg1 = folium.FeatureGroup(name='g1', show=False)\n",
    "# fg2 = folium.FeatureGroup(name='g2', show=False)\n",
    "# fg3 = folium.FeatureGroup(name='g3')\n",
    "# folium.Marker([40, 74]).add_to(fg1)\n",
    "# folium.Marker([38, 72]).add_to(fg2)\n",
    "# folium.Marker([40, 72]).add_to(fg3)\n",
    "# m.add_child(fg1)\n",
    "# m.add_child(fg2)\n",
    "# m.add_child(fg3)\n",
    "\n",
    "# fglc = folium.plugins.GroupedLayerControl(\n",
    "#     groups={'Countries': [fg1, fg2,fg3]},\n",
    "#     exclusive_groups=False,\n",
    "#     collapsed=False,\n",
    "# )\n"
   ]
  },
  {
   "cell_type": "code",
   "execution_count": 18,
   "metadata": {},
   "outputs": [],
   "source": [
    "# #OLD##########\n",
    "# ### OLD ###\n",
    "# ###########\n",
    "\n",
    "# import folium\n",
    "# m=folium.Map()\n",
    "\n",
    "\n",
    "# l_fg_old = [\n",
    "#     fg_circ_store,\n",
    "#     fg_circ_merged,\n",
    "#     fg_join,\n",
    "#     fg_join_ind,\n",
    "#     fg_merge_ind,\n",
    "#     fg_merge\n",
    "# ]\n",
    "\n",
    "# for fg in l_fg_old:\n",
    "#     fg.add_to(m)\n",
    "\n",
    "\n",
    "# folium.LayerControl(position='topright',collapsed=False).add_to(m)\n",
    "# print('Adding Legend...')\n",
    "# m.fit_bounds(m.get_bounds())\n",
    "# print('Adding fullscreen')\n",
    "\n",
    "# folium.plugins.Fullscreen(position='topleft',\n",
    "#                         title='Expand me',\n",
    "#                         title_cancel='Exit me',\n",
    "#                         force_separate_button=True).add_to(m)\n",
    "\n",
    "# # m"
   ]
  },
  {
   "cell_type": "code",
   "execution_count": 19,
   "metadata": {},
   "outputs": [],
   "source": [
    "# ## NEW ##\n",
    "\n",
    "# import folium\n",
    "# m=folium.Map()\n",
    "\n",
    "# ##########\n",
    "# ## NEW ###\n",
    "# ##########\n",
    "\n",
    "\n",
    "# l_l_fg_children = [\n",
    "#     l_fg_geometry,\n",
    "#     l_fg_merged_allstores\n",
    "# # # #     # l_fg_stores\n",
    "# # # #     l_fg_store\n",
    "# ]\n",
    " \n",
    "\n",
    "# l_fglc = [\n",
    "#     fglc_geom, \n",
    "#     fglc_all_stores     \n",
    "# #     # fglc_stores,    \n",
    "# #     fglc_store\n",
    "# ]\n",
    "\n",
    "# # 3.1. GEOMETRIES (Region, Towns)   \n",
    "# for l_fg in l_l_fg_children:\n",
    "#     for fg in l_fg:\n",
    "#         fg.add_to(m)\n",
    "# for fglc in l_fglc:\n",
    "#     fglc.add_to(m)\n",
    "\n",
    "# # 3.2. STORES (Markers, Circles)    ### [fglc, fg_circ]\n",
    "# for k,v in d_fglc.items():\n",
    "#     print(f' Store={k}')\n",
    "#     for fg in v['l_children']:\n",
    "#         fg.add_to(m)\n",
    "#     v['fglc'].add_to(m)\n",
    "\n",
    "\n",
    "# ##########\n",
    "# ## NEW ###\n",
    "# ##########\n",
    "\n",
    "\n",
    "# # for fg in l_fg:\n",
    "# #     if type(fg) is list:\n",
    "# #         for ffg in fg:\n",
    "# #             ffg.add_to(m)\n",
    "# #     else:\n",
    "# #         fg.add_to(m)\n",
    "\n",
    "\n",
    "# folium.LayerControl(position='topright',collapsed=False).add_to(m)\n",
    "# print('Adding Legend...')\n",
    "# m.fit_bounds(m.get_bounds())\n",
    "# print('Adding fullscreen')\n",
    "\n",
    "# folium.plugins.Fullscreen(position='topleft',\n",
    "#                         title='Expand me',\n",
    "#                         title_cancel='Exit me',\n",
    "#                         force_separate_button=True).add_to(m)\n",
    "\n",
    "# m"
   ]
  },
  {
   "cell_type": "code",
   "execution_count": 36,
   "metadata": {},
   "outputs": [],
   "source": [
    "m.save('./bw_decathlon.html')"
   ]
  },
  {
   "cell_type": "code",
   "execution_count": 17,
   "metadata": {},
   "outputs": [],
   "source": [
    "# m = folium.Map([40., 70.], zoom_start=6)\n",
    "\n",
    "# fg1 = folium.FeatureGroup(name='g1', show=False)\n",
    "# fg2 = folium.FeatureGroup(name='g2', show=False)\n",
    "# fg3 = folium.FeatureGroup(name='g3')\n",
    "# folium.Marker([40, 74]).add_to(fg1)\n",
    "# folium.Marker([38, 72]).add_to(fg2)\n",
    "# folium.Marker([40, 72]).add_to(fg3)\n",
    "# m.add_child(fg1)\n",
    "# m.add_child(fg2)\n",
    "# m.add_child(fg3)\n",
    "\n",
    "# folium.LayerControl(collapsed=False).add_to(m)\n",
    "\n",
    "# folium.plugins.GroupedLayerControl(\n",
    "#     groups={'groups1': [fg1, fg2]},\n",
    "#     exclusive_groups=False,\n",
    "#     collapsed=False,\n",
    "# ).add_to(m)\n",
    "\n",
    "# # m"
   ]
  },
  {
   "cell_type": "code",
   "execution_count": 529,
   "metadata": {},
   "outputs": [
    {
     "data": {
      "text/plain": [
       "(153, 15)"
      ]
     },
     "execution_count": 529,
     "metadata": {},
     "output_type": "execute_result"
    }
   ],
   "source": [
    "gdf_merge_concat.shape"
   ]
  },
  {
   "cell_type": "code",
   "execution_count": 531,
   "metadata": {},
   "outputs": [],
   "source": [
    "gdf_merge_concat.to_file('./gdf_sued_germany2.json')"
   ]
  },
  {
   "cell_type": "markdown",
   "metadata": {},
   "source": [
    "# `MONSTER CODE`"
   ]
  },
  {
   "cell_type": "code",
   "execution_count": null,
   "metadata": {},
   "outputs": [],
   "source": [
    "gdf_intersection = gdf_store_circles.copy().set_crs(epsg=4326)\n",
    "gdf_circle_6933 = gdf_intersection.to_crs(epsg=6933)"
   ]
  },
  {
   "cell_type": "code",
   "execution_count": null,
   "metadata": {},
   "outputs": [
    {
     "name": "stderr",
     "output_type": "stream",
     "text": [
      "c:\\Users\\User\\AppData\\Local\\Programs\\Python\\Python312\\Lib\\site-packages\\shapely\\ops.py:274: FutureWarning: This function is deprecated. See: https://pyproj4.github.io/pyproj/stable/gotchas.html#upgrading-to-pyproj-2-from-pyproj-1\n",
      "  return type(geom)(zip(*func(*zip(*geom.coords))))\n"
     ]
    },
    {
     "name": "stdout",
     "output_type": "stream",
     "text": [
      "int_kfl=0.0Km2, int_geom=47661.49Km2, int_ewz=0.0\n",
      "Inside =0\n",
      "area_geom = 0.0\n",
      "area_geom_int = 0.0\n",
      "EWZ = 0\n",
      "EWZ_int = 0\n",
      "KFL = 0\n",
      "KFL_int = 0.0\n",
      "perc_data = nan\n",
      "perc_geom = nan\n",
      "area_geom_int= 0.0\n",
      "\n"
     ]
    },
    {
     "name": "stderr",
     "output_type": "stream",
     "text": [
      "c:\\Users\\User\\AppData\\Local\\Programs\\Python\\Python312\\Lib\\site-packages\\shapely\\ops.py:274: FutureWarning: This function is deprecated. See: https://pyproj4.github.io/pyproj/stable/gotchas.html#upgrading-to-pyproj-2-from-pyproj-1\n",
      "  return type(geom)(zip(*func(*zip(*geom.coords))))\n"
     ]
    },
    {
     "name": "stdout",
     "output_type": "stream",
     "text": [
      "int_kfl=0.0Km2, int_geom=47661.49Km2, int_ewz=0.0\n",
      "Inside =0\n",
      "area_geom = 0.0\n",
      "area_geom_int = 0.0\n",
      "EWZ = 0\n",
      "EWZ_int = 0\n",
      "KFL = 0\n",
      "KFL_int = 0.0\n",
      "perc_data = nan\n",
      "perc_geom = nan\n",
      "area_geom_int= 0.0\n",
      "\n",
      "int_kfl=0.0Km2, int_geom=47661.49Km2, int_ewz=0.0\n"
     ]
    },
    {
     "name": "stderr",
     "output_type": "stream",
     "text": [
      "c:\\Users\\User\\AppData\\Local\\Programs\\Python\\Python312\\Lib\\site-packages\\shapely\\ops.py:274: FutureWarning: This function is deprecated. See: https://pyproj4.github.io/pyproj/stable/gotchas.html#upgrading-to-pyproj-2-from-pyproj-1\n",
      "  return type(geom)(zip(*func(*zip(*geom.coords))))\n"
     ]
    },
    {
     "name": "stdout",
     "output_type": "stream",
     "text": [
      "Inside =0\n",
      "area_geom = 0.0\n",
      "area_geom_int = 0.0\n",
      "EWZ = 0\n",
      "EWZ_int = 0\n",
      "KFL = 0\n",
      "KFL_int = 0.0\n",
      "perc_data = nan\n",
      "perc_geom = nan\n",
      "area_geom_int= 0.0\n",
      "\n",
      "int_kfl=0.0Km2, int_geom=47661.49Km2, int_ewz=0.0\n"
     ]
    },
    {
     "name": "stderr",
     "output_type": "stream",
     "text": [
      "c:\\Users\\User\\AppData\\Local\\Programs\\Python\\Python312\\Lib\\site-packages\\shapely\\ops.py:274: FutureWarning: This function is deprecated. See: https://pyproj4.github.io/pyproj/stable/gotchas.html#upgrading-to-pyproj-2-from-pyproj-1\n",
      "  return type(geom)(zip(*func(*zip(*geom.coords))))\n"
     ]
    },
    {
     "name": "stdout",
     "output_type": "stream",
     "text": [
      "Inside =0\n",
      "area_geom = 0.0\n",
      "area_geom_int = 0.0\n",
      "EWZ = 0\n",
      "EWZ_int = 0\n",
      "KFL = 0\n",
      "KFL_int = 0.0\n",
      "perc_data = nan\n",
      "perc_geom = nan\n",
      "area_geom_int= 0.0\n",
      "\n"
     ]
    }
   ],
   "source": [
    "\n",
    "l_fg = []\n",
    "num_inside_towns, num_partly_towns = 0, 0\n",
    "sum_ewz,sum_kfl, sum_area_geom_int = 0, 0, 0\n",
    "sum_int_kfl, sum_int_ewz, sum_int_geom = 0, 0, 0\n",
    "\n",
    "\n",
    "# l_fg_point, l_fg_circle, l_fg_merged = []\n",
    "# l_fg_inside, l_fg_partly = []\n",
    "\n",
    "\n",
    "fg_circle = folium.FeatureGroup(name=f'Circles [r={radius_km} Km, Area={round(3.1415 * radius_km**2, 2)} Km2]')\n",
    "fg_join = folium.FeatureGroup(name=f'Intersections')\n",
    "fg_inside = folium.FeatureGroup(name=f'Markers - Inside towns')\n",
    "fg_partly = folium.FeatureGroup(name=f'Markers - Partly towns')\n",
    "fg_outside = folium.FeatureGroup(name=f'Markers - Outside towns')\n",
    "fg_overlay = folium.FeatureGroup(name=f'Overlay - Summary inside')\n",
    "\n",
    "l_gdf_circles = []\n",
    "l_gdf_merged_circles = []\n",
    "\n",
    "\n",
    "for i,center_point in enumerate(l_center_points):\n",
    "    lon = center_point[1]\n",
    "    lat = center_point[0]\n",
    "    geom_center_point = geometry.Point(lon, lat)\n",
    "\n",
    "    # Convert the Shapely circle to a geoDataFrame\n",
    "    poly_circle = f_maps.circle_around_lat_lon_point(\n",
    "        lon=lon, lat=lat, radius=1000 * radius_km)\n",
    "    gdf = gpd.GeoSeries([poly_circle])\n",
    "    gdf_intersection = gdf.to_frame(name='geometry').set_crs(epsg=4326)\n",
    "    gdf_circle_6933 = gdf_intersection.to_crs(epsg=6933)\n",
    "    l_gdf_circles.append(gdf_circle_6933.iloc[0].geometry)\n",
    "\n",
    "    # Generate the FeatureGroup and add it to the list\n",
    "    # fg_circle = folium.FeatureGroup(name=f'Circle [lat={lat}, lon ={lon}, r={radius_km} Km]')\n",
    "    gjson_circle = folium.GeoJson(gdf_intersection, color='red')\n",
    "    gjson_circle.add_to(fg_circle)\n",
    "    # l_fg_circle.append(fg_circle)\n",
    "\n",
    "    ############# INTERSECTION ####################\n",
    "    gdf_join = gpd.sjoin(gdf_geom_4326, gdf_intersection, \n",
    "                        how=\"inner\", predicate=\"intersects\") #\\\n",
    "                            # .drop(l_cols_non_serializable, axis=1)\n",
    "                            # \n",
    "\n",
    "    gdf_join['KFL_GPD'] = round(gdf_census_6993.geometry.area / 10**6, 2)\n",
    "    int_kfl = gdf_join.KFL.sum()\n",
    "    int_ewz =gdf_join.EWZ.sum()\n",
    "    int_geom = round(gdf_join.KFL_GPD.sum(), 2)\n",
    "    sum_int_kfl += int_kfl\n",
    "    sum_int_ewz += int_ewz\n",
    "    sum_int_geom += int_geom\n",
    "\n",
    "    print(f'int_kfl={int_kfl}Km2, int_geom={int_geom}Km2, int_ewz={int_ewz}')\n",
    "\n",
    "    gjson_store = f_maps.get_folium_geojson(gdf_join, \n",
    "                                    fields=['GEN', 'EWZ', 'KFL', 'KFL_GPD'],\n",
    "                                        aliases = ['Name', 'Population', 'Area_KFL', 'Area_Geom'])\n",
    "    gjson_store.add_to(fg_join)\n",
    "\n",
    "    ############# OVERLAY / individual ####################\n",
    "\n",
    "    col_perc = 'PERC_int'\n",
    "\n",
    "    # Set the column used for NORMALIZATION (denominator)\n",
    "    gdf_census_6993['area_geom'] = round(gdf_census_6993['geometry'].area / 10**6, 2)\n",
    "    # Overlay geometry with polygon  \n",
    "    gdf_intersection = gpd.overlay(gdf_census_6993, gdf_circle_6933, how='intersection')\n",
    "\n",
    "    # Set the column used for NORMALIZATION (numerator)\n",
    "    gdf_intersection['area'] = round(gdf_intersection['geometry'].area / 10**6, 2)\n",
    "    gdf_intersection[col_perc] = gdf_intersection['area'] / gdf_intersection['area_geom']\n",
    "    \n",
    "    \n",
    "    d_columns = {\n",
    "        'area_geom':{'alias' : 'area',        'is_norm': True,  'is_int':False},\n",
    "        'KFL':     {'alias' : 'area_data',    'is_norm': True,  'is_int':False},\n",
    "        'EWZ':     {'alias' : 'Population',   'is_norm': True,  'is_int':True}\n",
    "    }\n",
    "    \n",
    "    gdf_intersection = f_maps.overlay_shapes(gdf_circle=gdf_intersection, \n",
    "                                        col_perc=col_perc, \n",
    "                                        d_columns=d_columns)\n",
    "\n",
    "\n",
    "    # ################### Distance to point of interest ##########\n",
    "    gdf = pd.DataFrame(gdf_intersection[['ARS','lat','lon','PERC_int','GEN']])\n",
    "    gdf = gpd.GeoDataFrame(gdf, crs='epsg:4326', \n",
    "                        geometry=[geometry.Point(xy) for xy in zip(gdf['lon'], gdf['lat'])])\n",
    "    gdf = f_maps.compute_dist_to_lat_lon(gdf, lon=geom_center_point.x, lat=geom_center_point.y, round_dec=2, units='km')\n",
    "\n",
    "    #######################  Gemeinde Markers  ##########################\n",
    "    \n",
    "    gdf_inside = gdf[gdf[col_perc] == 1.0]\n",
    "    num_inside_towns += gdf_inside.shape[0]\n",
    "    print(f'Inside ={ gdf_inside.shape[0]}')\n",
    "    fg_inside_circle = f_maps.get_markers_polygon(gdf_inside,\n",
    "                                            l_tooltip=['GEN','dist'], \n",
    "                                            name=f'Markers inside {gdf_inside.shape[0]}', color='darkgreen')\n",
    "    fg_inside_circle.add_to(fg_inside)\n",
    "\n",
    "    gdf_partly = gdf[gdf[col_perc] != 1.0]\n",
    "    num_partly_towns += gdf_partly.shape[0]\n",
    "    fg_partly_circle = f_maps.get_markers_polygon(gdf_partly, \n",
    "                                            l_tooltip=['GEN','dist'], \n",
    "                                            name=f'Markers partly {gdf_partly.shape[0]}', color='orange')\n",
    "    fg_partly_circle.add_to(fg_partly)\n",
    "\n",
    "\n",
    "    # gdf_outside = gdf[gdf[col_perc] != 1.0]\n",
    "    \n",
    "    ############# OVERLAY / merged ####################\n",
    "\n",
    "    l_cols_percentaged = ['area_geom', 'EWZ', 'KFL']\n",
    "    gdf_merge = f_maps.merge_shapes(gdf_intersection, l_col_percs=l_cols_percentaged,\n",
    "                                    d_percs={'data':'KFL', 'geom':'area_geom'}, \n",
    "                                    num_dec=round_dec, is_logging=True)\n",
    "\n",
    "    gdf_merge['num_in'] = gdf_inside.shape[0]\n",
    "    gdf_merge['num_part'] = gdf_partly.shape[0]\n",
    "\n",
    "    l_gdf_merged_circles.append(gdf_merge)\n",
    "    \n",
    "    gjson_store = f_maps.get_folium_geojson(\n",
    "        gdf_merge, \n",
    "        fields=[\n",
    "            'perc_data', \n",
    "            'KFL_int', 'KFL',\n",
    "            'perc_geom',\n",
    "            'area_geom_int', 'area_geom',\n",
    "            'EWZ_int', 'EWZ',\n",
    "            'num_in', 'num_part', \n",
    "            ],\n",
    "        aliases = [\n",
    "            'Percentage data', \n",
    "            'Area_data intersection [Km2]', 'Area_data shape [Km2]',\n",
    "            'Percentage geometry',\n",
    "            'Area_geom intersection [Km2]', 'Area_geom shape [Km2]',\n",
    "            'Population intersection', 'Population shape',\n",
    "            '# Localities inside', \n",
    "            '# Localities partially inside',\n",
    "            ])\n",
    "    gjson_store.add_to(fg_overlay)\n",
    "    sum_ewz += gdf_merge['EWZ_int'].sum()\n",
    "    sum_kfl += gdf_merge['KFL_int'].sum()\n",
    "    sum_area_geom_int += gdf_merge['area_geom_int'].sum()\n",
    "    print(f'area_geom_int= {sum_area_geom_int}\\n')"
   ]
  },
  {
   "cell_type": "code",
   "execution_count": 58,
   "metadata": {},
   "outputs": [
    {
     "data": {
      "text/plain": [
       "Index(['OBJID', 'ADE', 'GF', 'BSG', 'ARS', 'AGS', 'SDV_ARS', 'GEN', 'BEZ',\n",
       "       'IBZ', 'BEM', 'NBD', 'SN_L', 'SN_R', 'SN_K', 'SN_V1', 'SN_V2', 'SN_G',\n",
       "       'FK_S3', 'NUTS', 'ARS_0', 'AGS_0', 'EWZ', 'KFL', 'DLM_ID', 'EPK',\n",
       "       'EPK_norm', 'KFL_GPD', 'centroid', 'lat_1', 'lon_1', 'area_geom', 'url',\n",
       "       'name', 'active', 'address', 'location', 'lat_2', 'lon_2', 'rect',\n",
       "       'marker', 'fg', 'point', 'GADM_1', 'GADM_2', 'GADM_3', 'GADM_4',\n",
       "       'store', 'geometry', 'area', 'PERC_int', 'area_geom_int', 'KFL_int',\n",
       "       'EWZ_int'],\n",
       "      dtype='object')"
      ]
     },
     "execution_count": 58,
     "metadata": {},
     "output_type": "execute_result"
    }
   ],
   "source": [
    "gdf_intersection.columns"
   ]
  },
  {
   "cell_type": "code",
   "execution_count": null,
   "metadata": {},
   "outputs": [],
   "source": [
    "\n",
    "fg_inside.layer_name = fg_inside.layer_name + f'[{num_inside_towns}/{gpd_census_filt.shape[0]}]'\n",
    "fg_partly.layer_name = fg_partly.layer_name + f'[{num_partly_towns}/{gpd_census_filt.shape[0]}]'\n",
    "fg_join.layer_name = fg_join.layer_name + f'[Area={sum_int_kfl}, Area_Geom={round(sum_int_geom,round_dec)}, EWZ={sum_int_ewz} ]'\n",
    "\n",
    "\n",
    "\n",
    "# area_merged_circ = round(poly_merged_circ.area / 10**6, 3)\n",
    "fg_overlay.layer_name = fg_overlay.layer_name + f'[Area_geom_int={sum_area_geom_int}, \\\n",
    "                                                    , KFL_int={sum_kfl} \\\n",
    "                                                     EWZ_int={sum_ewz}]'\n",
    "# fg_circle.layer_name = f'Circles [Radius={radius_km} Km, \\\n",
    "#                                     Area={round(3.1415 * radius_km**2, 2)} Km2]'"
   ]
  },
  {
   "cell_type": "code",
   "execution_count": 223,
   "metadata": {},
   "outputs": [
    {
     "data": {
      "text/plain": [
       "[<POLYGON ((1043641.029 5796631.545, 1043493.281 5795243.413, 1043074.219 579...>,\n",
       " <POLYGON ((986564.389 5738670.009, 986419.309 5737259.366, 986007.277 573586...>,\n",
       " <POLYGON ((968020.724 5805490.762, 967872.554 5804106.124, 967452.38 5802734...>,\n",
       " <POLYGON ((967989.589 5805241.335, 967841.43 5803856.599, 967421.288 5802485...>]"
      ]
     },
     "execution_count": 223,
     "metadata": {},
     "output_type": "execute_result"
    }
   ],
   "source": [
    "l_gdf_circles"
   ]
  },
  {
   "cell_type": "code",
   "execution_count": null,
   "metadata": {},
   "outputs": [
    {
     "data": {
      "text/plain": [
       "(28, 37)"
      ]
     },
     "execution_count": 29,
     "metadata": {},
     "output_type": "execute_result"
    }
   ],
   "source": [
    "geoseries_merged_circ = gpd.GeoSeries(l_gdf_circles)\n",
    "poly_merged_circ = geoseries_merged_circ.union_all()\n",
    "# poly_merged_circ\n",
    "\n",
    "geoseries_all_poly_merged = gpd.GeoSeries([poly_merged_circ])\n",
    "geoseries_all_poly_merged\n",
    "\n",
    "gdf_circ_poly_merged = geoseries_all_poly_merged.to_frame(name='geometry').set_crs(epsg=6933)\n",
    "gdf_circ_poly_merged\n",
    "\n",
    "\n",
    "# Set the column used for NORMALIZATION (denominator)\n",
    "gdf_census_6993['area_geom'] = round(gdf_census_6993['geometry'].area / 10**6, 2)\n",
    "# Overlay geometry with polygon  \n",
    "gdf_overlay_indiv = gpd.overlay(gdf_census_6993, gdf_circ_poly_merged, how='intersection')\n",
    "\n",
    "# Set the column used for NORMALIZATION (numerator)\n",
    "gdf_overlay_indiv['area'] = round(gdf_overlay_indiv['geometry'].area / 10**6, 2)\n",
    "gdf_overlay_indiv[col_perc] = gdf_overlay_indiv['area'] / gdf_overlay_indiv['area_geom']\n",
    "\n",
    "\n",
    "d_columns = {\n",
    "    'area_geom':{'alias' : 'area',        'is_norm': True,  'is_int':False},\n",
    "    'KFL':     {'alias' : 'area_data',    'is_norm': True,  'is_int':False},\n",
    "    'EWZ':     {'alias' : 'Population',   'is_norm': True,  'is_int':True}\n",
    "}\n",
    "\n",
    "col_perc = 'PERC_int'\n",
    "gdf_overlay_all = f_maps.overlay_shapes(gdf_circle=gdf_overlay_indiv, \n",
    "                                    col_perc=col_perc, \n",
    "                                    d_columns=d_columns)\n",
    "# }\n",
    "gdf_overlay_all.shape"
   ]
  },
  {
   "cell_type": "code",
   "execution_count": 30,
   "metadata": {},
   "outputs": [
    {
     "data": {
      "text/html": [
       "<div>\n",
       "<style scoped>\n",
       "    .dataframe tbody tr th:only-of-type {\n",
       "        vertical-align: middle;\n",
       "    }\n",
       "\n",
       "    .dataframe tbody tr th {\n",
       "        vertical-align: top;\n",
       "    }\n",
       "\n",
       "    .dataframe thead th {\n",
       "        text-align: right;\n",
       "    }\n",
       "</style>\n",
       "<table border=\"1\" class=\"dataframe\">\n",
       "  <thead>\n",
       "    <tr style=\"text-align: right;\">\n",
       "      <th></th>\n",
       "      <th>OBJID</th>\n",
       "      <th>ADE</th>\n",
       "      <th>GF</th>\n",
       "      <th>BSG</th>\n",
       "      <th>ARS</th>\n",
       "      <th>AGS</th>\n",
       "      <th>SDV_ARS</th>\n",
       "      <th>GEN</th>\n",
       "      <th>BEZ</th>\n",
       "      <th>IBZ</th>\n",
       "      <th>BEM</th>\n",
       "      <th>NBD</th>\n",
       "      <th>SN_L</th>\n",
       "      <th>SN_R</th>\n",
       "      <th>SN_K</th>\n",
       "      <th>SN_V1</th>\n",
       "      <th>SN_V2</th>\n",
       "      <th>SN_G</th>\n",
       "      <th>FK_S3</th>\n",
       "      <th>NUTS</th>\n",
       "      <th>ARS_0</th>\n",
       "      <th>AGS_0</th>\n",
       "      <th>EWZ</th>\n",
       "      <th>KFL</th>\n",
       "      <th>DLM_ID</th>\n",
       "      <th>EPK</th>\n",
       "      <th>EPK_norm</th>\n",
       "      <th>KFL_GPD</th>\n",
       "      <th>lat</th>\n",
       "      <th>lon</th>\n",
       "      <th>area_geom</th>\n",
       "      <th>geometry</th>\n",
       "      <th>area</th>\n",
       "      <th>PERC_int</th>\n",
       "      <th>area_geom_int</th>\n",
       "      <th>KFL_int</th>\n",
       "      <th>EWZ_int</th>\n",
       "    </tr>\n",
       "  </thead>\n",
       "  <tbody>\n",
       "    <tr>\n",
       "      <th>0</th>\n",
       "      <td>DEBKGVG2000006NB</td>\n",
       "      <td>6</td>\n",
       "      <td>4</td>\n",
       "      <td>1</td>\n",
       "      <td>120610020020</td>\n",
       "      <td>12061020</td>\n",
       "      <td>120610020020</td>\n",
       "      <td>Bestensee</td>\n",
       "      <td>Gemeinde</td>\n",
       "      <td>62</td>\n",
       "      <td>--</td>\n",
       "      <td>ja</td>\n",
       "      <td>12</td>\n",
       "      <td>0</td>\n",
       "      <td>61</td>\n",
       "      <td>00</td>\n",
       "      <td>20</td>\n",
       "      <td>020</td>\n",
       "      <td>R</td>\n",
       "      <td>DE406</td>\n",
       "      <td>120610020020</td>\n",
       "      <td>12061020</td>\n",
       "      <td>8932</td>\n",
       "      <td>38</td>\n",
       "      <td>DEBKGDL20000E3MM</td>\n",
       "      <td>235.052632</td>\n",
       "      <td>0.0</td>\n",
       "      <td>37.58</td>\n",
       "      <td>52.229444</td>\n",
       "      <td>13.643768</td>\n",
       "      <td>37.58</td>\n",
       "      <td>POLYGON ((1315765.576 5796186.923, 1315811.148...</td>\n",
       "      <td>37.58</td>\n",
       "      <td>1.000000</td>\n",
       "      <td>37.58</td>\n",
       "      <td>38.000000</td>\n",
       "      <td>8932</td>\n",
       "    </tr>\n",
       "    <tr>\n",
       "      <th>1</th>\n",
       "      <td>DEBKGVG2000006NC</td>\n",
       "      <td>6</td>\n",
       "      <td>4</td>\n",
       "      <td>1</td>\n",
       "      <td>120610112112</td>\n",
       "      <td>12061112</td>\n",
       "      <td>120610112112</td>\n",
       "      <td>Eichwalde</td>\n",
       "      <td>Gemeinde</td>\n",
       "      <td>62</td>\n",
       "      <td>--</td>\n",
       "      <td>ja</td>\n",
       "      <td>12</td>\n",
       "      <td>0</td>\n",
       "      <td>61</td>\n",
       "      <td>01</td>\n",
       "      <td>12</td>\n",
       "      <td>112</td>\n",
       "      <td>R</td>\n",
       "      <td>DE406</td>\n",
       "      <td>120610112112</td>\n",
       "      <td>12061112</td>\n",
       "      <td>6475</td>\n",
       "      <td>2</td>\n",
       "      <td>DEBKGDL20000DZOT</td>\n",
       "      <td>3237.500000</td>\n",
       "      <td>0.0</td>\n",
       "      <td>2.83</td>\n",
       "      <td>52.372860</td>\n",
       "      <td>13.623927</td>\n",
       "      <td>2.83</td>\n",
       "      <td>POLYGON ((1315435.222 5805593.956, 1316236.958...</td>\n",
       "      <td>2.83</td>\n",
       "      <td>1.000000</td>\n",
       "      <td>2.83</td>\n",
       "      <td>2.000000</td>\n",
       "      <td>6475</td>\n",
       "    </tr>\n",
       "    <tr>\n",
       "      <th>2</th>\n",
       "      <td>DEBKGVG2000006ND</td>\n",
       "      <td>6</td>\n",
       "      <td>4</td>\n",
       "      <td>1</td>\n",
       "      <td>120610217217</td>\n",
       "      <td>12061217</td>\n",
       "      <td>120610217217</td>\n",
       "      <td>Heidesee</td>\n",
       "      <td>Gemeinde</td>\n",
       "      <td>62</td>\n",
       "      <td>--</td>\n",
       "      <td>ja</td>\n",
       "      <td>12</td>\n",
       "      <td>0</td>\n",
       "      <td>61</td>\n",
       "      <td>02</td>\n",
       "      <td>17</td>\n",
       "      <td>217</td>\n",
       "      <td>R</td>\n",
       "      <td>DE406</td>\n",
       "      <td>120610217217</td>\n",
       "      <td>12061217</td>\n",
       "      <td>7416</td>\n",
       "      <td>135</td>\n",
       "      <td>DEBKGDL20000E61F</td>\n",
       "      <td>54.933333</td>\n",
       "      <td>0.0</td>\n",
       "      <td>136.12</td>\n",
       "      <td>52.247037</td>\n",
       "      <td>13.769812</td>\n",
       "      <td>136.12</td>\n",
       "      <td>POLYGON ((1331632.52 5800945.781, 1332180.624 ...</td>\n",
       "      <td>132.85</td>\n",
       "      <td>0.975977</td>\n",
       "      <td>132.85</td>\n",
       "      <td>131.756906</td>\n",
       "      <td>7237</td>\n",
       "    </tr>\n",
       "    <tr>\n",
       "      <th>3</th>\n",
       "      <td>DEBKGVG2000006NF</td>\n",
       "      <td>6</td>\n",
       "      <td>4</td>\n",
       "      <td>1</td>\n",
       "      <td>120610260260</td>\n",
       "      <td>12061260</td>\n",
       "      <td>120610260260</td>\n",
       "      <td>Königs Wusterhausen</td>\n",
       "      <td>Stadt</td>\n",
       "      <td>61</td>\n",
       "      <td>--</td>\n",
       "      <td>ja</td>\n",
       "      <td>12</td>\n",
       "      <td>0</td>\n",
       "      <td>61</td>\n",
       "      <td>02</td>\n",
       "      <td>60</td>\n",
       "      <td>260</td>\n",
       "      <td>R</td>\n",
       "      <td>DE406</td>\n",
       "      <td>120610260260</td>\n",
       "      <td>12061260</td>\n",
       "      <td>38929</td>\n",
       "      <td>96</td>\n",
       "      <td>DEBKGDL20000E3NO</td>\n",
       "      <td>405.510417</td>\n",
       "      <td>0.0</td>\n",
       "      <td>95.82</td>\n",
       "      <td>52.314088</td>\n",
       "      <td>13.677780</td>\n",
       "      <td>95.82</td>\n",
       "      <td>POLYGON ((1323821.412 5806531.436, 1323934.628...</td>\n",
       "      <td>95.82</td>\n",
       "      <td>1.000000</td>\n",
       "      <td>95.82</td>\n",
       "      <td>96.000000</td>\n",
       "      <td>38929</td>\n",
       "    </tr>\n",
       "    <tr>\n",
       "      <th>4</th>\n",
       "      <td>DEBKGVG2000006NJ</td>\n",
       "      <td>6</td>\n",
       "      <td>4</td>\n",
       "      <td>1</td>\n",
       "      <td>120610332332</td>\n",
       "      <td>12061332</td>\n",
       "      <td>120610332332</td>\n",
       "      <td>Mittenwalde</td>\n",
       "      <td>Stadt</td>\n",
       "      <td>61</td>\n",
       "      <td>--</td>\n",
       "      <td>ja</td>\n",
       "      <td>12</td>\n",
       "      <td>0</td>\n",
       "      <td>61</td>\n",
       "      <td>03</td>\n",
       "      <td>32</td>\n",
       "      <td>332</td>\n",
       "      <td>R</td>\n",
       "      <td>DE406</td>\n",
       "      <td>120610332332</td>\n",
       "      <td>12061332</td>\n",
       "      <td>9854</td>\n",
       "      <td>99</td>\n",
       "      <td>DEBKGDL20000E5P2</td>\n",
       "      <td>99.535354</td>\n",
       "      <td>0.0</td>\n",
       "      <td>99.28</td>\n",
       "      <td>52.248860</td>\n",
       "      <td>13.550094</td>\n",
       "      <td>99.28</td>\n",
       "      <td>POLYGON ((1303626.156 5801804.117, 1305605.291...</td>\n",
       "      <td>99.28</td>\n",
       "      <td>1.000000</td>\n",
       "      <td>99.28</td>\n",
       "      <td>99.000000</td>\n",
       "      <td>9854</td>\n",
       "    </tr>\n",
       "  </tbody>\n",
       "</table>\n",
       "</div>"
      ],
      "text/plain": [
       "              OBJID  ADE  GF  BSG           ARS       AGS       SDV_ARS  \\\n",
       "0  DEBKGVG2000006NB    6   4    1  120610020020  12061020  120610020020   \n",
       "1  DEBKGVG2000006NC    6   4    1  120610112112  12061112  120610112112   \n",
       "2  DEBKGVG2000006ND    6   4    1  120610217217  12061217  120610217217   \n",
       "3  DEBKGVG2000006NF    6   4    1  120610260260  12061260  120610260260   \n",
       "4  DEBKGVG2000006NJ    6   4    1  120610332332  12061332  120610332332   \n",
       "\n",
       "                   GEN       BEZ  IBZ BEM NBD SN_L SN_R SN_K SN_V1 SN_V2 SN_G  \\\n",
       "0            Bestensee  Gemeinde   62  --  ja   12    0   61    00    20  020   \n",
       "1            Eichwalde  Gemeinde   62  --  ja   12    0   61    01    12  112   \n",
       "2             Heidesee  Gemeinde   62  --  ja   12    0   61    02    17  217   \n",
       "3  Königs Wusterhausen     Stadt   61  --  ja   12    0   61    02    60  260   \n",
       "4          Mittenwalde     Stadt   61  --  ja   12    0   61    03    32  332   \n",
       "\n",
       "  FK_S3   NUTS         ARS_0     AGS_0    EWZ  KFL            DLM_ID  \\\n",
       "0     R  DE406  120610020020  12061020   8932   38  DEBKGDL20000E3MM   \n",
       "1     R  DE406  120610112112  12061112   6475    2  DEBKGDL20000DZOT   \n",
       "2     R  DE406  120610217217  12061217   7416  135  DEBKGDL20000E61F   \n",
       "3     R  DE406  120610260260  12061260  38929   96  DEBKGDL20000E3NO   \n",
       "4     R  DE406  120610332332  12061332   9854   99  DEBKGDL20000E5P2   \n",
       "\n",
       "           EPK  EPK_norm  KFL_GPD        lat        lon  area_geom  \\\n",
       "0   235.052632       0.0    37.58  52.229444  13.643768      37.58   \n",
       "1  3237.500000       0.0     2.83  52.372860  13.623927       2.83   \n",
       "2    54.933333       0.0   136.12  52.247037  13.769812     136.12   \n",
       "3   405.510417       0.0    95.82  52.314088  13.677780      95.82   \n",
       "4    99.535354       0.0    99.28  52.248860  13.550094      99.28   \n",
       "\n",
       "                                            geometry    area  PERC_int  \\\n",
       "0  POLYGON ((1315765.576 5796186.923, 1315811.148...   37.58  1.000000   \n",
       "1  POLYGON ((1315435.222 5805593.956, 1316236.958...    2.83  1.000000   \n",
       "2  POLYGON ((1331632.52 5800945.781, 1332180.624 ...  132.85  0.975977   \n",
       "3  POLYGON ((1323821.412 5806531.436, 1323934.628...   95.82  1.000000   \n",
       "4  POLYGON ((1303626.156 5801804.117, 1305605.291...   99.28  1.000000   \n",
       "\n",
       "   area_geom_int     KFL_int  EWZ_int  \n",
       "0          37.58   38.000000     8932  \n",
       "1           2.83    2.000000     6475  \n",
       "2         132.85  131.756906     7237  \n",
       "3          95.82   96.000000    38929  \n",
       "4          99.28   99.000000     9854  "
      ]
     },
     "execution_count": 30,
     "metadata": {},
     "output_type": "execute_result"
    }
   ],
   "source": [
    "pd.set_option('display.max_columns', None)\n",
    "gdf_overlay_indiv.head(5)"
   ]
  },
  {
   "cell_type": "code",
   "execution_count": null,
   "metadata": {},
   "outputs": [],
   "source": [
    "# mask1 = gdf_geom_4326['ARS'].isin(gdf_overlay_indiv['ARS'])\n",
    "# gdf_markers_intersect = gdf_geom_4326[mask1]\n",
    "\n",
    "\n",
    "# gdf_markers_intersect['lat'] = gdf_markers_intersect.geometry.centroid.y\n",
    "# gdf_markers_intersect['lon'] = gdf_markers_intersect.geometry.centroid.x\n",
    "# gdf_markers_intersect = gdf_markers_intersect.to_crs(epsg=4326)\n",
    "# gdf_markers_intersect = gpd.GeoDataFrame(gdf_markers_intersect, crs='epsg:4326', \n",
    "#                         geometry=[geometry.Point(xy) for xy in zip(gdf_markers_intersect['lon'], gdf_markers_intersect['lat'])])\n",
    "\n",
    "# gdf_markers_intersect = pd.DataFrame(gdf_markers_intersect[['ARS','lat','lon','GEN','geometry']])\n",
    "\n",
    "# gdf_markers_intersect = f_maps.compute_dist_to_lat_lon(gdf_markers_intersect, lon=center_point.x, lat=center_point.y, round_dec=2, units='km')\n",
    "# # gdf_partly = gdf[gdf[col_perc] != 1.0]\n",
    "# # num_partly_towns += gdf_partly.shape[0]\n",
    "# # fg_partly_circle = f_maps.get_markers_polygon(gdf_partly, \n",
    "# #                                             name=f'Markers Inside {gdf_partly.shape[0]}', \n",
    "#                                               l_tooltip=['GEN','dist'], \n",
    "# #                                             color='orange')\n",
    "# # fg_partly_circle.add_to(fg_partly)\n",
    "# gdf_markers_intersect.head(5)"
   ]
  },
  {
   "cell_type": "code",
   "execution_count": 485,
   "metadata": {},
   "outputs": [
    {
     "ename": "NameError",
     "evalue": "name 'gdf_overlay_indiv' is not defined",
     "output_type": "error",
     "traceback": [
      "\u001b[1;31m---------------------------------------------------------------------------\u001b[0m",
      "\u001b[1;31mNameError\u001b[0m                                 Traceback (most recent call last)",
      "Cell \u001b[1;32mIn[485], line 1\u001b[0m\n\u001b[1;32m----> 1\u001b[0m mask1 \u001b[38;5;241m=\u001b[39m \u001b[38;5;241m~\u001b[39mgdf_geom_4326[\u001b[38;5;124m'\u001b[39m\u001b[38;5;124mARS\u001b[39m\u001b[38;5;124m'\u001b[39m]\u001b[38;5;241m.\u001b[39misin(\u001b[43mgdf_overlay_indiv\u001b[49m[\u001b[38;5;124m'\u001b[39m\u001b[38;5;124mARS\u001b[39m\u001b[38;5;124m'\u001b[39m])\n\u001b[0;32m      2\u001b[0m gdf_outside \u001b[38;5;241m=\u001b[39m gdf_geom_4326[mask1]\n\u001b[0;32m      5\u001b[0m gdf_outside[\u001b[38;5;124m'\u001b[39m\u001b[38;5;124mlat\u001b[39m\u001b[38;5;124m'\u001b[39m] \u001b[38;5;241m=\u001b[39m gdf_outside\u001b[38;5;241m.\u001b[39mgeometry\u001b[38;5;241m.\u001b[39mcentroid\u001b[38;5;241m.\u001b[39my\n",
      "\u001b[1;31mNameError\u001b[0m: name 'gdf_overlay_indiv' is not defined"
     ]
    }
   ],
   "source": [
    "mask1 = ~gdf_geom_4326['ARS'].isin(gdf_overlay_indiv['ARS'])\n",
    "gdf_outside = gdf_geom_4326[mask1]\n",
    "\n",
    "\n",
    "gdf_outside['lat'] = gdf_outside.geometry.centroid.y\n",
    "gdf_outside['lon'] = gdf_outside.geometry.centroid.x\n",
    "gdf_outside = gdf_outside.to_crs(epsg=4326)\n",
    "gdf_outside = gpd.GeoDataFrame(gdf_outside, crs='epsg:4326', \n",
    "                        geometry=[geometry.Point(xy) for xy in zip(gdf_outside['lon'], gdf_outside['lat'])])\n",
    "gdf_outside = pd.DataFrame(gdf_outside[['ARS','lat','lon','GEN','geometry']])\n",
    "\n",
    "gdf = f_maps.compute_dist_to_lat_lon(gdf_outside, lon=geom_center_point.x, lat=geom_center_point.y, round_dec=2, units='km')\n",
    "\n",
    "fg_outside = f_maps.get_markers_polygon(gdf_outside,\n",
    "                                            name=f'Markers outside [{gdf_outside.shape[0]}/{gdf_geom_4326.shape[0]}]', \n",
    "                                            l_tooltip=['GEN','dist'], \n",
    "                                            color='red')"
   ]
  },
  {
   "cell_type": "code",
   "execution_count": null,
   "metadata": {},
   "outputs": [
    {
     "name": "stdout",
     "output_type": "stream",
     "text": [
      "area_geom = 1811.69\n",
      "area_geom_int = 1024.78\n",
      "EWZ = 329298\n",
      "EWZ_int = 236771\n",
      "KFL = 1798\n",
      "KFL_int = 1015.57\n",
      "perc_data = 0.56\n",
      "perc_geom = 0.57\n"
     ]
    },
    {
     "data": {
      "text/plain": [
       "<folium.features.GeoJson at 0x1eafe680200>"
      ]
     },
     "execution_count": 34,
     "metadata": {},
     "output_type": "execute_result"
    }
   ],
   "source": [
    "\n",
    "\n",
    "############# OVERLAY / merged ####################\n",
    "\n",
    "l_cols_percentaged = ['area_geom', 'EWZ', 'KFL']\n",
    "gdf_merge = f_maps.merge_shapes(gdf_overlay_all, l_col_percs=l_cols_percentaged,\n",
    "                                d_percs={'data':'KFL', 'geom':'area_geom'}, \n",
    "                                num_dec=round_dec, is_logging=True)\n",
    "\n",
    "gdf_merge['num_in'] = gdf_inside.shape[0]\n",
    "gdf_merge['num_part'] = gdf_partly.shape[0]\n",
    "\n",
    "l_gdf_merged_circles.append(gdf_merge)\n",
    "\n",
    "\n",
    "exploded_gdf = gdf_circ_poly_merged.explode()\n",
    "fg_overlay_all = folium.FeatureGroup(name=f'Overlay all [elems={len(l_gdf_circles)}, merged_elems={len(exploded_gdf)}' + \\\n",
    "                                    f'KFL_int={gdf_merge.KFL_int.sum()} km2,' + \\\n",
    "                                    # 'KFL={gdf_merge.KFL.sum()},' + \\\n",
    "                                    f'Area_geom_int={gdf_merge.area_geom_int.sum()} km2,' + \\\n",
    "                                    # 'Area_Geom={gdf_merge.area_geom.sum()},' + \\\n",
    "                                    f'EWZ_int={gdf_merge.EWZ_int.sum()},' \n",
    "                                    # 'EWZ={gdf_merge.EWZ.sum()} ]' + \\\n",
    "                                    )\n",
    "gjson_store = f_maps.get_folium_geojson(\n",
    "    gdf_merge, \n",
    "    fields=[\n",
    "        'perc_data', \n",
    "        'KFL_int', 'KFL',\n",
    "        'perc_geom',\n",
    "        'area_geom_int', 'area_geom',\n",
    "        'EWZ_int', 'EWZ',\n",
    "        'num_in', 'num_part', \n",
    "        ],\n",
    "    aliases = [\n",
    "        'Percentage data', \n",
    "        'Area_data intersection [Km2]', 'Area_data shape [Km2]',\n",
    "        'Percentage geometry',\n",
    "        'Area_geom intersection [Km2]', 'Area_geom shape [Km2]',\n",
    "        'Population intersection', 'Population shape',\n",
    "        '# Localities inside', \n",
    "        '# Localities partially inside',\n",
    "        ])\n",
    "gjson_store.add_to(fg_overlay_all)"
   ]
  },
  {
   "cell_type": "code",
   "execution_count": null,
   "metadata": {},
   "outputs": [],
   "source": [
    "# import folium.map\n",
    "\n",
    "# l_fg = [\n",
    "#     # fg_geom, \n",
    "#     fg_point, fg_circle, fg_join, \n",
    "#     fg_overlay, fg_overlay_all, \n",
    "#       fg_inside,fg_partly,\n",
    "#      fg_outside\n",
    "#     ]\n",
    "\n",
    "# m=folium.Map()\n",
    "# for fg in l_fg:\n",
    "#     fg.add_to(m)\n",
    "# folium.LayerControl(position='topright',collapsed=False).add_to(m)\n",
    "# # m.add_child(folium.LatLngPopup())\n",
    "\n",
    "# m.fit_bounds(m.get_bounds())\n",
    "# m"
   ]
  }
 ],
 "metadata": {
  "kernelspec": {
   "display_name": "Python 3",
   "language": "python",
   "name": "python3"
  },
  "language_info": {
   "codemirror_mode": {
    "name": "ipython",
    "version": 3
   },
   "file_extension": ".py",
   "mimetype": "text/x-python",
   "name": "python",
   "nbconvert_exporter": "python",
   "pygments_lexer": "ipython3",
   "version": "3.12.6"
  }
 },
 "nbformat": 4,
 "nbformat_minor": 2
}
