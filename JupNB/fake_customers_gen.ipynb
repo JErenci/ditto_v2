{
 "cells": [
  {
   "cell_type": "code",
   "execution_count": 6,
   "id": "e3dc302a-15df-4fa5-89e7-2bd51c2f1d50",
   "metadata": {},
   "outputs": [],
   "source": [
    "# python.exe -m pip install --upgrade pip"
   ]
  },
  {
   "cell_type": "code",
   "execution_count": 14,
   "id": "add75c6c-e142-412d-97a1-06d4f709954b",
   "metadata": {},
   "outputs": [
    {
     "name": "stdout",
     "output_type": "stream",
     "text": [
      "Requirement already satisfied: pip in c:\\users\\user\\appdata\\local\\programs\\python\\python312\\lib\\site-packages (24.2)\n",
      "Collecting pip\n",
      "  Downloading pip-24.3.1-py3-none-any.whl.metadata (3.7 kB)\n",
      "Downloading pip-24.3.1-py3-none-any.whl (1.8 MB)\n",
      "   ---------------------------------------- 0.0/1.8 MB ? eta -:--:--\n",
      "   ---------------------------------------- 1.8/1.8 MB 20.0 MB/s eta 0:00:00\n",
      "Installing collected packages: pip\n",
      "  Attempting uninstall: pip\n",
      "    Found existing installation: pip 24.2\n",
      "    Uninstalling pip-24.2:\n",
      "      Successfully uninstalled pip-24.2\n",
      "Successfully installed pip-24.3.1\n",
      "Note: you may need to restart the kernel to use updated packages.\n"
     ]
    }
   ],
   "source": [
    "pip install --upgrade pip"
   ]
  },
  {
   "cell_type": "code",
   "execution_count": 15,
   "id": "7cfea4cc-96ce-4fdb-bb97-692b65e41948",
   "metadata": {},
   "outputs": [
    {
     "name": "stdout",
     "output_type": "stream",
     "text": [
      "Requirement already satisfied: faker in c:\\users\\user\\appdata\\local\\programs\\python\\python312\\lib\\site-packages (33.3.1)\n",
      "Requirement already satisfied: python-dateutil>=2.4 in c:\\users\\user\\appdata\\local\\programs\\python\\python312\\lib\\site-packages (from faker) (2.9.0.post0)\n",
      "Requirement already satisfied: typing-extensions in c:\\users\\user\\appdata\\local\\programs\\python\\python312\\lib\\site-packages (from faker) (4.12.2)\n",
      "Requirement already satisfied: six>=1.5 in c:\\users\\user\\appdata\\local\\programs\\python\\python312\\lib\\site-packages (from python-dateutil>=2.4->faker) (1.16.0)\n",
      "Note: you may need to restart the kernel to use updated packages.\n"
     ]
    }
   ],
   "source": [
    "pip install faker"
   ]
  },
  {
   "cell_type": "code",
   "execution_count": 32,
   "id": "ac5b3ca5-b488-4ac0-8b99-761dd6574514",
   "metadata": {},
   "outputs": [
    {
     "name": "stdout",
     "output_type": "stream",
     "text": [
      "CSV file 'random_data.csv' generated successfully.\n"
     ]
    }
   ],
   "source": [
    "import csv\n",
    "import random\n",
    "import faker\n",
    "\n",
    "# Initialize the Faker library with German locale\n",
    "fake = faker.Faker('de_DE')\n",
    "\n",
    "# Define the number of lines\n",
    "num_lines = 10\n",
    "\n",
    "# Open a CSV file for writing with UTF-8 encoding\n",
    "with open('random_data.csv', mode='w', newline='', encoding='utf-8') as file:\n",
    "    writer = csv.writer(file)\n",
    "    \n",
    "    # Write the header\n",
    "    writer.writerow(['Name', 'Age', 'Street', 'City', 'Postal Code'])\n",
    "    \n",
    "    # Write the data rows\n",
    "    for _ in range(num_lines):\n",
    "        name = fake.name()\n",
    "        age = random.randint(18, 80)\n",
    "        street = fake.street_address()\n",
    "        city = fake.city()\n",
    "        postal_code = fake.postcode()\n",
    "        writer.writerow([name, age, street, city, postal_code])\n",
    "\n",
    "print(\"CSV file 'random_data.csv' generated successfully.\")"
   ]
  },
  {
   "cell_type": "code",
   "execution_count": 36,
   "id": "d4c4d843-6c4f-4cb1-93e0-6a37b6420e3b",
   "metadata": {},
   "outputs": [
    {
     "name": "stdout",
     "output_type": "stream",
     "text": [
      "['Name', 'Age', 'Street', 'City', 'Postal Code']\n",
      "['Wulf Boucsein MBA.', '51', 'Budigplatz 019', 'Bayreuth', '48616']\n",
      "['Dipl.-Ing. Jonas Heintze', '34', 'Adolf-Drewes-Platz 9/1', 'Diepholz', '91008']\n",
      "['Dr. Reni TÃ¤sche MBA.', '45', 'Silvester-Hein-Gasse 9', 'HohenmÃ¶lsen', '78650']\n",
      "['Mara WeiÃŸ-Hettner', '19', 'Roskothallee 119', 'Bernburg', '45388']\n",
      "['RÃ¼diger Scholz', '56', 'Kira-Werner-Gasse 477', 'Apolda', '79738']\n",
      "['Imre Zahn', '19', 'Sieringplatz 8', 'Perleberg', '60656']\n",
      "['Ingbert Heintze', '19', 'Gerlachweg 052', 'Hannover', '42628']\n",
      "['Robby SchÃ¤fer', '68', 'Fliegnerweg 5', 'Senftenberg', '42763']\n",
      "['Klaus Dieter Pohl B.A.', '68', 'Tassilo-Ritter-Weg 0/2', 'Rottweil', '33961']\n",
      "['Korinna Herrmann', '25', 'Blochstr. 468', 'Sebnitz', '42892']\n"
     ]
    }
   ],
   "source": [
    "filename = 'random_data.csv' \n",
    "import csv\n",
    "\n",
    "with open(filename, 'r') as file:\n",
    "    reader = csv.reader(file)\n",
    "    for row in reader:\n",
    "        print(row)"
   ]
  },
  {
   "cell_type": "code",
   "execution_count": null,
   "id": "4e744a8f-d620-42ec-85fe-8f1a69c80b6d",
   "metadata": {},
   "outputs": [],
   "source": []
  }
 ],
 "metadata": {
  "kernelspec": {
   "display_name": "Python 3 (ipykernel)",
   "language": "python",
   "name": "python3"
  },
  "language_info": {
   "codemirror_mode": {
    "name": "ipython",
    "version": 3
   },
   "file_extension": ".py",
   "mimetype": "text/x-python",
   "name": "python",
   "nbconvert_exporter": "python",
   "pygments_lexer": "ipython3",
   "version": "3.12.6"
  }
 },
 "nbformat": 4,
 "nbformat_minor": 5
}
