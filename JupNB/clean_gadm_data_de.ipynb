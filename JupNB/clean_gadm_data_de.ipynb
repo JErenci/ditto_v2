{
 "cells": [
  {
   "cell_type": "code",
   "execution_count": 1,
   "metadata": {},
   "outputs": [],
   "source": [
    "import os\n",
    "os.chdir('/Code/ditto_v2')"
   ]
  },
  {
   "cell_type": "code",
   "execution_count": 2,
   "metadata": {},
   "outputs": [
    {
     "data": {
      "text/plain": [
       "'c:\\\\Code\\\\ditto_v2'"
      ]
     },
     "execution_count": 2,
     "metadata": {},
     "output_type": "execute_result"
    }
   ],
   "source": [
    "%pwd"
   ]
  },
  {
   "cell_type": "code",
   "execution_count": 3,
   "metadata": {},
   "outputs": [],
   "source": [
    "from src.functionality_maps import paths, f_maps\n",
    "import geopandas as gpd"
   ]
  },
  {
   "cell_type": "code",
   "execution_count": 4,
   "metadata": {},
   "outputs": [],
   "source": [
    "# d_geom_gadm = {\n",
    "#     'D1'     : f_maps.load_gdf_from_csv(path=paths.csv[paths.l_d_dropdown_map[0]]),\n",
    "#     'D2'     : f_maps.load_gdf_from_csv(path=paths.csv[paths.l_d_dropdown_map[1]]),\n",
    "#     'D3'     : f_maps.load_gdf_from_csv(path=paths.csv[paths.l_d_dropdown_map[2]]),\n",
    "#     'D4'     : f_maps.load_gdf_from_csv(path=paths.csv[paths.l_d_dropdown_map[3]]),\n",
    "#     'zip'    : f_maps.load_gdf_from_csv(path=paths.csv[paths.l_d_dropdown_map[4]]),\n",
    "#     'census' : gpd.read_file('.\\JupNB\\DE_Data\\VG250_GEM_WGS84.shp')\n",
    "# }"
   ]
  },
  {
   "cell_type": "code",
   "execution_count": 5,
   "metadata": {},
   "outputs": [],
   "source": [
    "d_map_gadm_name = {\n",
    "    'D1' : 'Country', \n",
    "    'D2' : 'State', \n",
    "    'D3' : 'Region', \n",
    "    'D4' : 'District', \n",
    "    'ZIP': 'Locality'\n",
    "}"
   ]
  },
  {
   "cell_type": "code",
   "execution_count": null,
   "metadata": {},
   "outputs": [],
   "source": [
    "def load_germany(l_levels:list, is_census:bool=False, is_logging:bool=False) -> dict:\n",
    "    d_ger = dict()\n",
    "    for level in l_levels:\n",
    "        \n",
    "        d_ger[level] = f_maps.load_gdf_from_csv(path=paths.csv[paths.d_map_gadm_name[level]])\n",
    "        if is_logging:\n",
    "            print(f'Level [{level}-{paths.d_map_gadm_name[level]}] loaded!')\n",
    "    if is_census:\n",
    "        d_ger['census'] = gpd.read_file('./JupNB/DE_Data/VG250_GEM_WGS84.shp')\n",
    "    return d_ger"
   ]
  },
  {
   "cell_type": "code",
   "execution_count": null,
   "metadata": {},
   "outputs": [
    {
     "name": "stdout",
     "output_type": "stream",
     "text": [
      "Level [D1-Country] loaded!\n",
      "Level [D2-State] loaded!\n",
      "Level [D3-Region] loaded!\n",
      "Level [D4-District] loaded!\n",
      "Level [ZIP-Locality] loaded!\n"
     ]
    }
   ],
   "source": [
    "d_ger = load_germany(l_levels=['D1','D2','D3','D4','ZIP','census'], is_logging=True)"
   ]
  },
  {
   "cell_type": "code",
   "execution_count": 8,
   "metadata": {},
   "outputs": [
    {
     "data": {
      "text/html": [
       "<div>\n",
       "<style scoped>\n",
       "    .dataframe tbody tr th:only-of-type {\n",
       "        vertical-align: middle;\n",
       "    }\n",
       "\n",
       "    .dataframe tbody tr th {\n",
       "        vertical-align: top;\n",
       "    }\n",
       "\n",
       "    .dataframe thead th {\n",
       "        text-align: right;\n",
       "    }\n",
       "</style>\n",
       "<table border=\"1\" class=\"dataframe\">\n",
       "  <thead>\n",
       "    <tr style=\"text-align: right;\">\n",
       "      <th></th>\n",
       "      <th>geometry</th>\n",
       "      <th>ID_0</th>\n",
       "      <th>ISO</th>\n",
       "      <th>NAME_0</th>\n",
       "      <th>ID_1</th>\n",
       "      <th>NAME_1</th>\n",
       "      <th>ID_2</th>\n",
       "      <th>NAME_2</th>\n",
       "      <th>ID_3</th>\n",
       "      <th>NAME_3</th>\n",
       "      <th>NL_NAME_3</th>\n",
       "      <th>VARNAME_3</th>\n",
       "      <th>TYPE_3</th>\n",
       "      <th>ENGTYPE_3</th>\n",
       "    </tr>\n",
       "  </thead>\n",
       "  <tbody>\n",
       "    <tr>\n",
       "      <th>0</th>\n",
       "      <td>POLYGON ((8.65348 53.11003, 8.66599 53.10659, ...</td>\n",
       "      <td>86</td>\n",
       "      <td>DEU</td>\n",
       "      <td>Germany</td>\n",
       "      <td>9</td>\n",
       "      <td>Niedersachsen</td>\n",
       "      <td>23</td>\n",
       "      <td>Weser-Ems</td>\n",
       "      <td>244</td>\n",
       "      <td>Oldenburg</td>\n",
       "      <td>NaN</td>\n",
       "      <td>NaN</td>\n",
       "      <td>Landkreise</td>\n",
       "      <td>Rural district</td>\n",
       "    </tr>\n",
       "    <tr>\n",
       "      <th>1</th>\n",
       "      <td>POLYGON ((7.96379 52.32545, 7.9696 52.32937, 7...</td>\n",
       "      <td>86</td>\n",
       "      <td>DEU</td>\n",
       "      <td>Germany</td>\n",
       "      <td>9</td>\n",
       "      <td>Niedersachsen</td>\n",
       "      <td>23</td>\n",
       "      <td>Weser-Ems</td>\n",
       "      <td>245</td>\n",
       "      <td>Osnabrück Städte</td>\n",
       "      <td>NaN</td>\n",
       "      <td>NaN</td>\n",
       "      <td>Kreisfreie Städte</td>\n",
       "      <td>Urban district</td>\n",
       "    </tr>\n",
       "    <tr>\n",
       "      <th>2</th>\n",
       "      <td>POLYGON ((8.02655 52.68435, 8.0391 52.67371, 8...</td>\n",
       "      <td>86</td>\n",
       "      <td>DEU</td>\n",
       "      <td>Germany</td>\n",
       "      <td>9</td>\n",
       "      <td>Niedersachsen</td>\n",
       "      <td>23</td>\n",
       "      <td>Weser-Ems</td>\n",
       "      <td>246</td>\n",
       "      <td>Osnabrück</td>\n",
       "      <td>NaN</td>\n",
       "      <td>NaN</td>\n",
       "      <td>Landkreise</td>\n",
       "      <td>Rural district</td>\n",
       "    </tr>\n",
       "    <tr>\n",
       "      <th>3</th>\n",
       "      <td>POLYGON ((8.46214 52.80015, 8.45627 52.79629, ...</td>\n",
       "      <td>86</td>\n",
       "      <td>DEU</td>\n",
       "      <td>Germany</td>\n",
       "      <td>9</td>\n",
       "      <td>Niedersachsen</td>\n",
       "      <td>23</td>\n",
       "      <td>Weser-Ems</td>\n",
       "      <td>247</td>\n",
       "      <td>Vechta</td>\n",
       "      <td>NaN</td>\n",
       "      <td>NaN</td>\n",
       "      <td>Landkreise</td>\n",
       "      <td>Rural district</td>\n",
       "    </tr>\n",
       "    <tr>\n",
       "      <th>4</th>\n",
       "      <td>MULTIPOLYGON (((8.3075 53.61819, 8.3075 53.617...</td>\n",
       "      <td>86</td>\n",
       "      <td>DEU</td>\n",
       "      <td>Germany</td>\n",
       "      <td>9</td>\n",
       "      <td>Niedersachsen</td>\n",
       "      <td>23</td>\n",
       "      <td>Weser-Ems</td>\n",
       "      <td>248</td>\n",
       "      <td>Wesermarsch</td>\n",
       "      <td>NaN</td>\n",
       "      <td>NaN</td>\n",
       "      <td>Landkreise</td>\n",
       "      <td>Rural district</td>\n",
       "    </tr>\n",
       "  </tbody>\n",
       "</table>\n",
       "</div>"
      ],
      "text/plain": [
       "                                            geometry  ID_0  ISO   NAME_0  \\\n",
       "0  POLYGON ((8.65348 53.11003, 8.66599 53.10659, ...    86  DEU  Germany   \n",
       "1  POLYGON ((7.96379 52.32545, 7.9696 52.32937, 7...    86  DEU  Germany   \n",
       "2  POLYGON ((8.02655 52.68435, 8.0391 52.67371, 8...    86  DEU  Germany   \n",
       "3  POLYGON ((8.46214 52.80015, 8.45627 52.79629, ...    86  DEU  Germany   \n",
       "4  MULTIPOLYGON (((8.3075 53.61819, 8.3075 53.617...    86  DEU  Germany   \n",
       "\n",
       "   ID_1         NAME_1  ID_2     NAME_2  ID_3            NAME_3  NL_NAME_3  \\\n",
       "0     9  Niedersachsen    23  Weser-Ems   244         Oldenburg        NaN   \n",
       "1     9  Niedersachsen    23  Weser-Ems   245  Osnabrück Städte        NaN   \n",
       "2     9  Niedersachsen    23  Weser-Ems   246         Osnabrück        NaN   \n",
       "3     9  Niedersachsen    23  Weser-Ems   247            Vechta        NaN   \n",
       "4     9  Niedersachsen    23  Weser-Ems   248       Wesermarsch        NaN   \n",
       "\n",
       "  VARNAME_3             TYPE_3       ENGTYPE_3  \n",
       "0       NaN         Landkreise  Rural district  \n",
       "1       NaN  Kreisfreie Städte  Urban district  \n",
       "2       NaN         Landkreise  Rural district  \n",
       "3       NaN         Landkreise  Rural district  \n",
       "4       NaN         Landkreise  Rural district  "
      ]
     },
     "execution_count": 8,
     "metadata": {},
     "output_type": "execute_result"
    }
   ],
   "source": [
    "d_ger['D4'].head()"
   ]
  },
  {
   "cell_type": "code",
   "execution_count": null,
   "metadata": {},
   "outputs": [],
   "source": []
  }
 ],
 "metadata": {
  "kernelspec": {
   "display_name": "Python 3",
   "language": "python",
   "name": "python3"
  },
  "language_info": {
   "codemirror_mode": {
    "name": "ipython",
    "version": 3
   },
   "file_extension": ".py",
   "mimetype": "text/x-python",
   "name": "python",
   "nbconvert_exporter": "python",
   "pygments_lexer": "ipython3",
   "version": "3.12.6"
  }
 },
 "nbformat": 4,
 "nbformat_minor": 2
}
