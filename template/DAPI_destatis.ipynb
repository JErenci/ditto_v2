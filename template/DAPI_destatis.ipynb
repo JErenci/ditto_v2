{
 "cells": [
  {
   "cell_type": "markdown",
   "id": "0bd9e050-8e87-48c2-a820-f09e98f6fa88",
   "metadata": {},
   "source": [
    "### DEUTSCHLAND API\n",
    "### GH:    https://github.com/bundesAPI/deutschland\n",
    "### API1:  host = \"https://www-genesis.destatis.de/genesisWS/rest/2020\"\n",
    "### API2:  host = \"https://ergebnisse.zensus2022.de/api/rest/2020\""
   ]
  },
  {
   "cell_type": "code",
   "execution_count": 23,
   "id": "8d30b8a4-7bfb-4e75-9656-3f68f45d3eee",
   "metadata": {},
   "outputs": [],
   "source": [
    "import web_functions\n",
    "import urllib, requests"
   ]
  },
  {
   "cell_type": "code",
   "execution_count": 96,
   "id": "d4f344c9-9fbd-4272-b5f2-194ccd57f0d2",
   "metadata": {},
   "outputs": [],
   "source": [
    "username = \"joan.guerrero.erencia@gmail.com\"\n",
    "password = \"ZensusDB#2309\"\n",
    "lang = 'de'\n",
    "myToken = '4b793986dde543f6b1e58575ba1038d4'"
   ]
  },
  {
   "cell_type": "code",
   "execution_count": 97,
   "id": "a402f45d-5f50-4bc8-b9a8-1e5e2f02df4d",
   "metadata": {},
   "outputs": [
    {
     "name": "stdout",
     "output_type": "stream",
     "text": [
      "encoded_url1 =username=joan.guerrero.erencia@gmail.com&password=ZensusDB#232309&language=en\n",
      "encoded_url1 =username=joan.guerrero.erencia%40gmail.com&password=ZensusDB%232309&language=de\n",
      "encoded_url2=username=joan.guerrero.erencia%40gmail%2Ecom&password=ZensusDB%232309&language=en\n",
      "encoded_url3=username=joan.guerrero.erencia@gmail.com\n",
      "encoded_url3=username=joan.guerrero.erencia%40gmail.com\n",
      "encoded_url3=username=joan.guerrero.erencia%40gmail%2Ecom\n"
     ]
    }
   ],
   "source": [
    "head = {'Authorization': 'token {}'.format(myToken)}\n",
    "params = [('username', username), \n",
    "          ('password', password), \n",
    "          ('language',lang)\n",
    "         ]\n",
    "\n",
    "encoded_url0 = f'username=joan.guerrero.erencia@gmail.com&password=ZensusDB#232309&language=en'\n",
    "print(f'encoded_url1 ={encoded_url0}')\n",
    "\n",
    "username_encoded1 = 'joan.guerrero.erencia%40gmail.com'\n",
    "password_encoded1 = 'ZensusDB%232309'\n",
    "encoded_url1 = urllib.parse.urlencode(params)\n",
    "print(f'encoded_url1 ={encoded_url1}')\n",
    "\n",
    "username_encoded2 = 'joan.guerrero.erencia%40gmail%2Ecom'\n",
    "password_encoded2 = 'ZensusDB%232309'\n",
    "encoded_url2 = f'username={username_encoded2}&password={password_encoded2}&language=en'\n",
    "print(f'encoded_url2={encoded_url2}')\n",
    "\n",
    "\n",
    "encoded_url3 = f'username={username}'\n",
    "print(f'encoded_url3={encoded_url3}')\n",
    "\n",
    "encoded_url4 = f'username={username_encoded1}'\n",
    "print(f'encoded_url3={encoded_url4}')\n",
    "\n",
    "encoded_url5 = f'username={username_encoded2}'\n",
    "print(f'encoded_url3={encoded_url5}')"
   ]
  },
  {
   "cell_type": "code",
   "execution_count": 98,
   "id": "62f22fa1-dabe-4ebd-a51a-d9a00bfbcda5",
   "metadata": {},
   "outputs": [
    {
     "name": "stdout",
     "output_type": "stream",
     "text": [
      "url=https://www-genesis.destatis.de/genesisWS/rest/2020/helloworld/whoami, response={\"User-Agent\":\"python-requests/2.32.3\"}\n"
     ]
    }
   ],
   "source": [
    "url_test = \"https://www-genesis.destatis.de/genesisWS/rest/2020/helloworld/whoami\"\n",
    "response_url_test = requests.get(url_test)\n",
    "print(f'url={url_test}, response={response.text}')"
   ]
  },
  {
   "cell_type": "code",
   "execution_count": 99,
   "id": "3e78d864-eecb-4fa3-a55e-a9e53d1feca7",
   "metadata": {
    "scrolled": true
   },
   "outputs": [
    {
     "name": "stdout",
     "output_type": "stream",
     "text": [
      "url=https://ergebnisse.zensus2022.de/api/rest/2020/helloworld/whoami, response={\"User-Agent\":\"python-requests/2.32.3\"}\n"
     ]
    }
   ],
   "source": [
    "url_test = \"https://ergebnisse.zensus2022.de/api/rest/2020/helloworld/whoami\"\n",
    "response_url_test = requests.get(url_test)\n",
    "print(f'url={url_test}, response={response.text}')"
   ]
  },
  {
   "cell_type": "code",
   "execution_count": 104,
   "id": "ebd63132-26a3-42e4-9a97-b9becfe7ff09",
   "metadata": {},
   "outputs": [
    {
     "name": "stdout",
     "output_type": "stream",
     "text": [
      "0. url=https://ergebnisse.zensus2022.de/api/rest/2020/helloworld/logincheck?username=joan.guerrero.erencia@gmail.com&password=ZensusDB#232309&language=en, response={\"Status\":\"Ein Fehler ist aufgetreten. (Bitte prüfen und korrigieren Sie Ihren Nutzernamen oder Ihren Token bzw. das Passwort.)\",\"Username\":\"joan.guerrero.erencia@gmail.com\"}\n",
      "\n",
      "1. url=https://ergebnisse.zensus2022.de/api/rest/2020/helloworld/logincheck?username=joan.guerrero.erencia%40gmail.com&password=ZensusDB%232309&language=de, response={\"Status\":\"Sie wurden erfolgreich an- und abgemeldet! Bei mehr als 3 parallelen Requests wurden länger als 15 Minuten laufende Requests beendet.\",\"Username\":\"joan.guerrero.erencia@gmail.com\"}\n",
      "\n",
      "2. url=https://ergebnisse.zensus2022.de/api/rest/2020/helloworld/logincheck?username=joan.guerrero.erencia%40gmail%2Ecom&password=ZensusDB%232309&language=en, response={\"Status\":\"You have been logged in and out successfully! If there were more than 3 parallel requests, those that had been running for more than 15 minutes were terminated\",\"Username\":\"joan.guerrero.erencia@gmail.com\"}\n",
      "\n"
     ]
    }
   ],
   "source": [
    "url_login_zen_0=f'https://ergebnisse.zensus2022.de/api/rest/2020/helloworld/logincheck?{encoded_url0}'  # username and password\n",
    "url_login_zen_1=f'https://ergebnisse.zensus2022.de/api/rest/2020/helloworld/logincheck?{encoded_url1}'  # username and password + Encoding urllib.parse.encoding\n",
    "url_login_zen_2=f'https://ergebnisse.zensus2022.de/api/rest/2020/helloworld/logincheck?{encoded_url2}'  # username and password + Encoding . -> %2E\n",
    "url_login_zen_3=f'https://ergebnisse.zensus2022.de/api/rest/2020/helloworld/logincheck?{encoded_url3}'  # raw username + No password, using token\n",
    "url_login_zen_4=f'https://ergebnisse.zensus2022.de/api/rest/2020/helloworld/logincheck?{encoded_url4}'  # username encoded + No password, using token\n",
    "url_login_zen_5=f'https://ergebnisse.zensus2022.de/api/rest/2020/helloworld/logincheck?{encoded_url5}'  # username encoded .-> %2E + No password, using token\n",
    "\n",
    "response_url_login = requests.get(url_login_zen_0, headers=head)\n",
    "print(f'0. url={url_login_zen_0}, response={response_url_login.text}\\n')\n",
    "response_url_login = requests.get(url_login_zen_1, headers=head)\n",
    "print(f'1. url={url_login_zen_1}, response={response_url_login.text}\\n')\n",
    "response_url_login = requests.get(url_login_zen_2, headers=head)\n",
    "print(f'2. url={url_login_zen_2}, response={response_url_login.text}\\n')\n",
    "\n",
    "# print(f'3. url={url_login_zen_3}, response={response_url_login.text}\\n')\n",
    "# response_url_login = requests.get(url_login_zen_4, headers=head)\n",
    "# print(f'4. url={url_login_zen_4}, response={response_url_login.text}\\n')\n",
    "# response_url_login = requests.get(url_login_zen_5, headers=head)\n",
    "# print(f'5. url={url_login_zen_5}, response={response_url_login.text}')"
   ]
  },
  {
   "cell_type": "code",
   "execution_count": 105,
   "id": "4288fde9-2bab-41a2-a894-e0a0c09a423d",
   "metadata": {},
   "outputs": [
    {
     "name": "stdout",
     "output_type": "stream",
     "text": [
      "Exception when calling DefaultApi->statistic: Status Code: 401\n",
      "Reason: 401\n",
      "HTTP response headers: HTTPHeaderDict({'Date': 'Fri, 11 Oct 2024 14:29:43 GMT', 'Server': 'Apache', 'Content-Length': '91', 'Content-Type': 'application/json'})\n",
      "HTTP response body: {\"Code\":15,\"Content\":\"Sie sind nicht berechtigt diesen Service aufzurufen!\",\"Type\":\"ERROR\"}\n",
      "\n",
      "\n"
     ]
    }
   ],
   "source": [
    "import time\n",
    "from deutschland import destatis\n",
    "from deutschland.destatis.api import default_api\n",
    "from pprint import pprint\n",
    "# Defining the host is optional and defaults to https://www-genesis.destatis.de/genesisWS/rest/2020\n",
    "# See configuration.py for a list of all supported configuration parameters.\n",
    "configuration = destatis.Configuration(\n",
    "    # host = \"https://www-genesis.destatis.de/genesisWS/rest/2020\"\n",
    "    host = \"https://ergebnisse.zensus2022.de/api/rest/2020\"\n",
    ")\n",
    "\n",
    "# Enter a context with an instance of the API client\n",
    "with destatis.ApiClient() as api_client:\n",
    "    # Create an instance of the API class\n",
    "    api_instance = default_api.DefaultApi(api_client)\n",
    "    username = \"GAST\" # str |  (optional) if omitted the server will use the default value of \"GAST\"\n",
    "    password = \"GAST\" # str |  (optional) if omitted the server will use the default value of \"GAST\"\n",
    "    name = \"name_example\" # str |  (optional)\n",
    "    area = \"free\" # str |  (optional) if omitted the server will use the default value of \"free\"\n",
    "    language = \"en\" # str |  (optional) if omitted the server will use the default value of \"de\"\n",
    "\n",
    "    # example passing only required values which don't have defaults set\n",
    "    # and optional values\n",
    "    try:\n",
    "        api_instance.statistic(username=username, password=password, language=language)#, name=name, area=area, \n",
    "        # api_instance.statistic(username=username_encoded, password=password_encoded, language=language)#, name=name, area=area, \n",
    "        # api_instance.statistic(username=username_encoded2, password=password_encoded2, language=language)#, name=name, area=area, \n",
    "    except destatis.ApiException as e:\n",
    "        print(\"Exception when calling DefaultApi->statistic: %s\\n\" % e)"
   ]
  },
  {
   "cell_type": "code",
   "execution_count": 106,
   "id": "ee8a7dac-8771-4947-b824-cdf0c5efd3fc",
   "metadata": {},
   "outputs": [
    {
     "name": "stdout",
     "output_type": "stream",
     "text": [
      "Exception when calling DefaultApi->statistic: Status Code: 404\n",
      "Reason: 404\n",
      "HTTP response headers: HTTPHeaderDict({'Date': 'Fri, 11 Oct 2024 14:29:56 GMT', 'Server': 'Apache', 'Content-Length': '97', 'Content-Type': 'application/json'})\n",
      "HTTP response body: {\"Code\":2,\"Content\":\"An error has occured. (Your username or password is wrong.)\",\"Type\":\"ERROR\"}\n",
      "\n",
      "\n"
     ]
    }
   ],
   "source": [
    "import time\n",
    "from deutschland import destatis\n",
    "from deutschland.destatis.api import default_api\n",
    "from pprint import pprint\n",
    "# Defining the host is optional and defaults to https://www-genesis.destatis.de/genesisWS/rest/2020\n",
    "# See configuration.py for a list of all supported configuration parameters.\n",
    "configuration = destatis.Configuration(\n",
    "    # host = \"https://www-genesis.destatis.de/genesisWS/rest/2020\"\n",
    "    host = \"https://ergebnisse.zensus2022.de/api/rest/2020\"\n",
    ")\n",
    "\n",
    "# Enter a context with an instance of the API client\n",
    "with destatis.ApiClient() as api_client:\n",
    "    # Create an instance of the API class\n",
    "    api_instance = default_api.DefaultApi(api_client)\n",
    "    username = \"GAST\" # str |  (optional) if omitted the server will use the default value of \"GAST\"\n",
    "    password = \"GAST\" # str |  (optional) if omitted the server will use the default value of \"GAST\"\n",
    "    name = \"name_example\" # str |  (optional)\n",
    "    area = \"free\" # str |  (optional) if omitted the server will use the default value of \"free\"\n",
    "    language = \"en\" # str |  (optional) if omitted the server will use the default value of \"de\"\n",
    "\n",
    "    # example passing only required values which don't have defaults set\n",
    "    # and optional values\n",
    "    try:\n",
    "        # api_instance.statistic(username=username, password=password, language=language)#, name=name, area=area, \n",
    "        result = api_instance.statistic(username=username_encoded, password=password_encoded, language=language)#, name=name, area=area, \n",
    "        print(f'result={result}')\n",
    "        # api_instance.statistic(username=username_encoded2, password=password_encoded2, language=language)#, name=name, area=area, \n",
    "    except destatis.ApiException as e:\n",
    "        print(\"Exception when calling DefaultApi->statistic: %s\\n\" % e)"
   ]
  },
  {
   "cell_type": "code",
   "execution_count": 69,
   "id": "83e47daa-b0f3-4952-8820-1a78a4fbba8b",
   "metadata": {},
   "outputs": [
    {
     "name": "stdout",
     "output_type": "stream",
     "text": [
      "Exception when calling DefaultApi->statistic: Status Code: 404\n",
      "Reason: 404\n",
      "HTTP response headers: HTTPHeaderDict({'Date': 'Fri, 11 Oct 2024 08:44:33 GMT', 'Server': 'Apache', 'Content-Length': '97', 'Content-Type': 'application/json'})\n",
      "HTTP response body: {\"Code\":2,\"Content\":\"An error has occured. (Your username or password is wrong.)\",\"Type\":\"ERROR\"}\n",
      "\n",
      "\n"
     ]
    }
   ],
   "source": [
    "import time\n",
    "from deutschland import destatis\n",
    "from deutschland.destatis.api import default_api\n",
    "from pprint import pprint\n",
    "# Defining the host is optional and defaults to https://www-genesis.destatis.de/genesisWS/rest/2020\n",
    "# See configuration.py for a list of all supported configuration parameters.\n",
    "configuration = destatis.Configuration(\n",
    "    # host = \"https://www-genesis.destatis.de/genesisWS/rest/2020\"\n",
    "    host = \"https://ergebnisse.zensus2022.de/api/rest/2020\"\n",
    ")\n",
    "\n",
    "# Enter a context with an instance of the API client\n",
    "with destatis.ApiClient() as api_client:\n",
    "    # Create an instance of the API class\n",
    "    api_instance = default_api.DefaultApi(api_client)\n",
    "    username = username_encoded2 #\"GAST\" # str |  (optional) if omitted the server will use the default value of \"GAST\"\n",
    "    password = password_encoded2 #\"GAST\" # str |  (optional) if omitted the server will use the default value of \"GAST\"\n",
    "    name = \"name_example\" # str |  (optional)\n",
    "    area = \"free\" # str |  (optional) if omitted the server will use the default value of \"free\"\n",
    "    language = \"en\" # str |  (optional) if omitted the server will use the default value of \"de\"\n",
    "\n",
    "    # example passing only required values which don't have defaults set\n",
    "    # and optional values\n",
    "    try:\n",
    "        # api_instance.statistic(username=username, password=password, language=language)#, name=name, area=area, \n",
    "        # api_instance.statistic(username=username_encoded, password=password_encoded, language=language)#, name=name, area=area, \n",
    "        api_instance.statistic(username=username_encoded2, password=password_encoded2, language=language)#, name=name, area=area, \n",
    "    except destatis.ApiException as e:\n",
    "        print(\"Exception when calling DefaultApi->statistic: %s\\n\" % e)"
   ]
  },
  {
   "cell_type": "code",
   "execution_count": null,
   "id": "1159f474-8440-40eb-867d-e68e3aa15666",
   "metadata": {},
   "outputs": [],
   "source": []
  }
 ],
 "metadata": {
  "kernelspec": {
   "display_name": "Python 3 (ipykernel)",
   "language": "python",
   "name": "python3"
  },
  "language_info": {
   "codemirror_mode": {
    "name": "ipython",
    "version": 3
   },
   "file_extension": ".py",
   "mimetype": "text/x-python",
   "name": "python",
   "nbconvert_exporter": "python",
   "pygments_lexer": "ipython3",
   "version": "3.12.6"
  }
 },
 "nbformat": 4,
 "nbformat_minor": 5
}
