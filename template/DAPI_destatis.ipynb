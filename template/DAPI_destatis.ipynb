{
 "cells": [
  {
   "cell_type": "markdown",
   "id": "0bd9e050-8e87-48c2-a820-f09e98f6fa88",
   "metadata": {},
   "source": [
    "### DEUTSCHLAND API\n",
    "### GH:    https://github.com/bundesAPI/deutschland\n",
    "### API1:  host = \"https://www-genesis.destatis.de/genesisWS/rest/2020\"\n",
    "### API2:  host = \"https://ergebnisse.zensus2022.de/api/rest/2020\""
   ]
  },
  {
   "cell_type": "code",
   "execution_count": 1,
   "id": "8d30b8a4-7bfb-4e75-9656-3f68f45d3eee",
   "metadata": {},
   "outputs": [],
   "source": [
    "# import web_functions\n",
    "import urllib, requests"
   ]
  },
  {
   "cell_type": "code",
   "execution_count": 9,
   "id": "d4f344c9-9fbd-4272-b5f2-194ccd57f0d2",
   "metadata": {},
   "outputs": [],
   "source": [
    "username = \"joan.guerrero.erencia@gmail.com\"\n",
    "password = \"ZensusDB#2309\"\n",
    "lang = 'de'\n",
    "myToken = '4b793986dde543f6b1e58575ba1038d4'"
   ]
  },
  {
   "cell_type": "code",
   "execution_count": 11,
   "id": "a402f45d-5f50-4bc8-b9a8-1e5e2f02df4d",
   "metadata": {},
   "outputs": [
    {
     "name": "stdout",
     "output_type": "stream",
     "text": [
      "encoded_url1 =username=joan.guerrero.erencia@gmail.com&password=ZensusDB#232309&language=en\n",
      "encoded_url1 =username=joan.guerrero.erencia%40gmail.com&password=ZensusDB%232309&language=de\n",
      "encoded_url2=username=joan.guerrero.erencia%40gmail%2Ecom&password=ZensusDB%232309&language=en\n",
      "encoded_url3=username=joan.guerrero.erencia@gmail.com\n",
      "encoded_url3=username=joan.guerrero.erencia%40gmail.com\n",
      "encoded_url3=username=joan.guerrero.erencia%40gmail%2Ecom\n"
     ]
    }
   ],
   "source": [
    "head = {'Authorization': 'token {}'.format(myToken)}\n",
    "params = [('username', username), \n",
    "          ('password', password), \n",
    "          ('language',lang)\n",
    "         ]\n",
    "\n",
    "encoded_url0 = f'username=joan.guerrero.erencia@gmail.com&password=ZensusDB#232309&language=en'\n",
    "print(f'encoded_url1 ={encoded_url0}')\n",
    "\n",
    "username_encoded1 = 'joan.guerrero.erencia%40gmail.com'\n",
    "password_encoded1 = 'ZensusDB%232309'\n",
    "encoded_url1 = urllib.parse.urlencode(params)\n",
    "print(f'encoded_url1 ={encoded_url1}')\n",
    "\n",
    "username_encoded2 = 'joan.guerrero.erencia%40gmail%2Ecom'\n",
    "password_encoded2 = 'ZensusDB%232309'\n",
    "encoded_url2 = f'username={username_encoded2}&password={password_encoded2}&language=en'\n",
    "print(f'encoded_url2={encoded_url2}')\n",
    "\n",
    "\n",
    "encoded_url3 = f'username={username}'\n",
    "print(f'encoded_url3={encoded_url3}')\n",
    "\n",
    "encoded_url4 = f'username={username_encoded1}'\n",
    "print(f'encoded_url3={encoded_url4}')\n",
    "\n",
    "encoded_url5 = f'username={username_encoded2}'\n",
    "print(f'encoded_url3={encoded_url5}')"
   ]
  },
  {
   "cell_type": "code",
   "execution_count": 15,
   "id": "62f22fa1-dabe-4ebd-a51a-d9a00bfbcda5",
   "metadata": {},
   "outputs": [
    {
     "name": "stdout",
     "output_type": "stream",
     "text": [
      "url=https://www-genesis.destatis.de/genesisWS/rest/2020/helloworld/whoami, response={\"User-Agent\":\"python-requests/2.32.3\"}\n"
     ]
    }
   ],
   "source": [
    "url_test = \"https://www-genesis.destatis.de/genesisWS/rest/2020/helloworld/whoami\"\n",
    "response = requests.get(url_test)\n",
    "print(f'url={url_test}, response={response.text}')"
   ]
  },
  {
   "cell_type": "code",
   "execution_count": 19,
   "id": "3e78d864-eecb-4fa3-a55e-a9e53d1feca7",
   "metadata": {
    "scrolled": true
   },
   "outputs": [
    {
     "name": "stdout",
     "output_type": "stream",
     "text": [
      "url=https://ergebnisse.zensus2022.de/api/rest/2020/helloworld/whoami, response={\"User-Agent\":\"python-requests/2.32.3\"}\n"
     ]
    }
   ],
   "source": [
    "url_test = \"https://ergebnisse.zensus2022.de/api/rest/2020/helloworld/whoami\"\n",
    "response_url_test = requests.get(url_test)\n",
    "print(f'url={url_test}, response={response.text}')"
   ]
  },
  {
   "cell_type": "code",
   "execution_count": 21,
   "id": "ebd63132-26a3-42e4-9a97-b9becfe7ff09",
   "metadata": {},
   "outputs": [
    {
     "name": "stdout",
     "output_type": "stream",
     "text": [
      "0. url=https://ergebnisse.zensus2022.de/api/rest/2020/helloworld/logincheck?username=joan.guerrero.erencia@gmail.com&password=ZensusDB#232309&language=en, response={\"Status\":\"Ein Fehler ist aufgetreten. (Bitte prüfen und korrigieren Sie Ihren Nutzernamen oder Ihren Token bzw. das Passwort.)\",\"Username\":\"joan.guerrero.erencia@gmail.com\"}\n",
      "\n",
      "1. url=https://ergebnisse.zensus2022.de/api/rest/2020/helloworld/logincheck?username=joan.guerrero.erencia%40gmail.com&password=ZensusDB%232309&language=de, response={\"Status\":\"Sie wurden erfolgreich an- und abgemeldet! Bei mehr als 3 parallelen Requests wurden länger als 15 Minuten laufende Requests beendet.\",\"Username\":\"joan.guerrero.erencia@gmail.com\"}\n",
      "\n",
      "2. url=https://ergebnisse.zensus2022.de/api/rest/2020/helloworld/logincheck?username=joan.guerrero.erencia%40gmail%2Ecom&password=ZensusDB%232309&language=en, response={\"Status\":\"You have been logged in and out successfully! If there were more than 3 parallel requests, those that had been running for more than 15 minutes were terminated\",\"Username\":\"joan.guerrero.erencia@gmail.com\"}\n",
      "\n"
     ]
    }
   ],
   "source": [
    "url_login_zen_0=f'https://ergebnisse.zensus2022.de/api/rest/2020/helloworld/logincheck?{encoded_url0}'  # username and password\n",
    "url_login_zen_1=f'https://ergebnisse.zensus2022.de/api/rest/2020/helloworld/logincheck?{encoded_url1}'  # username and password + Encoding urllib.parse.encoding\n",
    "url_login_zen_2=f'https://ergebnisse.zensus2022.de/api/rest/2020/helloworld/logincheck?{encoded_url2}'  # username and password + Encoding . -> %2E\n",
    "url_login_zen_3=f'https://ergebnisse.zensus2022.de/api/rest/2020/helloworld/logincheck?{encoded_url3}'  # raw username + No password, using token\n",
    "url_login_zen_4=f'https://ergebnisse.zensus2022.de/api/rest/2020/helloworld/logincheck?{encoded_url4}'  # username encoded + No password, using token\n",
    "url_login_zen_5=f'https://ergebnisse.zensus2022.de/api/rest/2020/helloworld/logincheck?{encoded_url5}'  # username encoded .-> %2E + No password, using token\n",
    "\n",
    "response_url_login = requests.get(url_login_zen_0, headers=head)\n",
    "print(f'0. url={url_login_zen_0}, response={response_url_login.text}\\n')\n",
    "response_url_login = requests.get(url_login_zen_1, headers=head)\n",
    "print(f'1. url={url_login_zen_1}, response={response_url_login.text}\\n')\n",
    "response_url_login = requests.get(url_login_zen_2, headers=head)\n",
    "print(f'2. url={url_login_zen_2}, response={response_url_login.text}\\n')\n",
    "\n",
    "# print(f'3. url={url_login_zen_3}, response={response_url_login.text}\\n')\n",
    "# response_url_login = requests.get(url_login_zen_4, headers=head)\n",
    "# print(f'4. url={url_login_zen_4}, response={response_url_login.text}\\n')\n",
    "# response_url_login = requests.get(url_login_zen_5, headers=head)\n",
    "# print(f'5. url={url_login_zen_5}, response={response_url_login.text}')"
   ]
  },
  {
   "cell_type": "code",
   "execution_count": 25,
   "id": "c7e750f1-dcb9-47be-862d-0306d4a493b1",
   "metadata": {},
   "outputs": [
    {
     "name": "stdout",
     "output_type": "stream",
     "text": [
      "Collecting deutschlandNote: you may need to restart the kernel to use updated packages.\n",
      "\n",
      "  Downloading deutschland-0.4.2-py3-none-any.whl.metadata (12 kB)\n",
      "Requirement already satisfied: beautifulsoup4<5.0.0,>=4.9.3 in c:\\users\\gujua\\appdata\\local\\anaconda3\\lib\\site-packages (from deutschland) (4.12.3)\n",
      "Collecting dateparser<2.0.0,>=1.0.0 (from deutschland)\n",
      "  Downloading dateparser-1.2.0-py2.py3-none-any.whl.metadata (28 kB)\n",
      "Collecting de-autobahn<2.0.0,>=1.0.4 (from deutschland)\n",
      "  Downloading de_autobahn-1.0.4-py3-none-any.whl.metadata (698 bytes)\n",
      "Collecting de-bundesrat<0.2.0,>=0.1.0 (from deutschland)\n",
      "  Downloading de_bundesrat-0.1.0-py3-none-any.whl.metadata (5.8 kB)\n",
      "Collecting de-bundestag<0.2.0,>=0.1.0 (from deutschland)\n",
      "  Downloading de_bundestag-0.1.0-py3-none-any.whl.metadata (5.3 kB)\n",
      "Collecting de-dwd<2.0.0,>=1.0.1 (from deutschland)\n",
      "  Downloading de_dwd-1.0.1-py3-none-any.whl.metadata (689 bytes)\n",
      "Collecting de-interpol<0.2.0,>=0.1.0 (from deutschland)\n",
      "  Downloading de_interpol-0.1.0-py3-none-any.whl.metadata (6.2 kB)\n",
      "Collecting de-jobsuche<0.2.0,>=0.1.0 (from deutschland)\n",
      "  Downloading de_jobsuche-0.1.0-py3-none-any.whl.metadata (8.6 kB)\n",
      "Collecting de-ladestationen<2.0.0,>=1.0.5 (from deutschland)\n",
      "  Downloading de_ladestationen-1.0.5-py3-none-any.whl.metadata (8.3 kB)\n",
      "Collecting de-mudab<0.2.0,>=0.1.0 (from deutschland)\n",
      "  Downloading de_mudab-0.1.0-py3-none-any.whl.metadata (7.3 kB)\n",
      "Collecting de-nina<2.0.0,>=1.0.1 (from deutschland)\n",
      "  Downloading de_nina-1.1.0-py3-none-any.whl.metadata (10 kB)\n",
      "Collecting de-polizei-brandenburg<0.2.0,>=0.1.0 (from deutschland)\n",
      "  Downloading de_polizei_brandenburg-0.1.0-py3-none-any.whl.metadata (5.4 kB)\n",
      "Collecting de-risikogebiete<0.2.0,>=0.1.0 (from deutschland)\n",
      "  Downloading de_risikogebiete-0.1.0-py3-none-any.whl.metadata (4.0 kB)\n",
      "Collecting de-smard<0.2.0,>=0.1.0 (from deutschland)\n",
      "  Downloading de_smard-0.1.0-py3-none-any.whl.metadata (6.0 kB)\n",
      "Collecting de-strahlenschutz<2.0.0,>=1.0.0 (from deutschland)\n",
      "  Downloading de_strahlenschutz-1.0.0-py3-none-any.whl.metadata (6.0 kB)\n",
      "Collecting de-travelwarning<0.2.0,>=0.1.0 (from deutschland)\n",
      "  Downloading de_travelwarning-0.1.0-py3-none-any.whl.metadata (7.5 kB)\n",
      "Collecting de-zoll<0.2.0,>=0.1.0 (from deutschland)\n",
      "  Downloading de_zoll-0.1.0-py3-none-any.whl.metadata (5.7 kB)\n",
      "Collecting lxml<5.0.0,>=4.9.3 (from deutschland)\n",
      "  Downloading lxml-4.9.4-cp312-cp312-win_amd64.whl.metadata (3.8 kB)\n",
      "Collecting mapbox-vector-tile<3.0.0,>=2.0.1 (from deutschland)\n",
      "  Downloading mapbox_vector_tile-2.1.0-py3-none-any.whl.metadata (16 kB)\n",
      "Collecting more-itertools<9.0.0,>=8.10.0 (from deutschland)\n",
      "  Downloading more_itertools-8.14.0-py3-none-any.whl.metadata (30 kB)\n",
      "Requirement already satisfied: numpy<2.0.0,>=1.26.2 in c:\\users\\gujua\\appdata\\local\\anaconda3\\lib\\site-packages (from deutschland) (1.26.4)\n",
      "Collecting onnxruntime!=1.16.0,>1.10.0 (from deutschland)\n",
      "  Downloading onnxruntime-1.20.1-cp312-cp312-win_amd64.whl.metadata (4.7 kB)\n",
      "Requirement already satisfied: pandas>2.1.2 in c:\\users\\gujua\\appdata\\local\\anaconda3\\lib\\site-packages (from deutschland) (2.2.2)\n",
      "Requirement already satisfied: pillow<11.0.0,>=10.0.0 in c:\\users\\gujua\\appdata\\local\\anaconda3\\lib\\site-packages (from deutschland) (10.4.0)\n",
      "Requirement already satisfied: requests<3.0.0,>=2.26.0 in c:\\users\\gujua\\appdata\\local\\anaconda3\\lib\\site-packages (from deutschland) (2.32.3)\n",
      "Requirement already satisfied: soupsieve>1.2 in c:\\users\\gujua\\appdata\\local\\anaconda3\\lib\\site-packages (from beautifulsoup4<5.0.0,>=4.9.3->deutschland) (2.5)\n",
      "Requirement already satisfied: python-dateutil in c:\\users\\gujua\\appdata\\local\\anaconda3\\lib\\site-packages (from dateparser<2.0.0,>=1.0.0->deutschland) (2.9.0.post0)\n",
      "Requirement already satisfied: pytz in c:\\users\\gujua\\appdata\\local\\anaconda3\\lib\\site-packages (from dateparser<2.0.0,>=1.0.0->deutschland) (2024.1)\n",
      "Requirement already satisfied: regex!=2019.02.19,!=2021.8.27 in c:\\users\\gujua\\appdata\\local\\anaconda3\\lib\\site-packages (from dateparser<2.0.0,>=1.0.0->deutschland) (2024.9.11)\n",
      "Collecting tzlocal (from dateparser<2.0.0,>=1.0.0->deutschland)\n",
      "  Downloading tzlocal-5.2-py3-none-any.whl.metadata (7.8 kB)\n",
      "Requirement already satisfied: urllib3>=1.25.3 in c:\\users\\gujua\\appdata\\local\\anaconda3\\lib\\site-packages (from de-autobahn<2.0.0,>=1.0.4->deutschland) (2.2.3)\n",
      "Collecting protobuf<6.0.0,>=5.26.1 (from mapbox-vector-tile<3.0.0,>=2.0.1->deutschland)\n",
      "  Downloading protobuf-5.29.3-cp310-abi3-win_amd64.whl.metadata (592 bytes)\n",
      "Collecting pyclipper<2.0.0,>=1.3.0 (from mapbox-vector-tile<3.0.0,>=2.0.1->deutschland)\n",
      "  Downloading pyclipper-1.3.0.post6-cp312-cp312-win_amd64.whl.metadata (9.2 kB)\n",
      "Collecting shapely<3.0.0,>=2.0.0 (from mapbox-vector-tile<3.0.0,>=2.0.1->deutschland)\n",
      "  Using cached shapely-2.0.6-cp312-cp312-win_amd64.whl.metadata (7.2 kB)\n",
      "Collecting coloredlogs (from onnxruntime!=1.16.0,>1.10.0->deutschland)\n",
      "  Downloading coloredlogs-15.0.1-py2.py3-none-any.whl.metadata (12 kB)\n",
      "Collecting flatbuffers (from onnxruntime!=1.16.0,>1.10.0->deutschland)\n",
      "  Downloading flatbuffers-24.12.23-py2.py3-none-any.whl.metadata (876 bytes)\n",
      "Requirement already satisfied: packaging in c:\\users\\gujua\\appdata\\local\\anaconda3\\lib\\site-packages (from onnxruntime!=1.16.0,>1.10.0->deutschland) (24.1)\n",
      "Requirement already satisfied: sympy in c:\\users\\gujua\\appdata\\local\\anaconda3\\lib\\site-packages (from onnxruntime!=1.16.0,>1.10.0->deutschland) (1.13.2)\n",
      "Requirement already satisfied: tzdata>=2022.7 in c:\\users\\gujua\\appdata\\local\\anaconda3\\lib\\site-packages (from pandas>2.1.2->deutschland) (2023.3)\n",
      "Requirement already satisfied: charset-normalizer<4,>=2 in c:\\users\\gujua\\appdata\\local\\anaconda3\\lib\\site-packages (from requests<3.0.0,>=2.26.0->deutschland) (3.3.2)\n",
      "Requirement already satisfied: idna<4,>=2.5 in c:\\users\\gujua\\appdata\\local\\anaconda3\\lib\\site-packages (from requests<3.0.0,>=2.26.0->deutschland) (3.7)\n",
      "Requirement already satisfied: certifi>=2017.4.17 in c:\\users\\gujua\\appdata\\local\\anaconda3\\lib\\site-packages (from requests<3.0.0,>=2.26.0->deutschland) (2024.8.30)\n",
      "Requirement already satisfied: six>=1.5 in c:\\users\\gujua\\appdata\\local\\anaconda3\\lib\\site-packages (from python-dateutil->dateparser<2.0.0,>=1.0.0->deutschland) (1.16.0)\n",
      "Collecting humanfriendly>=9.1 (from coloredlogs->onnxruntime!=1.16.0,>1.10.0->deutschland)\n",
      "  Downloading humanfriendly-10.0-py2.py3-none-any.whl.metadata (9.2 kB)\n",
      "Requirement already satisfied: mpmath<1.4,>=1.1.0 in c:\\users\\gujua\\appdata\\local\\anaconda3\\lib\\site-packages (from sympy->onnxruntime!=1.16.0,>1.10.0->deutschland) (1.3.0)\n",
      "Collecting pyreadline3 (from humanfriendly>=9.1->coloredlogs->onnxruntime!=1.16.0,>1.10.0->deutschland)\n",
      "  Downloading pyreadline3-3.5.4-py3-none-any.whl.metadata (4.7 kB)\n",
      "Downloading deutschland-0.4.2-py3-none-any.whl (16.0 MB)\n",
      "   ---------------------------------------- 0.0/16.0 MB ? eta -:--:--\n",
      "   -------------------- ------------------- 8.1/16.0 MB 41.8 MB/s eta 0:00:01\n",
      "   ---------------------------------------- 16.0/16.0 MB 42.0 MB/s eta 0:00:00\n",
      "Downloading dateparser-1.2.0-py2.py3-none-any.whl (294 kB)\n",
      "Downloading de_autobahn-1.0.4-py3-none-any.whl (112 kB)\n",
      "Downloading de_bundesrat-0.1.0-py3-none-any.whl (40 kB)\n",
      "Downloading de_bundestag-0.1.0-py3-none-any.whl (41 kB)\n",
      "Downloading de_dwd-1.0.1-py3-none-any.whl (89 kB)\n",
      "Downloading de_interpol-0.1.0-py3-none-any.whl (87 kB)\n",
      "Downloading de_jobsuche-0.1.0-py3-none-any.whl (166 kB)\n",
      "Downloading de_ladestationen-1.0.5-py3-none-any.whl (68 kB)\n",
      "Downloading de_mudab-0.1.0-py3-none-any.whl (94 kB)\n",
      "Downloading de_nina-1.1.0-py3-none-any.whl (205 kB)\n",
      "Downloading de_polizei_brandenburg-0.1.0-py3-none-any.whl (67 kB)\n",
      "Downloading de_risikogebiete-0.1.0-py3-none-any.whl (42 kB)\n",
      "Downloading de_smard-0.1.0-py3-none-any.whl (49 kB)\n",
      "Downloading de_strahlenschutz-1.0.0-py3-none-any.whl (70 kB)\n",
      "Downloading de_travelwarning-0.1.0-py3-none-any.whl (98 kB)\n",
      "Downloading de_zoll-0.1.0-py3-none-any.whl (85 kB)\n",
      "Downloading lxml-4.9.4-cp312-cp312-win_amd64.whl (3.8 MB)\n",
      "   ---------------------------------------- 0.0/3.8 MB ? eta -:--:--\n",
      "   ---------------------------------------- 3.8/3.8 MB 37.4 MB/s eta 0:00:00\n",
      "Downloading mapbox_vector_tile-2.1.0-py3-none-any.whl (30 kB)\n",
      "Downloading more_itertools-8.14.0-py3-none-any.whl (52 kB)\n",
      "Downloading onnxruntime-1.20.1-cp312-cp312-win_amd64.whl (11.3 MB)\n",
      "   ---------------------------------------- 0.0/11.3 MB ? eta -:--:--\n",
      "   ---------------------------------------  11.3/11.3 MB 54.2 MB/s eta 0:00:01\n",
      "   ---------------------------------------- 11.3/11.3 MB 50.5 MB/s eta 0:00:00\n",
      "Downloading protobuf-5.29.3-cp310-abi3-win_amd64.whl (434 kB)\n",
      "Downloading pyclipper-1.3.0.post6-cp312-cp312-win_amd64.whl (110 kB)\n",
      "Using cached shapely-2.0.6-cp312-cp312-win_amd64.whl (1.4 MB)\n",
      "Downloading coloredlogs-15.0.1-py2.py3-none-any.whl (46 kB)\n",
      "Downloading flatbuffers-24.12.23-py2.py3-none-any.whl (30 kB)\n",
      "Downloading tzlocal-5.2-py3-none-any.whl (17 kB)\n",
      "Downloading humanfriendly-10.0-py2.py3-none-any.whl (86 kB)\n",
      "Downloading pyreadline3-3.5.4-py3-none-any.whl (83 kB)\n",
      "Installing collected packages: pyclipper, flatbuffers, tzlocal, shapely, pyreadline3, protobuf, more-itertools, lxml, mapbox-vector-tile, humanfriendly, de-zoll, de-travelwarning, de-strahlenschutz, de-smard, de-risikogebiete, de-polizei-brandenburg, de-nina, de-mudab, de-ladestationen, de-jobsuche, de-interpol, de-dwd, de-bundestag, de-bundesrat, de-autobahn, dateparser, coloredlogs, onnxruntime, deutschland\n",
      "  Attempting uninstall: protobuf\n",
      "    Found existing installation: protobuf 4.25.3\n",
      "    Uninstalling protobuf-4.25.3:\n",
      "      Successfully uninstalled protobuf-4.25.3\n",
      "  Attempting uninstall: more-itertools\n",
      "    Found existing installation: more-itertools 10.3.0\n",
      "    Uninstalling more-itertools-10.3.0:\n",
      "      Successfully uninstalled more-itertools-10.3.0\n",
      "  Attempting uninstall: lxml\n",
      "    Found existing installation: lxml 5.2.1\n",
      "    Uninstalling lxml-5.2.1:\n",
      "      Successfully uninstalled lxml-5.2.1\n",
      "Successfully installed coloredlogs-15.0.1 dateparser-1.2.0 de-autobahn-1.0.4 de-bundesrat-0.1.0 de-bundestag-0.1.0 de-dwd-1.0.1 de-interpol-0.1.0 de-jobsuche-0.1.0 de-ladestationen-1.0.5 de-mudab-0.1.0 de-nina-1.1.0 de-polizei-brandenburg-0.1.0 de-risikogebiete-0.1.0 de-smard-0.1.0 de-strahlenschutz-1.0.0 de-travelwarning-0.1.0 de-zoll-0.1.0 deutschland-0.4.2 flatbuffers-24.12.23 humanfriendly-10.0 lxml-4.9.4 mapbox-vector-tile-2.1.0 more-itertools-8.14.0 onnxruntime-1.20.1 protobuf-5.29.3 pyclipper-1.3.0.post6 pyreadline3-3.5.4 shapely-2.0.6 tzlocal-5.2\n"
     ]
    },
    {
     "name": "stderr",
     "output_type": "stream",
     "text": [
      "  WARNING: Failed to remove contents in a temporary directory 'C:\\Users\\gujua\\AppData\\Local\\anaconda3\\Lib\\site-packages\\~xml'.\n",
      "  You can safely remove it manually.\n"
     ]
    }
   ],
   "source": [
    "pip install deutschland\n"
   ]
  },
  {
   "cell_type": "code",
   "execution_count": 26,
   "id": "4288fde9-2bab-41a2-a894-e0a0c09a423d",
   "metadata": {},
   "outputs": [
    {
     "ename": "ImportError",
     "evalue": "cannot import name 'destatis' from 'deutschland' (unknown location)",
     "output_type": "error",
     "traceback": [
      "\u001b[1;31m---------------------------------------------------------------------------\u001b[0m",
      "\u001b[1;31mImportError\u001b[0m                               Traceback (most recent call last)",
      "Cell \u001b[1;32mIn[26], line 2\u001b[0m\n\u001b[0;32m      1\u001b[0m \u001b[38;5;28;01mimport\u001b[39;00m \u001b[38;5;21;01mtime\u001b[39;00m\n\u001b[1;32m----> 2\u001b[0m \u001b[38;5;28;01mfrom\u001b[39;00m \u001b[38;5;21;01mdeutschland\u001b[39;00m \u001b[38;5;28;01mimport\u001b[39;00m destatis\n\u001b[0;32m      3\u001b[0m \u001b[38;5;28;01mfrom\u001b[39;00m \u001b[38;5;21;01mdeutschland\u001b[39;00m\u001b[38;5;21;01m.\u001b[39;00m\u001b[38;5;21;01mdestatis\u001b[39;00m\u001b[38;5;21;01m.\u001b[39;00m\u001b[38;5;21;01mapi\u001b[39;00m \u001b[38;5;28;01mimport\u001b[39;00m default_api\n\u001b[0;32m      4\u001b[0m \u001b[38;5;28;01mfrom\u001b[39;00m \u001b[38;5;21;01mpprint\u001b[39;00m \u001b[38;5;28;01mimport\u001b[39;00m pprint\n",
      "\u001b[1;31mImportError\u001b[0m: cannot import name 'destatis' from 'deutschland' (unknown location)"
     ]
    }
   ],
   "source": [
    "import time\n",
    "from deutschland import destatis\n",
    "from deutschland.destatis.api import default_api\n",
    "from pprint import pprint\n",
    "# Defining the host is optional and defaults to https://www-genesis.destatis.de/genesisWS/rest/2020\n",
    "# See configuration.py for a list of all supported configuration parameters.\n",
    "configuration = destatis.Configuration(\n",
    "    # host = \"https://www-genesis.destatis.de/genesisWS/rest/2020\"\n",
    "    host = \"https://ergebnisse.zensus2022.de/api/rest/2020\"\n",
    ")\n",
    "\n",
    "# Enter a context with an instance of the API client\n",
    "with destatis.ApiClient() as api_client:\n",
    "    # Create an instance of the API class\n",
    "    api_instance = default_api.DefaultApi(api_client)\n",
    "    username = \"GAST\" # str |  (optional) if omitted the server will use the default value of \"GAST\"\n",
    "    password = \"GAST\" # str |  (optional) if omitted the server will use the default value of \"GAST\"\n",
    "    name = \"name_example\" # str |  (optional)\n",
    "    area = \"free\" # str |  (optional) if omitted the server will use the default value of \"free\"\n",
    "    language = \"en\" # str |  (optional) if omitted the server will use the default value of \"de\"\n",
    "\n",
    "    # example passing only required values which don't have defaults set\n",
    "    # and optional values\n",
    "    try:\n",
    "        api_instance.statistic(username=username, password=password, language=language)#, name=name, area=area, \n",
    "        # api_instance.statistic(username=username_encoded, password=password_encoded, language=language)#, name=name, area=area, \n",
    "        # api_instance.statistic(username=username_encoded2, password=password_encoded2, language=language)#, name=name, area=area, \n",
    "    except destatis.ApiException as e:\n",
    "        print(\"Exception when calling DefaultApi->statistic: %s\\n\" % e)"
   ]
  },
  {
   "cell_type": "code",
   "execution_count": 106,
   "id": "ee8a7dac-8771-4947-b824-cdf0c5efd3fc",
   "metadata": {},
   "outputs": [
    {
     "name": "stdout",
     "output_type": "stream",
     "text": [
      "Exception when calling DefaultApi->statistic: Status Code: 404\n",
      "Reason: 404\n",
      "HTTP response headers: HTTPHeaderDict({'Date': 'Fri, 11 Oct 2024 14:29:56 GMT', 'Server': 'Apache', 'Content-Length': '97', 'Content-Type': 'application/json'})\n",
      "HTTP response body: {\"Code\":2,\"Content\":\"An error has occured. (Your username or password is wrong.)\",\"Type\":\"ERROR\"}\n",
      "\n",
      "\n"
     ]
    }
   ],
   "source": [
    "import time\n",
    "from deutschland import destatis\n",
    "from deutschland.destatis.api import default_api\n",
    "from pprint import pprint\n",
    "# Defining the host is optional and defaults to https://www-genesis.destatis.de/genesisWS/rest/2020\n",
    "# See configuration.py for a list of all supported configuration parameters.\n",
    "configuration = destatis.Configuration(\n",
    "    # host = \"https://www-genesis.destatis.de/genesisWS/rest/2020\"\n",
    "    host = \"https://ergebnisse.zensus2022.de/api/rest/2020\"\n",
    ")\n",
    "\n",
    "# Enter a context with an instance of the API client\n",
    "with destatis.ApiClient() as api_client:\n",
    "    # Create an instance of the API class\n",
    "    api_instance = default_api.DefaultApi(api_client)\n",
    "    username = \"GAST\" # str |  (optional) if omitted the server will use the default value of \"GAST\"\n",
    "    password = \"GAST\" # str |  (optional) if omitted the server will use the default value of \"GAST\"\n",
    "    name = \"name_example\" # str |  (optional)\n",
    "    area = \"free\" # str |  (optional) if omitted the server will use the default value of \"free\"\n",
    "    language = \"en\" # str |  (optional) if omitted the server will use the default value of \"de\"\n",
    "\n",
    "    # example passing only required values which don't have defaults set\n",
    "    # and optional values\n",
    "    try:\n",
    "        # api_instance.statistic(username=username, password=password, language=language)#, name=name, area=area, \n",
    "        result = api_instance.statistic(username=username_encoded, password=password_encoded, language=language)#, name=name, area=area, \n",
    "        print(f'result={result}')\n",
    "        # api_instance.statistic(username=username_encoded2, password=password_encoded2, language=language)#, name=name, area=area, \n",
    "    except destatis.ApiException as e:\n",
    "        print(\"Exception when calling DefaultApi->statistic: %s\\n\" % e)"
   ]
  },
  {
   "cell_type": "code",
   "execution_count": 28,
   "id": "83e47daa-b0f3-4952-8820-1a78a4fbba8b",
   "metadata": {},
   "outputs": [
    {
     "ename": "ImportError",
     "evalue": "cannot import name 'destatis' from 'deutschland' (unknown location)",
     "output_type": "error",
     "traceback": [
      "\u001b[1;31m---------------------------------------------------------------------------\u001b[0m",
      "\u001b[1;31mImportError\u001b[0m                               Traceback (most recent call last)",
      "Cell \u001b[1;32mIn[28], line 2\u001b[0m\n\u001b[0;32m      1\u001b[0m \u001b[38;5;28;01mimport\u001b[39;00m \u001b[38;5;21;01mtime\u001b[39;00m\n\u001b[1;32m----> 2\u001b[0m \u001b[38;5;28;01mfrom\u001b[39;00m \u001b[38;5;21;01mdeutschland\u001b[39;00m \u001b[38;5;28;01mimport\u001b[39;00m destatis\n\u001b[0;32m      3\u001b[0m \u001b[38;5;28;01mfrom\u001b[39;00m \u001b[38;5;21;01mdeutschland\u001b[39;00m\u001b[38;5;21;01m.\u001b[39;00m\u001b[38;5;21;01mdestatis\u001b[39;00m\u001b[38;5;21;01m.\u001b[39;00m\u001b[38;5;21;01mapi\u001b[39;00m \u001b[38;5;28;01mimport\u001b[39;00m default_api\n\u001b[0;32m      4\u001b[0m \u001b[38;5;28;01mfrom\u001b[39;00m \u001b[38;5;21;01mpprint\u001b[39;00m \u001b[38;5;28;01mimport\u001b[39;00m pprint\n",
      "\u001b[1;31mImportError\u001b[0m: cannot import name 'destatis' from 'deutschland' (unknown location)"
     ]
    }
   ],
   "source": [
    "import time\n",
    "from deutschland import destatis\n",
    "from deutschland.destatis.api import default_api\n",
    "from pprint import pprint\n",
    "# Defining the host is optional and defaults to https://www-genesis.destatis.de/genesisWS/rest/2020\n",
    "# See configuration.py for a list of all supported configuration parameters.\n",
    "configuration = destatis.Configuration(\n",
    "    # host = \"https://www-genesis.destatis.de/genesisWS/rest/2020\"\n",
    "    host = \"https://ergebnisse.zensus2022.de/api/rest/2020\"\n",
    ")\n",
    "\n",
    "# Enter a context with an instance of the API client\n",
    "with destatis.ApiClient() as api_client:\n",
    "    # Create an instance of the API class\n",
    "    api_instance = default_api.DefaultApi(api_client)\n",
    "    username = username_encoded2 #\"GAST\" # str |  (optional) if omitted the server will use the default value of \"GAST\"\n",
    "    password = password_encoded2 #\"GAST\" # str |  (optional) if omitted the server will use the default value of \"GAST\"\n",
    "    name = \"name_example\" # str |  (optional)\n",
    "    area = \"free\" # str |  (optional) if omitted the server will use the default value of \"free\"\n",
    "    language = \"en\" # str |  (optional) if omitted the server will use the default value of \"de\"\n",
    "\n",
    "    # example passing only required values which don't have defaults set\n",
    "    # and optional values\n",
    "    try:\n",
    "        # api_instance.statistic(username=username, password=password, language=language)#, name=name, area=area, \n",
    "        # api_instance.statistic(username=username_encoded, password=password_encoded, language=language)#, name=name, area=area, \n",
    "        api_instance.statistic(username=username_encoded2, password=password_encoded2, language=language)#, name=name, area=area, \n",
    "    except destatis.ApiException as e:\n",
    "        print(\"Exception when calling DefaultApi->statistic: %s\\n\" % e)"
   ]
  },
  {
   "cell_type": "code",
   "execution_count": null,
   "id": "1159f474-8440-40eb-867d-e68e3aa15666",
   "metadata": {},
   "outputs": [],
   "source": []
  },
  {
   "cell_type": "code",
   "execution_count": null,
   "id": "55af802c-748c-41ce-8228-7a073a31442b",
   "metadata": {},
   "outputs": [],
   "source": []
  },
  {
   "cell_type": "code",
   "execution_count": null,
   "id": "552c1555-6f08-4eb8-9af3-6ad3452deea0",
   "metadata": {},
   "outputs": [],
   "source": []
  }
 ],
 "metadata": {
  "kernelspec": {
   "display_name": "Python 3 (ipykernel)",
   "language": "python",
   "name": "python3"
  },
  "language_info": {
   "codemirror_mode": {
    "name": "ipython",
    "version": 3
   },
   "file_extension": ".py",
   "mimetype": "text/x-python",
   "name": "python",
   "nbconvert_exporter": "python",
   "pygments_lexer": "ipython3",
   "version": "3.12.7"
  }
 },
 "nbformat": 4,
 "nbformat_minor": 5
}
