{
 "cells": [
  {
   "cell_type": "code",
   "execution_count": 436,
   "id": "b74218f5-bbb7-466a-b9d6-5f0153adb5df",
   "metadata": {},
   "outputs": [],
   "source": [
    "from urllib.request import urlopen\n",
    "import folium\n",
    "import folium.plugins\n",
    "from geopy.geocoders import Nominatim"
   ]
  },
  {
   "cell_type": "code",
   "execution_count": 23,
   "id": "62a211b3-1185-4596-9402-dfb923a1eb06",
   "metadata": {},
   "outputs": [
    {
     "name": "stdout",
     "output_type": "stream",
     "text": [
      "Requirement already satisfied: beautifulsoup4 in c:\\users\\user\\appdata\\local\\programs\\python\\python312\\lib\\site-packages (4.12.3)\n",
      "Requirement already satisfied: soupsieve>1.2 in c:\\users\\user\\appdata\\local\\programs\\python\\python312\\lib\\site-packages (from beautifulsoup4) (2.6)\n",
      "Note: you may need to restart the kernel to use updated packages.\n"
     ]
    }
   ],
   "source": [
    "# pip install beautifulsoup4\n",
    "from bs4 import BeautifulSoup"
   ]
  },
  {
   "cell_type": "code",
   "execution_count": 174,
   "id": "dfb112c9-39bc-463f-8962-f44585d12542",
   "metadata": {},
   "outputs": [
    {
     "data": {
      "text/plain": [
       "'https://www.sportscheck.com/filialen/'"
      ]
     },
     "execution_count": 174,
     "metadata": {},
     "output_type": "execute_result"
    }
   ],
   "source": [
    "url = 'https://www.sportscheck.com/filialen/'\n",
    "url"
   ]
  },
  {
   "cell_type": "code",
   "execution_count": 525,
   "id": "e4c9b892-3808-4ea6-a5dd-53485dac01d6",
   "metadata": {},
   "outputs": [],
   "source": [
    "def get_dict_branches(url:str, selected_row:int, logging:bool= False) -> dict:\n",
    "    page = urlopen(url)\n",
    "    html = page.read().decode(\"utf-8\")\n",
    "    soup = BeautifulSoup(html, 'html.parser')\n",
    "    print(soup.find('h2').get_text())\n",
    "\n",
    "    className = 'landingpage-text__inner landingpage-text--centered'\n",
    "    results = soup.find_all('div', {'class': className})\n",
    "\n",
    "    tag = results[selected_row]\n",
    "    l_branches = tag.find_all('a')\n",
    "\n",
    "    l_links = [branch.get('href') for branch in l_branches]\n",
    "    l_cities = [branch.text for branch in l_branches]\n",
    "    \n",
    "    if logging: # l_links\n",
    "        print(f'length l_links={len(l_links)}')\n",
    "        print(f'length l_cities={len(l_cities)}')\n",
    "\n",
    "    output = {}\n",
    "    for key, value in zip(l_links, l_cities):\n",
    "        output.setdefault(key, []).append(value)\n",
    "    \n",
    "    if logging:\n",
    "        print(output)\n",
    "    return output"
   ]
  },
  {
   "cell_type": "code",
   "execution_count": 621,
   "id": "9fdf2ac1-62f4-44cf-81e5-a2e6f6c3a9c8",
   "metadata": {
    "scrolled": true
   },
   "outputs": [
    {
     "name": "stdout",
     "output_type": "stream",
     "text": [
      "SPORTSCHECK FILIALEN \n",
      "30\n"
     ]
    },
    {
     "data": {
      "text/plain": [
       "{'https://www.sportscheck.com/filialen/aachen/': ['Aachen'],\n",
       " 'https://www.sportscheck.com/filialen/berlin-schoeneberg/': ['Berlin-Schöneberg',\n",
       "  ''],\n",
       " 'https://www.sportscheck.com/filialen/berlin-steglitz/': ['Berlin-Steglitz'],\n",
       " 'https://www.sportscheck.com/filialen/bielefeld/': ['Bielefeld', '', ''],\n",
       " 'https://www.sportscheck.com/filialen/bonn/': ['Bonn'],\n",
       " 'https://www.sportscheck.com/filialen/braunschweig/': ['Braunschweig'],\n",
       " 'https://www.sportscheck.com/filialen/bremen/': [''],\n",
       " 'https://www.sportscheck.com/filialen/dortmund/': ['Dortmund'],\n",
       " 'https://www.sportscheck.com/filialen/dresden-centrum-galerie/': ['',\n",
       "  'Dresden Centrum-Galerie'],\n",
       " 'https://www.sportscheck.com/filialen/dresden-altmarkt-galerie/': ['Dresden\\xa0Altmarkt-Galerie',\n",
       "  '',\n",
       "  ''],\n",
       " 'https://www.sportscheck.com/filialen/erfurt/': ['Erfurt'],\n",
       " 'https://www.sportscheck.com/filialen/frankfurt/': ['Frankfurt', ''],\n",
       " 'https://www.sportscheck.com/filialen/goettingen/': ['Göttingen'],\n",
       " 'https://www.sportscheck.com/filialen/hamburg-altstadt/': ['Hamburg-Altstadt',\n",
       "  ''],\n",
       " 'https://www.sportscheck.com/filialen/hamburg-harburg/': ['Hamburg-Harburg'],\n",
       " 'https://www.sportscheck.com/filialen/hannover-mitte/': ['Hannover-Mitte',\n",
       "  ''],\n",
       " 'https://www.sportscheck.com/filialen/hannover-osterstrasse/': ['Hannover Osterstraße'],\n",
       " 'https://www.sportscheck.com/filialen/heidelberg/': [''],\n",
       " 'https://www.sportscheck.com/filialen/karlsruhe/': ['Karlsruhe'],\n",
       " 'https://www.sportscheck.com/filialen/kassel/': [''],\n",
       " 'https://www.sportscheck.com/filialen/konstanz/': ['Konstanz'],\n",
       " 'https://www.sportscheck.com/filialen/koeln/': ['Köln'],\n",
       " 'https://www.sportscheck.com/filialen/leipzig/': ['Leipzig'],\n",
       " 'https://www.sportscheck.com/filialen/magdeburg/': ['Magdeburg'],\n",
       " 'https://www.sportscheck.com/filialen/moenchengladbach/': ['Mönchengladbach'],\n",
       " 'https://www.sportscheck.com/filialen/muenchen/': [''],\n",
       " 'https://www.sportscheck.com/filialen/muenster/': ['Münster'],\n",
       " 'https://www.sportscheck.com/filialen/nuernberg/': ['Nürnberg'],\n",
       " 'https://www.sportscheck.com/filialen/stuttgart/': ['Stuttgart', ''],\n",
       " 'https://www.sportscheck.com/filialen/wildau/': ['Wildau']}"
      ]
     },
     "execution_count": 621,
     "metadata": {},
     "output_type": "execute_result"
    }
   ],
   "source": [
    "url = 'https://www.sportscheck.com/filialen/'\n",
    "output = get_dict_branches(url,1)\n",
    "print(len(output))\n",
    "output"
   ]
  },
  {
   "cell_type": "code",
   "execution_count": 622,
   "id": "da8cb5bb-42a6-4c8e-ae44-52a8db08764d",
   "metadata": {},
   "outputs": [],
   "source": [
    "def find_index(lis:list, substring:str):\n",
    "    indices = [i for i, element in enumerate(lis) if substring in element.lower()]\n",
    "    if indices:\n",
    "        print(f\"Found '{substring}' at indices {indices}\")\n",
    "        return indices[0]\n",
    "    else:\n",
    "        print(f\"'{substring}' not found in the list\")\n",
    "        return -1\n",
    "\n",
    "def get_info_branch(it:int, url:str, location_city:str, selected_row:int, logging:bool= False) -> [folium.FeatureGroup, folium.FeatureGroup, folium.FeatureGroup]:\n",
    "    page = urlopen(url)\n",
    "    html = page.read().decode(\"utf-8\")\n",
    "    soup = BeautifulSoup(html, 'html.parser')\n",
    "    if logging:\n",
    "        print(soup.find('h2').get_text())\n",
    "    \n",
    "    className = 'landingpage-text__inner landingpage-text--centered'\n",
    "    results = soup.find_all('div', {'class': className})\n",
    "    # print(type(results))\n",
    "    tag = results[selected_row]\n",
    "    # print(type(tag))\n",
    "    if logging:\n",
    "        print(tag.text)\n",
    "    s2=tag.text.split('\\n')\n",
    "    s2.remove('\\xa0')\n",
    "\n",
    "    # print(f's2={s2}')\n",
    "    \n",
    "    start_row = find_index(s2,'sportscheck') + 1\n",
    "    end_row = find_index(s2,'mail')\n",
    "\n",
    "    if start_row==-1:\n",
    "        return None\n",
    "    if end_row == -1:\n",
    "        return None\n",
    "    \n",
    "    address = \" \".join(s2[start_row:end_row])\n",
    "        \n",
    "    sub_str = ['shopping','center','mall','plaza']\n",
    "    if any(x in s2[start_row].lower() for x in sub_str):\n",
    "        print(f'Found mall={s2[start_row]}')\n",
    "        start_row = start_row + 1\n",
    "        \n",
    "    \n",
    "    # print(f'start_row:{start_row}')\n",
    "    # print(f'end_row:{end_row}')\n",
    "        \n",
    "    address = \" \".join(s2[start_row:end_row])\n",
    "    \n",
    "    if 'sss' in address:\n",
    "        address = address.replace(\"sss\", \"ss\")\n",
    "        print(f'sss={s2[start_row]}')\n",
    "    print(f'address={address}')\n",
    "    \n",
    "    locator = Nominatim(user_agent=\"google\") # https://github.com/geopy/geopy/tree/master/geopy/geocoders\n",
    "    location_with_address = locator.geocode(address)\n",
    "    \n",
    "    # print(f'location:{location}')\n",
    "\n",
    "    location_with_osm = None\n",
    "    for elem in location_city:\n",
    "        if elem:\n",
    "            print(f'elem={elem}')\n",
    "            location_with_osm = locator.geocode(f'SportScheck {elem}')\n",
    "            if location_with_osm is not None:\n",
    "                print(f'location_with_osm={location_with_osm}')\n",
    "                print(f'Found directly the SportScheck in {elem}')\n",
    "                # continue\n",
    "\n",
    "    if location_with_address is None:\n",
    "        print(f'location_with_address invalid={address}')\n",
    "        location = location_with_osm\n",
    "    else:\n",
    "        location = location_with_address\n",
    "\n",
    "    if location is None:\n",
    "        return None\n",
    "    points = [[location.raw['boundingbox'][0],location.raw['boundingbox'][2]],[location.raw['boundingbox'][1],location.raw['boundingbox'][3]]]\n",
    "    print(f'url={url}')\n",
    "    print(f'location={location}')\n",
    "    \n",
    "    l_fg_osm = folium.FeatureGroup(name=f'[#{it}] SportScheck {location_city}/OSM')\n",
    "    if location_with_osm is not None:\n",
    "        rect_with_city = folium.Rectangle(bounds=points, color='blue', fill=True, fill_color='#ffff00', fill_opacity=0.2, \n",
    "                        tooltip=location_with_osm.address,\n",
    "                        popup=f'''<a href={url}>{url}</a>''')\n",
    "        l_fg_osm.add_child(rect_with_city)\n",
    "\n",
    "    l_fg_address = folium.FeatureGroup(name=f'[#{it}] SportScheck {location_city}/Address')    \n",
    "    if location_with_address is not None:\n",
    "        rect = folium.Rectangle(bounds=points, color='#ff7800', fill=True, fill_color='#ffff00', fill_opacity=0.2, \n",
    "                                tooltip=location_with_address.address,\n",
    "                                popup=f'''<a href=\"'{url}'\">{url}</a>''')\n",
    "        l_fg_address.add_child(rect)\n",
    "        \n",
    "    \n",
    "    l_fg_marker = folium.FeatureGroup(name=f'[#{it}] SportScheck {location_city}/Marker')\n",
    "    marker = folium.Marker(location=[location.raw['lat'], location.raw[\"lon\"]],\n",
    "                              tooltip=location.address,\n",
    "                              popup=f'''<a href=\"'{url}'\">{url}</a>''',\n",
    "                              icon=folium.features.CustomIcon(icon_image='logo.png',\n",
    "                                                              icon_size=(50, 15)\n",
    "                                                             )\n",
    "                              )\n",
    "    l_fg_marker.add_child(marker)\n",
    "      \n",
    "    return [l_fg_osm,l_fg_address,l_fg_marker]\n",
    "    # return tag#.text"
   ]
  },
  {
   "cell_type": "code",
   "execution_count": 623,
   "id": "9e348e76-8fc4-48dc-9325-5ca70ab481ca",
   "metadata": {},
   "outputs": [],
   "source": [
    "# output = {\n",
    "#     # 'https://www.sportscheck.com/filialen/koeln/': ['Köln'],\n",
    "#     # 'https://www.sportscheck.com/filialen/moenchengladbach/': ['Mönchengladbach'],\n",
    "# #  'https://www.sportscheck.com/filialen/muenchen/': [''],\n",
    "# #  'https://www.sportscheck.com/filialen/muenster/': ['Münster'],\n",
    "# #  'https://www.sportscheck.com/filialen/nuernberg/': ['Nürnberg'],\n",
    "#  'https://www.sportscheck.com/filialen/stuttgart/': ['Stuttgart', ''],\n",
    "# #  'https://www.sportscheck.com/filialen/wildau/': ['Wildau']\n",
    "# }"
   ]
  },
  {
   "cell_type": "code",
   "execution_count": 624,
   "id": "56005c0b-0fee-4e13-b9f6-54197cad4d4b",
   "metadata": {},
   "outputs": [
    {
     "name": "stdout",
     "output_type": "stream",
     "text": [
      "i=0/29, key=https://www.sportscheck.com/filialen/aachen/, value=['Aachen']\n",
      "Found 'sportscheck' at indices [3, 7]\n",
      "Found 'mail' at indices [7]\n",
      "Found mall=Aquis Plaza\n",
      "address=Adalbertstraße 100 52062 Aachen\n",
      "elem=Aachen\n",
      "url=https://www.sportscheck.com/filialen/aachen/\n",
      "\n",
      "i=1/29, key=https://www.sportscheck.com/filialen/berlin-schoeneberg/, value=['Berlin-Schöneberg', '']\n",
      "Found 'sportscheck' at indices [5, 8]\n",
      "Found 'mail' at indices [8]\n",
      "address=Tauentzienstraße 5  10789 Berlin\n",
      "elem=Berlin-Schöneberg\n",
      "url=https://www.sportscheck.com/filialen/berlin-schoeneberg/\n",
      "\n",
      "i=2/29, key=https://www.sportscheck.com/filialen/berlin-steglitz/, value=['Berlin-Steglitz']\n",
      "Found 'sportscheck' at indices [3, 6]\n",
      "Found 'mail' at indices [6]\n",
      "address=Schloßstraße 7-10  12163 Berlin\n",
      "elem=Berlin-Steglitz\n",
      "location_with_osm=SportScheck, 7-10, Schloßstraße, Steglitz, Steglitz-Zehlendorf, Berlin, 12163, Deutschland\n",
      "Found directly the SportScheck in Berlin-Steglitz\n",
      "url=https://www.sportscheck.com/filialen/berlin-steglitz/\n",
      "\n",
      "i=3/29, key=https://www.sportscheck.com/filialen/bielefeld/, value=['Bielefeld', '', '']\n",
      "Found 'sportscheck' at indices [7, 10]\n",
      "Found 'mail' at indices [10]\n",
      "address=Bahnhofstraße 1  33602 Bielefeld \n",
      "elem=Bielefeld\n",
      "location_with_osm=SportScheck, 1, Bahnhofstraße, Bahnhofsviertel, Mitte, Bielefeld, Nordrhein-Westfalen, 33602, Deutschland\n",
      "Found directly the SportScheck in Bielefeld\n",
      "url=https://www.sportscheck.com/filialen/bielefeld/\n",
      "\n",
      "i=4/29, key=https://www.sportscheck.com/filialen/bonn/, value=['Bonn']\n",
      "Found 'sportscheck' at indices [9, 12]\n",
      "Found 'mail' at indices [12]\n",
      "sss=Remigiussstraße 6-8\n",
      "address=Remigiusstraße 6-8 53111 Bonn\n",
      "elem=Bonn\n",
      "location_with_osm=SportScheck, 6-8, Remigiusstraße, Bonn-Zentrum, Stadtbezirk Bonn, Bonn, Nordrhein-Westfalen, 53111, Deutschland\n",
      "Found directly the SportScheck in Bonn\n",
      "url=https://www.sportscheck.com/filialen/bonn/\n",
      "\n",
      "i=5/29, key=https://www.sportscheck.com/filialen/braunschweig/, value=['Braunschweig']\n",
      "Found 'sportscheck' at indices [7, 10]\n",
      "Found 'mail' at indices [10]\n",
      "address=Damm 5  38100 Braunschweig\n",
      "elem=Braunschweig\n",
      "location_with_osm=SportScheck, Damm, Mitte, Braunschweig, Niedersachsen, 38100, Deutschland\n",
      "Found directly the SportScheck in Braunschweig\n",
      "url=https://www.sportscheck.com/filialen/braunschweig/\n",
      "\n",
      "i=6/29, key=https://www.sportscheck.com/filialen/bremen/, value=['']\n",
      "The branch https://www.sportscheck.com/filialen/bremen/ has been removed or has moved\n",
      "\n",
      "i=7/29, key=https://www.sportscheck.com/filialen/dortmund/, value=['Dortmund']\n",
      "Found 'sportscheck' at indices [7, 10]\n",
      "Found 'mail' at indices [10]\n",
      "address=Hansaplatz 1 44137 Dortmund\n",
      "elem=Dortmund\n",
      "location_with_osm=SportScheck, Alter Markt, Mitte, Innenstadt West, Dortmund, Nordrhein-Westfalen, 44137, Deutschland\n",
      "Found directly the SportScheck in Dortmund\n",
      "url=https://www.sportscheck.com/filialen/dortmund/\n",
      "\n",
      "i=8/29, key=https://www.sportscheck.com/filialen/dresden-centrum-galerie/, value=['', 'Dresden Centrum-Galerie']\n",
      "Found 'sportscheck' at indices [10, 14]\n",
      "Found 'mail' at indices [14]\n",
      "address=Centrum-Galerie Pragerstraße 15 01069 Dresde\n",
      "elem=Dresden Centrum-Galerie\n",
      "url=https://www.sportscheck.com/filialen/dresden-centrum-galerie/\n",
      "\n",
      "i=9/29, key=https://www.sportscheck.com/filialen/dresden-altmarkt-galerie/, value=['Dresden\\xa0Altmarkt-Galerie', '', '']\n",
      "Found 'sportscheck' at indices [3, 7]\n",
      "Found 'mail' at indices [7]\n",
      "address=Altmarkt-Galerie Webergasse 1 01067 Dresden \n",
      "elem=Dresden Altmarkt-Galerie\n",
      "url=https://www.sportscheck.com/filialen/dresden-altmarkt-galerie/\n",
      "\n",
      "i=10/29, key=https://www.sportscheck.com/filialen/erfurt/, value=['Erfurt']\n",
      "Found 'sportscheck' at indices [3, 6]\n",
      "Found 'mail' at indices [6]\n",
      "address=Anger 2  99084 Erfurt \n",
      "elem=Erfurt\n",
      "location_with_osm=SportScheck, 2, Anger, Altstadt, Erfurt, Thüringen, 99084, Deutschland\n",
      "Found directly the SportScheck in Erfurt\n",
      "url=https://www.sportscheck.com/filialen/erfurt/\n",
      "\n",
      "i=11/29, key=https://www.sportscheck.com/filialen/frankfurt/, value=['Frankfurt', '']\n",
      "Found 'sportscheck' at indices [3, 7]\n",
      "Found 'mail' at indices [7]\n",
      "address=direkt an der Zeil Schaefergasse 10 60313 Frankfurt\n",
      "elem=Frankfurt\n",
      "location_with_osm=SportScheck, 10, Schäfergasse, Regenbogenviertel, Innenstadt, Innenstadt 1, Frankfurt am Main, Hessen, 60313, Deutschland\n",
      "Found directly the SportScheck in Frankfurt\n",
      "location_with_address invalid=direkt an der Zeil Schaefergasse 10 60313 Frankfurt\n",
      "url=https://www.sportscheck.com/filialen/frankfurt/\n",
      "\n",
      "i=12/29, key=https://www.sportscheck.com/filialen/goettingen/, value=['Göttingen']\n",
      "Found 'sportscheck' at indices [3, 6]\n",
      "Found 'mail' at indices [6]\n",
      "address=Kornmarkt 12-16 37073 Göttingen\n",
      "elem=Göttingen\n",
      "location_with_osm=SportScheck, 12-16, Kornmarkt, Hospital-Galerie, Nikolaistraße, Innenstadt, Göttingen, Landkreis Göttingen, Niedersachsen, 37073, Deutschland\n",
      "Found directly the SportScheck in Göttingen\n",
      "url=https://www.sportscheck.com/filialen/goettingen/\n",
      "\n",
      "i=13/29, key=https://www.sportscheck.com/filialen/hamburg-altstadt/, value=['Hamburg-Altstadt', '']\n",
      "Found 'sportscheck' at indices [3, 6]\n",
      "Found 'mail' at indices [6]\n",
      "address=Moenckebergstraße 18  20095 Hamburg\n",
      "elem=Hamburg-Altstadt\n",
      "location_with_osm=SportScheck, 18, Mönckebergstraße, Altstadt, Hamburg-Mitte, Hamburg, 20095, Deutschland\n",
      "Found directly the SportScheck in Hamburg-Altstadt\n",
      "url=https://www.sportscheck.com/filialen/hamburg-altstadt/\n",
      "\n",
      "i=14/29, key=https://www.sportscheck.com/filialen/hamburg-harburg/, value=['Hamburg-Harburg']\n",
      "Found 'sportscheck' at indices [3, 7]\n",
      "Found 'mail' at indices [7]\n",
      "Found mall=Phoenix Center \n",
      "address=Hannoverschestraße 86 21079 Hamburg\n",
      "elem=Hamburg-Harburg\n",
      "location_with_osm=SportScheck, Hannoversche Straße, Phoenix-Viertel, Harburg, Hamburg, 21079, Deutschland\n",
      "Found directly the SportScheck in Hamburg-Harburg\n",
      "url=https://www.sportscheck.com/filialen/hamburg-harburg/\n",
      "\n",
      "i=15/29, key=https://www.sportscheck.com/filialen/hannover-mitte/, value=['Hannover-Mitte', '']\n",
      "Found 'sportscheck' at indices [4, 7]\n",
      "Found 'mail' at indices [7]\n",
      "address=Große Packhofstraße 31-33 30159 Hannover \n",
      "elem=Hannover-Mitte\n",
      "location_with_osm=SportScheck, 31, Karmarschstraße, Altstadt, Mitte, Hannover, Region Hannover, Niedersachsen, 30159, Deutschland\n",
      "Found directly the SportScheck in Hannover-Mitte\n",
      "url=https://www.sportscheck.com/filialen/hannover-mitte/\n",
      "\n",
      "i=16/29, key=https://www.sportscheck.com/filialen/hannover-osterstrasse/, value=['Hannover Osterstraße']\n",
      "Found 'sportscheck' at indices [7, 10]\n",
      "Found 'mail' at indices [10]\n",
      "address=Karmarschstr. 31 30159 Hannover \n",
      "elem=Hannover Osterstraße\n",
      "url=https://www.sportscheck.com/filialen/hannover-osterstrasse/\n",
      "\n",
      "i=17/29, key=https://www.sportscheck.com/filialen/heidelberg/, value=['']\n",
      "The branch https://www.sportscheck.com/filialen/heidelberg/ has been removed or has moved\n",
      "\n",
      "i=18/29, key=https://www.sportscheck.com/filialen/karlsruhe/, value=['Karlsruhe']\n",
      "Found 'sportscheck' at indices [6, 9]\n",
      "Found 'mail' at indices [9]\n",
      "address=Kaiserstraße 92 76133 Karlsruhe\n",
      "elem=Karlsruhe\n",
      "location_with_osm=SportScheck, 92, Kaiserstraße, Innenstadt-West Östlicher Teil, Innenstadt-West, Karlsruhe, Baden-Württemberg, 76133, Deutschland\n",
      "Found directly the SportScheck in Karlsruhe\n",
      "url=https://www.sportscheck.com/filialen/karlsruhe/\n",
      "\n",
      "i=19/29, key=https://www.sportscheck.com/filialen/kassel/, value=['']\n",
      "The branch https://www.sportscheck.com/filialen/kassel/ has been removed or has moved\n",
      "\n",
      "i=20/29, key=https://www.sportscheck.com/filialen/konstanz/, value=['Konstanz']\n",
      "Found 'sportscheck' at indices [3, 7]\n",
      "Found 'mail' at indices [7]\n",
      "Found mall=LAGO Shopping Center\n",
      "address=Bodanstraße 1-3 78462 Konstanz\n",
      "elem=Konstanz\n",
      "url=https://www.sportscheck.com/filialen/konstanz/\n",
      "\n",
      "i=21/29, key=https://www.sportscheck.com/filialen/koeln/, value=['Köln']\n",
      "Found 'sportscheck' at indices [3, 5]\n",
      "Found 'mail' at indices [5]\n",
      "address=50667 Köln\n",
      "elem=Köln\n",
      "location_with_osm=SportScheck, 38, 40, 42, Schildergasse, Neumarktviertel, Altstadt-Nord, Innenstadt, Köln, Nordrhein-Westfalen, 50667, Deutschland\n",
      "Found directly the SportScheck in Köln\n",
      "url=https://www.sportscheck.com/filialen/koeln/\n",
      "\n",
      "i=22/29, key=https://www.sportscheck.com/filialen/leipzig/, value=['Leipzig']\n",
      "'sportscheck' not found in the list\n",
      "'mail' not found in the list\n"
     ]
    },
    {
     "ename": "TypeError",
     "evalue": "cannot unpack non-iterable NoneType object",
     "output_type": "error",
     "traceback": [
      "\u001b[1;31m---------------------------------------------------------------------------\u001b[0m",
      "\u001b[1;31mTypeError\u001b[0m                                 Traceback (most recent call last)",
      "Cell \u001b[1;32mIn[624], line 8\u001b[0m\n\u001b[0;32m      6\u001b[0m     \u001b[38;5;28mprint\u001b[39m(\u001b[38;5;124mf\u001b[39m\u001b[38;5;124m'\u001b[39m\u001b[38;5;124mThe branch \u001b[39m\u001b[38;5;132;01m{\u001b[39;00mkey\u001b[38;5;132;01m}\u001b[39;00m\u001b[38;5;124m has been removed or has moved\u001b[39m\u001b[38;5;124m'\u001b[39m)\n\u001b[0;32m      7\u001b[0m \u001b[38;5;28;01melse\u001b[39;00m:\n\u001b[1;32m----> 8\u001b[0m     l_fg_osm,l_fg_address,l_fg_marker \u001b[38;5;241m=\u001b[39m get_info_branch(i,key,value,\u001b[38;5;241m1\u001b[39m)\n\u001b[0;32m      9\u001b[0m     l_fg_marker\u001b[38;5;241m.\u001b[39madd_to(m)\n\u001b[0;32m     10\u001b[0m     \u001b[38;5;28;01mif\u001b[39;00m l_fg_osm \u001b[38;5;129;01mis\u001b[39;00m \u001b[38;5;129;01mnot\u001b[39;00m \u001b[38;5;28;01mNone\u001b[39;00m:\n",
      "\u001b[1;31mTypeError\u001b[0m: cannot unpack non-iterable NoneType object"
     ]
    }
   ],
   "source": [
    "m=folium.Map()\n",
    "\n",
    "for i,(key,value) in enumerate(output.items()):\n",
    "    print(f'i={i}/{len(output)-1}, key={key}, value={value}')\n",
    "    if '' in value and len(value)==1:\n",
    "        print(f'The branch {key} has been removed or has moved')\n",
    "    else:\n",
    "        l_fg_osm,l_fg_address,l_fg_marker = get_info_branch(i,key,value,1)\n",
    "        l_fg_marker.add_to(m)\n",
    "        if l_fg_osm is not None:\n",
    "            l_fg_osm.add_to(m)\n",
    "            if l_fg_address is not None:\n",
    "                l_fg_address.add_to(m)\n",
    "            else:\n",
    "                continue\n",
    "    print()\n",
    "\n",
    "fullscreen = folium.plugins.Fullscreen(position='topleft',\n",
    "                                           title='Expand me',\n",
    "                                           title_cancel='Exit me',\n",
    "                                           force_separate_button=True)\n",
    "m.add_child(fullscreen)\n",
    "layercontrol = folium.LayerControl(position='topright',\n",
    "                                       collapsed=False)\n",
    "fm = m.add_child(layercontrol)\n",
    "fm.fit_bounds(fm.get_bounds())\n",
    "fm"
   ]
  },
  {
   "cell_type": "code",
   "execution_count": null,
   "id": "ae8a13f9-40a4-4d0d-bbeb-25f6baab02c5",
   "metadata": {},
   "outputs": [],
   "source": []
  },
  {
   "cell_type": "code",
   "execution_count": 346,
   "id": "36df2efd-5af3-47bb-8725-c7d0e0aa94fa",
   "metadata": {},
   "outputs": [
    {
     "name": "stdout",
     "output_type": "stream",
     "text": [
      "url=https://www.sportscheck.com/filialen/aachen/\n",
      "<class 'bs4.element.ResultSet'>\n",
      "<class 'bs4.element.Tag'>\n"
     ]
    },
    {
     "data": {
      "text/html": [
       "<div style=\"width:100%;\"><div style=\"position:relative;width:100%;height:0;padding-bottom:60%;\"><span style=\"color:#565656\">Make this Notebook Trusted to load map: File -> Trust Notebook</span><iframe srcdoc=\"&lt;!DOCTYPE html&gt;\n",
       "&lt;html&gt;\n",
       "&lt;head&gt;\n",
       "    \n",
       "    &lt;meta http-equiv=&quot;content-type&quot; content=&quot;text/html; charset=UTF-8&quot; /&gt;\n",
       "    \n",
       "        &lt;script&gt;\n",
       "            L_NO_TOUCH = false;\n",
       "            L_DISABLE_3D = false;\n",
       "        &lt;/script&gt;\n",
       "    \n",
       "    &lt;style&gt;html, body {width: 100%;height: 100%;margin: 0;padding: 0;}&lt;/style&gt;\n",
       "    &lt;style&gt;#map {position:absolute;top:0;bottom:0;right:0;left:0;}&lt;/style&gt;\n",
       "    &lt;script src=&quot;https://cdn.jsdelivr.net/npm/leaflet@1.9.3/dist/leaflet.js&quot;&gt;&lt;/script&gt;\n",
       "    &lt;script src=&quot;https://code.jquery.com/jquery-3.7.1.min.js&quot;&gt;&lt;/script&gt;\n",
       "    &lt;script src=&quot;https://cdn.jsdelivr.net/npm/bootstrap@5.2.2/dist/js/bootstrap.bundle.min.js&quot;&gt;&lt;/script&gt;\n",
       "    &lt;script src=&quot;https://cdnjs.cloudflare.com/ajax/libs/Leaflet.awesome-markers/2.0.2/leaflet.awesome-markers.js&quot;&gt;&lt;/script&gt;\n",
       "    &lt;link rel=&quot;stylesheet&quot; href=&quot;https://cdn.jsdelivr.net/npm/leaflet@1.9.3/dist/leaflet.css&quot;/&gt;\n",
       "    &lt;link rel=&quot;stylesheet&quot; href=&quot;https://cdn.jsdelivr.net/npm/bootstrap@5.2.2/dist/css/bootstrap.min.css&quot;/&gt;\n",
       "    &lt;link rel=&quot;stylesheet&quot; href=&quot;https://netdna.bootstrapcdn.com/bootstrap/3.0.0/css/bootstrap-glyphicons.css&quot;/&gt;\n",
       "    &lt;link rel=&quot;stylesheet&quot; href=&quot;https://cdn.jsdelivr.net/npm/@fortawesome/fontawesome-free@6.2.0/css/all.min.css&quot;/&gt;\n",
       "    &lt;link rel=&quot;stylesheet&quot; href=&quot;https://cdnjs.cloudflare.com/ajax/libs/Leaflet.awesome-markers/2.0.2/leaflet.awesome-markers.css&quot;/&gt;\n",
       "    &lt;link rel=&quot;stylesheet&quot; href=&quot;https://cdn.jsdelivr.net/gh/python-visualization/folium/folium/templates/leaflet.awesome.rotate.min.css&quot;/&gt;\n",
       "    \n",
       "            &lt;meta name=&quot;viewport&quot; content=&quot;width=device-width,\n",
       "                initial-scale=1.0, maximum-scale=1.0, user-scalable=no&quot; /&gt;\n",
       "            &lt;style&gt;\n",
       "                #map_f6787f2487c78627b8c54bac0591b32b {\n",
       "                    position: relative;\n",
       "                    width: 100.0%;\n",
       "                    height: 100.0%;\n",
       "                    left: 0.0%;\n",
       "                    top: 0.0%;\n",
       "                }\n",
       "                .leaflet-container { font-size: 1rem; }\n",
       "            &lt;/style&gt;\n",
       "        \n",
       "&lt;/head&gt;\n",
       "&lt;body&gt;\n",
       "    \n",
       "    \n",
       "            &lt;div class=&quot;folium-map&quot; id=&quot;map_f6787f2487c78627b8c54bac0591b32b&quot; &gt;&lt;/div&gt;\n",
       "        \n",
       "&lt;/body&gt;\n",
       "&lt;script&gt;\n",
       "    \n",
       "    \n",
       "            var map_f6787f2487c78627b8c54bac0591b32b = L.map(\n",
       "                &quot;map_f6787f2487c78627b8c54bac0591b32b&quot;,\n",
       "                {\n",
       "                    center: [0.0, 0.0],\n",
       "                    crs: L.CRS.EPSG3857,\n",
       "                    zoom: 1,\n",
       "                    zoomControl: true,\n",
       "                    preferCanvas: false,\n",
       "                }\n",
       "            );\n",
       "\n",
       "            \n",
       "\n",
       "        \n",
       "    \n",
       "            var tile_layer_12cacef0b0b97dfe3154a100c4b55e7a = L.tileLayer(\n",
       "                &quot;https://tile.openstreetmap.org/{z}/{x}/{y}.png&quot;,\n",
       "                {&quot;attribution&quot;: &quot;\\u0026copy; \\u003ca href=\\&quot;https://www.openstreetmap.org/copyright\\&quot;\\u003eOpenStreetMap\\u003c/a\\u003e contributors&quot;, &quot;detectRetina&quot;: false, &quot;maxNativeZoom&quot;: 19, &quot;maxZoom&quot;: 18, &quot;minZoom&quot;: 0, &quot;noWrap&quot;: false, &quot;opacity&quot;: 1, &quot;subdomains&quot;: &quot;abc&quot;, &quot;tms&quot;: false}\n",
       "            );\n",
       "        \n",
       "    \n",
       "            tile_layer_12cacef0b0b97dfe3154a100c4b55e7a.addTo(map_f6787f2487c78627b8c54bac0591b32b);\n",
       "        \n",
       "    \n",
       "            map_f6787f2487c78627b8c54bac0591b32b.fitBounds(\n",
       "                [[&quot;50.7741604&quot;, &quot;6.0914492&quot;], [&quot;50.7752769&quot;, &quot;6.0945287&quot;]],\n",
       "                {}\n",
       "            );\n",
       "        \n",
       "    \n",
       "            var rectangle_3324e0d7912291fb34192d8f2a0b1ebd = L.rectangle(\n",
       "                [[50.7741604, 6.0914492], [50.7752769, 6.0945287]],\n",
       "                {&quot;bubblingMouseEvents&quot;: true, &quot;color&quot;: &quot;#ff7800&quot;, &quot;dashArray&quot;: null, &quot;dashOffset&quot;: null, &quot;fill&quot;: true, &quot;fillColor&quot;: &quot;#ffff00&quot;, &quot;fillOpacity&quot;: 0.2, &quot;fillRule&quot;: &quot;evenodd&quot;, &quot;lineCap&quot;: &quot;round&quot;, &quot;lineJoin&quot;: &quot;round&quot;, &quot;noClip&quot;: false, &quot;opacity&quot;: 1.0, &quot;smoothFactor&quot;: 1.0, &quot;stroke&quot;: true, &quot;weight&quot;: 3}\n",
       "            ).addTo(map_f6787f2487c78627b8c54bac0591b32b);\n",
       "        \n",
       "&lt;/script&gt;\n",
       "&lt;/html&gt;\" style=\"position:absolute;width:100%;height:100%;left:0;top:0;border:none !important;\" allowfullscreen webkitallowfullscreen mozallowfullscreen></iframe></div></div>"
      ],
      "text/plain": [
       "<folium.folium.Map at 0x15bc6b6ffe0>"
      ]
     },
     "execution_count": 346,
     "metadata": {},
     "output_type": "execute_result"
    }
   ],
   "source": [
    "url2 = list(output.keys())[0]\n",
    "print(f'url={url2}') \n",
    "\n",
    "rect = get_info_branch(url2,1)\n",
    "map = folium.Map(max_zoom=18)\n",
    "map.add_chil(rect)\n"
   ]
  },
  {
   "cell_type": "code",
   "execution_count": 237,
   "id": "6e640412-c703-40f2-aa36-09058e196520",
   "metadata": {},
   "outputs": [
    {
     "data": {
      "text/plain": [
       "[<p>Montag - Freitag: 11:00 - 19:00 Uhr<br/>Samstag: 11:00 - 20:00 Uhr </p>,\n",
       " <p> </p>,\n",
       " <p>SportScheck Aachen</p>,\n",
       " <p>Aquis Plaza</p>,\n",
       " <p>Adalbertstraße 100</p>,\n",
       " <p>52062 Aachen</p>,\n",
       " <p>Mail: <span style=\"text-decoration: underline;\">service@sportscheck.com</span></p>,\n",
       " <p> </p>,\n",
       " <p><span style=\"text-decoration: underline;\"><a href=\"https://www.sportscheck.com/filialen/\"><span style=\"font-family: Intro; font-size: 18.0pt;\">zur Filialübersicht</span></a></span></p>]"
      ]
     },
     "execution_count": 237,
     "metadata": {},
     "output_type": "execute_result"
    }
   ],
   "source": [
    "tag.find_all('p')"
   ]
  },
  {
   "cell_type": "code",
   "execution_count": 239,
   "id": "d05fbf9b-13b9-4eb5-82db-35e303167a6b",
   "metadata": {},
   "outputs": [
    {
     "name": "stdout",
     "output_type": "stream",
     "text": [
      "ÖFFNUNGSZEITEN\n",
      "Montag - Freitag: 11:00 - 19:00 UhrSamstag: 11:00 - 20:00 Uhr \n",
      " \n",
      "KONTAKT\n",
      "SportScheck Aachen\n",
      "Aquis Plaza\n",
      "Adalbertstraße 100\n",
      "52062 Aachen\n",
      "Mail: service@sportscheck.com\n",
      " \n",
      "zur Filialübersicht\n"
     ]
    }
   ],
   "source": [
    "print(tag.text)"
   ]
  },
  {
   "cell_type": "code",
   "execution_count": 337,
   "id": "c27867c2-f13a-43e4-b8fe-ad6ba5c84633",
   "metadata": {},
   "outputs": [
    {
     "data": {
      "text/plain": [
       "['ÖFFNUNGSZEITEN',\n",
       " 'Montag - Freitag: 11:00 - 19:00 UhrSamstag: 11:00 - 20:00 Uhr\\xa0',\n",
       " 'KONTAKT',\n",
       " 'SportScheck Aachen',\n",
       " 'Aquis Plaza',\n",
       " 'Adalbertstraße 100',\n",
       " '52062 Aachen',\n",
       " 'Mail: service@sportscheck.com',\n",
       " '\\xa0',\n",
       " 'zur Filialübersicht']"
      ]
     },
     "execution_count": 337,
     "metadata": {},
     "output_type": "execute_result"
    }
   ],
   "source": [
    "\n",
    "s2"
   ]
  },
  {
   "cell_type": "code",
   "execution_count": 341,
   "id": "d7d9ba48-5959-4a36-8c7a-ebb6ca08cd75",
   "metadata": {},
   "outputs": [
    {
     "data": {
      "text/plain": [
       "'Aquis Plaza Adalbertstraße 100 52062 Aachen'"
      ]
     },
     "execution_count": 341,
     "metadata": {},
     "output_type": "execute_result"
    }
   ],
   "source": [
    "\" \".join(s2[4:7])"
   ]
  },
  {
   "cell_type": "code",
   "execution_count": 269,
   "id": "1f04d44b-97da-4a47-a91d-6e09766f1f88",
   "metadata": {},
   "outputs": [],
   "source": []
  },
  {
   "cell_type": "code",
   "execution_count": 276,
   "id": "34ad104c-c002-4d38-83f5-154d067c261e",
   "metadata": {},
   "outputs": [
    {
     "data": {
      "text/plain": [
       "Location(Aquis Plaza, 100, Adalbertstraße, Kaiserplatz, Burtscheid, Aachen-Mitte, Aachen, Städteregion Aachen, Nordrhein-Westfalen, 52062, Deutschland, (50.77473085, 6.093145491143544, 0.0))"
      ]
     },
     "execution_count": 276,
     "metadata": {},
     "output_type": "execute_result"
    }
   ],
   "source": [
    "locator = Nominatim(user_agent=\"google\") # https://github.com/geopy/geopy/tree/master/geopy/geocoders\n",
    "location = locator.geocode(f\"{address} {city} {country}\", language='English')\n",
    "    # def geocode(\n",
    "    #         self,\n",
    "    #         query=None,\n",
    "    #         *,\n",
    "    #         exactly_one=True,\n",
    "    #         timeout=DEFAULT_SENTINEL,\n",
    "    #         bounds=None,\n",
    "    #         region=None,\n",
    "    #         components=None,\n",
    "    #         place_id=None,\n",
    "    #         language=None,\n",
    "    #         sensor=False\n",
    "    # ):\n",
    "location\n",
    "# print(\"Latitude = {}, Longitude = {}\".format(location.latitude, location.longitude))"
   ]
  },
  {
   "cell_type": "code",
   "execution_count": 295,
   "id": "dd86f6ed-0e70-40e5-803c-56aae7e0a759",
   "metadata": {},
   "outputs": [
    {
     "name": "stdout",
     "output_type": "stream",
     "text": [
      "Aquis Plaza, 100, Adalbertstraße, Kaiserplatz, Burtscheid, Aachen-Mitte, Aachen, Städteregion Aachen, Nordrhein-Westfalen, 52062, Deutschland\n"
     ]
    }
   ],
   "source": [
    "print(location.address)\n",
    "# https://www.openstreetmap.org/way/31252157#map=18/50.774973/6.093217"
   ]
  },
  {
   "cell_type": "code",
   "execution_count": 290,
   "id": "20f7ca16-6ba8-4bdd-85dd-0b09a86ed141",
   "metadata": {},
   "outputs": [
    {
     "data": {
      "text/plain": [
       "['address', 'altitude', 'latitude', 'longitude', 'point', 'raw']"
      ]
     },
     "execution_count": 290,
     "metadata": {},
     "output_type": "execute_result"
    }
   ],
   "source": [
    "def print_members_accessible(location):\n",
    "    return [i for i in dir(location) if not i[0].startswith('_')]\n",
    "members = print_members_accessible(location)\n",
    "members"
   ]
  },
  {
   "cell_type": "code",
   "execution_count": 328,
   "id": "786d79fb-baa9-4d2e-aad3-2be5d7e6e24c",
   "metadata": {},
   "outputs": [],
   "source": [
    "# pip install ogr"
   ]
  },
  {
   "cell_type": "code",
   "execution_count": 329,
   "id": "4a2cad9e-3b5f-40bd-83f1-c53c38a5c37b",
   "metadata": {},
   "outputs": [],
   "source": [
    "# pip install wget"
   ]
  },
  {
   "cell_type": "code",
   "execution_count": 298,
   "id": "4d99f92a-4f09-4735-af18-4befa8338bc0",
   "metadata": {},
   "outputs": [],
   "source": []
  },
  {
   "cell_type": "code",
   "execution_count": 297,
   "id": "7f3e076e-013f-4f89-9af7-040f647b0e16",
   "metadata": {},
   "outputs": [
    {
     "data": {
      "text/plain": [
       "{'place_id': 132715081,\n",
       " 'licence': 'Data © OpenStreetMap contributors, ODbL 1.0. http://osm.org/copyright',\n",
       " 'osm_type': 'way',\n",
       " 'osm_id': 31252157,\n",
       " 'lat': '50.77473085',\n",
       " 'lon': '6.093145491143544',\n",
       " 'class': 'shop',\n",
       " 'type': 'mall',\n",
       " 'place_rank': 30,\n",
       " 'importance': 0.1580839831692664,\n",
       " 'addresstype': 'shop',\n",
       " 'name': 'Aquis Plaza',\n",
       " 'display_name': 'Aquis Plaza, 100, Adalbertstraße, Kaiserplatz, Burtscheid, Aachen-Mitte, Aachen, Städteregion Aachen, Nordrhein-Westfalen, 52062, Deutschland',\n",
       " 'boundingbox': ['50.7741604', '50.7752769', '6.0914492', '6.0945287']}"
      ]
     },
     "execution_count": 297,
     "metadata": {},
     "output_type": "execute_result"
    }
   ],
   "source": [
    "\n",
    "location = locator.geocode(f\"{address}, {city}, {country}\")\n",
    "location.raw\n",
    "\n",
    "# NODES: Nodes are objects with a position (coordinates). Nodes can represent a postbox, tree, subway entrance, city center, building number, etc\n",
    "# WAYS:  A way is a line or polygon, for example, for streets, rivers, buildings, or boundaries.\n",
    "# RELATIONS: Relations are groups of nodes, ways and possibly other relations that describe some structure in the world \n",
    "          # (e.g., the relation \"cycleway\" describes the structure of a bicycle path alongside a road)"
   ]
  },
  {
   "cell_type": "code",
   "execution_count": null,
   "id": "2ea1af30-ea20-45fd-9ab1-05351fe61484",
   "metadata": {},
   "outputs": [],
   "source": []
  },
  {
   "cell_type": "code",
   "execution_count": 438,
   "id": "9a055d1e-771f-417f-9f62-aa205e0dbae2",
   "metadata": {},
   "outputs": [
    {
     "data": {
      "text/plain": [
       "{'place_id': 132715081,\n",
       " 'licence': 'Data © OpenStreetMap contributors, ODbL 1.0. http://osm.org/copyright',\n",
       " 'osm_type': 'way',\n",
       " 'osm_id': 31252157,\n",
       " 'lat': '50.77473085',\n",
       " 'lon': '6.093145491143544',\n",
       " 'class': 'shop',\n",
       " 'type': 'mall',\n",
       " 'place_rank': 30,\n",
       " 'importance': 0.1580839831692664,\n",
       " 'addresstype': 'shop',\n",
       " 'name': 'Aquis Plaza',\n",
       " 'display_name': 'Aquis Plaza, 100, Adalbertstraße, Kaiserplatz, Burtscheid, Aachen-Mitte, Aachen, Städteregion Aachen, Nordrhein-Westfalen, 52062, Deutschland',\n",
       " 'boundingbox': ['50.7741604', '50.7752769', '6.0914492', '6.0945287']}"
      ]
     },
     "execution_count": 438,
     "metadata": {},
     "output_type": "execute_result"
    }
   ],
   "source": [
    "location.raw#['boundingbox']"
   ]
  },
  {
   "cell_type": "code",
   "execution_count": 327,
   "id": "8771ccb7-48fa-466b-91f4-b29ca81fb728",
   "metadata": {},
   "outputs": [
    {
     "data": {
      "text/html": [
       "<div style=\"width:100%;\"><div style=\"position:relative;width:100%;height:0;padding-bottom:60%;\"><span style=\"color:#565656\">Make this Notebook Trusted to load map: File -> Trust Notebook</span><iframe srcdoc=\"&lt;!DOCTYPE html&gt;\n",
       "&lt;html&gt;\n",
       "&lt;head&gt;\n",
       "    \n",
       "    &lt;meta http-equiv=&quot;content-type&quot; content=&quot;text/html; charset=UTF-8&quot; /&gt;\n",
       "    \n",
       "        &lt;script&gt;\n",
       "            L_NO_TOUCH = false;\n",
       "            L_DISABLE_3D = false;\n",
       "        &lt;/script&gt;\n",
       "    \n",
       "    &lt;style&gt;html, body {width: 100%;height: 100%;margin: 0;padding: 0;}&lt;/style&gt;\n",
       "    &lt;style&gt;#map {position:absolute;top:0;bottom:0;right:0;left:0;}&lt;/style&gt;\n",
       "    &lt;script src=&quot;https://cdn.jsdelivr.net/npm/leaflet@1.9.3/dist/leaflet.js&quot;&gt;&lt;/script&gt;\n",
       "    &lt;script src=&quot;https://code.jquery.com/jquery-3.7.1.min.js&quot;&gt;&lt;/script&gt;\n",
       "    &lt;script src=&quot;https://cdn.jsdelivr.net/npm/bootstrap@5.2.2/dist/js/bootstrap.bundle.min.js&quot;&gt;&lt;/script&gt;\n",
       "    &lt;script src=&quot;https://cdnjs.cloudflare.com/ajax/libs/Leaflet.awesome-markers/2.0.2/leaflet.awesome-markers.js&quot;&gt;&lt;/script&gt;\n",
       "    &lt;link rel=&quot;stylesheet&quot; href=&quot;https://cdn.jsdelivr.net/npm/leaflet@1.9.3/dist/leaflet.css&quot;/&gt;\n",
       "    &lt;link rel=&quot;stylesheet&quot; href=&quot;https://cdn.jsdelivr.net/npm/bootstrap@5.2.2/dist/css/bootstrap.min.css&quot;/&gt;\n",
       "    &lt;link rel=&quot;stylesheet&quot; href=&quot;https://netdna.bootstrapcdn.com/bootstrap/3.0.0/css/bootstrap-glyphicons.css&quot;/&gt;\n",
       "    &lt;link rel=&quot;stylesheet&quot; href=&quot;https://cdn.jsdelivr.net/npm/@fortawesome/fontawesome-free@6.2.0/css/all.min.css&quot;/&gt;\n",
       "    &lt;link rel=&quot;stylesheet&quot; href=&quot;https://cdnjs.cloudflare.com/ajax/libs/Leaflet.awesome-markers/2.0.2/leaflet.awesome-markers.css&quot;/&gt;\n",
       "    &lt;link rel=&quot;stylesheet&quot; href=&quot;https://cdn.jsdelivr.net/gh/python-visualization/folium/folium/templates/leaflet.awesome.rotate.min.css&quot;/&gt;\n",
       "    \n",
       "            &lt;meta name=&quot;viewport&quot; content=&quot;width=device-width,\n",
       "                initial-scale=1.0, maximum-scale=1.0, user-scalable=no&quot; /&gt;\n",
       "            &lt;style&gt;\n",
       "                #map_9be85f730c6412e63cc620d204b83f55 {\n",
       "                    position: relative;\n",
       "                    width: 100.0%;\n",
       "                    height: 100.0%;\n",
       "                    left: 0.0%;\n",
       "                    top: 0.0%;\n",
       "                }\n",
       "                .leaflet-container { font-size: 1rem; }\n",
       "            &lt;/style&gt;\n",
       "        \n",
       "&lt;/head&gt;\n",
       "&lt;body&gt;\n",
       "    \n",
       "    \n",
       "            &lt;div class=&quot;folium-map&quot; id=&quot;map_9be85f730c6412e63cc620d204b83f55&quot; &gt;&lt;/div&gt;\n",
       "        \n",
       "&lt;/body&gt;\n",
       "&lt;script&gt;\n",
       "    \n",
       "    \n",
       "            var map_9be85f730c6412e63cc620d204b83f55 = L.map(\n",
       "                &quot;map_9be85f730c6412e63cc620d204b83f55&quot;,\n",
       "                {\n",
       "                    center: [0.0, 0.0],\n",
       "                    crs: L.CRS.EPSG3857,\n",
       "                    zoom: 1,\n",
       "                    zoomControl: true,\n",
       "                    preferCanvas: false,\n",
       "                }\n",
       "            );\n",
       "\n",
       "            \n",
       "\n",
       "        \n",
       "    \n",
       "            var tile_layer_5432609a0ead87a4923fd79111492d23 = L.tileLayer(\n",
       "                &quot;https://tile.openstreetmap.org/{z}/{x}/{y}.png&quot;,\n",
       "                {&quot;attribution&quot;: &quot;\\u0026copy; \\u003ca href=\\&quot;https://www.openstreetmap.org/copyright\\&quot;\\u003eOpenStreetMap\\u003c/a\\u003e contributors&quot;, &quot;detectRetina&quot;: false, &quot;maxNativeZoom&quot;: 19, &quot;maxZoom&quot;: 18, &quot;minZoom&quot;: 0, &quot;noWrap&quot;: false, &quot;opacity&quot;: 1, &quot;subdomains&quot;: &quot;abc&quot;, &quot;tms&quot;: false}\n",
       "            );\n",
       "        \n",
       "    \n",
       "            tile_layer_5432609a0ead87a4923fd79111492d23.addTo(map_9be85f730c6412e63cc620d204b83f55);\n",
       "        \n",
       "    \n",
       "            map_9be85f730c6412e63cc620d204b83f55.fitBounds(\n",
       "                [[&quot;50.7741604&quot;, &quot;6.0914492&quot;], [&quot;50.7752769&quot;, &quot;6.0945287&quot;]],\n",
       "                {}\n",
       "            );\n",
       "        \n",
       "    \n",
       "            var rectangle_759a95ee774277bd97ee28593b4a557c = L.rectangle(\n",
       "                [[50.7741604, 6.0914492], [50.7752769, 6.0945287]],\n",
       "                {&quot;bubblingMouseEvents&quot;: true, &quot;color&quot;: &quot;#ff7800&quot;, &quot;dashArray&quot;: null, &quot;dashOffset&quot;: null, &quot;fill&quot;: true, &quot;fillColor&quot;: &quot;#ffff00&quot;, &quot;fillOpacity&quot;: 0.2, &quot;fillRule&quot;: &quot;evenodd&quot;, &quot;lineCap&quot;: &quot;round&quot;, &quot;lineJoin&quot;: &quot;round&quot;, &quot;noClip&quot;: false, &quot;opacity&quot;: 1.0, &quot;smoothFactor&quot;: 1.0, &quot;stroke&quot;: true, &quot;weight&quot;: 3}\n",
       "            ).addTo(map_9be85f730c6412e63cc620d204b83f55);\n",
       "        \n",
       "&lt;/script&gt;\n",
       "&lt;/html&gt;\" style=\"position:absolute;width:100%;height:100%;left:0;top:0;border:none !important;\" allowfullscreen webkitallowfullscreen mozallowfullscreen></iframe></div></div>"
      ],
      "text/plain": [
       "<folium.folium.Map at 0x15bc63724b0>"
      ]
     },
     "execution_count": 327,
     "metadata": {},
     "output_type": "execute_result"
    }
   ],
   "source": [
    "map = folium.Map(max_zoom=18)\n",
    "# map\n",
    "points = [[location.raw['boundingbox'][0],location.raw['boundingbox'][2]],[location.raw['boundingbox'][1],location.raw['boundingbox'][3]]]\n",
    "map.fit_bounds(points)\n",
    "\n",
    "folium.Rectangle(bounds=points, color='#ff7800', fill=True, fill_color='#ffff00', fill_opacity=0.2).add_to(map)\n",
    "map"
   ]
  },
  {
   "cell_type": "code",
   "execution_count": null,
   "id": "8ab28881-0f71-4ff3-80f5-d7e64495ee23",
   "metadata": {},
   "outputs": [],
   "source": []
  },
  {
   "cell_type": "code",
   "execution_count": null,
   "id": "8268b306-fdb9-4f67-a531-8730dad5d556",
   "metadata": {},
   "outputs": [],
   "source": []
  }
 ],
 "metadata": {
  "kernelspec": {
   "display_name": "Python 3 (ipykernel)",
   "language": "python",
   "name": "python3"
  },
  "language_info": {
   "codemirror_mode": {
    "name": "ipython",
    "version": 3
   },
   "file_extension": ".py",
   "mimetype": "text/x-python",
   "name": "python",
   "nbconvert_exporter": "python",
   "pygments_lexer": "ipython3",
   "version": "3.12.6"
  }
 },
 "nbformat": 4,
 "nbformat_minor": 5
}
