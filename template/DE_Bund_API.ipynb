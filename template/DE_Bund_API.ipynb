{
 "cells": [
  {
   "cell_type": "code",
   "execution_count": 1,
   "id": "0361cb8c-c4d1-437d-8689-a6276af065b2",
   "metadata": {},
   "outputs": [],
   "source": [
    "    # from urllib.request import Request, urlopen\n",
    "    # from urllib.error import URLError, HTTPError\n",
    "    \n",
    "    \n",
    "    # # pip install beautifulsoup4\n",
    "    # from bs4 import BeautifulSoup\n",
    "    # import json\n",
    "    # import pandas as pd\n",
    "    \n",
    "    # pd.set_option('display.max_colwidth', None)\n",
    "    # # pd.set_option('display.max_rows', None)"
   ]
  },
  {
   "cell_type": "code",
   "execution_count": 2,
   "id": "7d1ad402-7eaf-47a5-9c24-01fe985e2a6d",
   "metadata": {},
   "outputs": [],
   "source": [
    "# def parse_url_into_dict(url):\n",
    "#     try:\n",
    "#         page = urlopen(url)\n",
    "#         html = page.read().decode(\"utf-8\")\n",
    "#     except HTTPError as e:\n",
    "#         # do something\n",
    "#         print('Error code: ', e.code)\n",
    "#     except URLError as e:\n",
    "#         # do something\n",
    "#         print('Reason: ', e.reason)\n",
    "#     else:\n",
    "#         # do something\n",
    "#         print('good!')\n",
    "#     dic = json.loads(html)\n",
    "#     return dic\n"
   ]
  },
  {
   "cell_type": "code",
   "execution_count": 3,
   "id": "345d3741-e0dd-413a-b3bc-69c91de2339e",
   "metadata": {},
   "outputs": [],
   "source": [
    "# json_data"
   ]
  },
  {
   "cell_type": "code",
   "execution_count": 4,
   "id": "b3ef16b0-c063-4a96-8ac3-797273b6ff5f",
   "metadata": {},
   "outputs": [],
   "source": [
    "# url1 = \"https://www.karto365.de/portal/sharing/rest/search?q=deutschlandatlas&f=json&num=100&start=1\"\n",
    "# url2 = \"https://www.karto365.de/portal/sharing/rest/search?q=deutschlandatlas&f=json&num=100&start=101\"\n",
    "# url3 = \"https://www.karto365.de/portal/sharing/rest/search?q=deutschlandatlas&f=json\"\n",
    "# logging = True"
   ]
  },
  {
   "cell_type": "code",
   "execution_count": 5,
   "id": "c1930f14-42fa-421f-8c65-5d85ef053563",
   "metadata": {},
   "outputs": [],
   "source": [
    "# dict1 = parse_url_into_dict(url1)\n",
    "# dict2 = parse_url_into_dict(url2)\n",
    "# # dict3 = parse_url_into_dict(url3)"
   ]
  },
  {
   "cell_type": "code",
   "execution_count": 6,
   "id": "f803959c-4af6-4768-a84b-aabdb9ec55fd",
   "metadata": {},
   "outputs": [],
   "source": [
    "# dict1['results'] = dict1['results'] + dict2['results']\n",
    "\n",
    "\n",
    "# # pdf = pd.DataFrame.from_dict(dic, orient='index')\n",
    "# # pdf#.keys\n",
    "\n",
    "# # dic_results = df.to_dict('records')\n",
    "# df_results = pd.DataFrame.from_dict(dict1['results'])\n",
    "# df_results.head(1)"
   ]
  },
  {
   "cell_type": "code",
   "execution_count": 7,
   "id": "6b1a4b01-6592-470b-a4d1-851f3fceb075",
   "metadata": {},
   "outputs": [],
   "source": [
    "# map_name = 'bev_ausl' # 'bev_ausl_'\n",
    "# map_type = 'HA' # 'HA', 'ZA'\n",
    "# map_year = 2021\n",
    "\n",
    "# table = f'{map_name}_{map_type}{map_year}'\n",
    "\n",
    "# datumTransformation=4326 # 1623\n",
    "# # geometryType='esriGeometryEnvelope&geometry'\n",
    "# format_answer = \"json\"# \"html\", \"json\", \"kmz\", \"geojson\", pbf\" https://www.karto365.de/hosting/sdk/rest/index.html#/Output_formats/02ss00000078000000/\n",
    "# return_geometry = 'true' # 'false', 'true'\n",
    "\n",
    "# # https://machine.domain.com/webadaptor/rest/services/World_Physical_Map/MapServer?f=jsapi\n",
    "# str1 = f\"https://www.karto365.de/hosting/rest/services/{table}/MapServer/0/query?f={format_answer}&where=1%3D1&outFields=*&returnGeometry={return_geometry}&datumTransformation={datumTransformation}\"\n",
    "# str2 = f\"https://www.karto365.de/hosting/rest/services/{table}/MapServer\""
   ]
  },
  {
   "cell_type": "code",
   "execution_count": 8,
   "id": "714bafa9-3a02-45b0-b010-84edeef06227",
   "metadata": {},
   "outputs": [],
   "source": [
    "# map1 = parse_url_into_dict(str1)\n",
    "# # map2 = parse_url_into_dict(str2)"
   ]
  },
  {
   "cell_type": "code",
   "execution_count": 9,
   "id": "baabcd2a-a4aa-49c4-b144-b3ec19f1b206",
   "metadata": {},
   "outputs": [],
   "source": [
    "# list(map1.keys())"
   ]
  },
  {
   "cell_type": "code",
   "execution_count": 10,
   "id": "84ecb119-b1a7-4d60-810a-83c950dab766",
   "metadata": {},
   "outputs": [],
   "source": [
    "# len(map1['features'])"
   ]
  },
  {
   "cell_type": "code",
   "execution_count": 11,
   "id": "906bf12e-182c-4cf3-a7a2-deb9a355c879",
   "metadata": {},
   "outputs": [],
   "source": [
    "# # json_data\n",
    "\n",
    "# data = map1['features']\n",
    "# idx_column_name = 'Gebietskennziffer'\n",
    "# col_geom = 'geometry'\n",
    "# idx = 16065000\n",
    "\n",
    "# json_data = json.dumps(data)\n",
    "# df = pd.json_normalize(json.loads(json_data))\n",
    "# # df.cols = df_cols_new\n",
    "# df.columns = df.columns.str.replace('attributes.', '').str.replace('.rings','')\n",
    "# df.set_index(idx_column_name, inplace=True)\n",
    "\n",
    "# # df.sort_values(map_name).head(1)\n",
    "# df.dtypes"
   ]
  },
  {
   "cell_type": "code",
   "execution_count": 12,
   "id": "a55749df-7d5f-4872-925d-7147af1a9ad3",
   "metadata": {},
   "outputs": [],
   "source": [
    "# df.columns"
   ]
  },
  {
   "cell_type": "code",
   "execution_count": 13,
   "id": "84b842bd-cf09-458b-a250-303f0599d6da",
   "metadata": {},
   "outputs": [],
   "source": [
    "# df.drop('geometry',axis=1).head(5)"
   ]
  },
  {
   "cell_type": "code",
   "execution_count": 14,
   "id": "59627356-c762-49d4-b8e1-98c92051a2dd",
   "metadata": {},
   "outputs": [],
   "source": [
    "# type(df.loc[idx])\n",
    "# geo= df.loc[idx,'geometry']"
   ]
  },
  {
   "cell_type": "code",
   "execution_count": 15,
   "id": "1e26f4f9-77ca-4079-ae09-6632290e8f5a",
   "metadata": {},
   "outputs": [],
   "source": [
    "# geo_new = f\"POLYGON {str(geo).replace(\"[\",\"(\").replace(\"]\",\")\").replace(',','')}\"\n",
    "# df.loc[idx,'geometry'] = geo_new\n",
    "# # geo_new"
   ]
  },
  {
   "cell_type": "code",
   "execution_count": 16,
   "id": "9cdbf437-a50d-44eb-9c9d-f07019eb7178",
   "metadata": {},
   "outputs": [],
   "source": [
    "# DE_level5.drop('geometry',axis=1)"
   ]
  },
  {
   "cell_type": "code",
   "execution_count": 17,
   "id": "a71dcfbd-e3b4-488a-a970-66be515fe9d9",
   "metadata": {},
   "outputs": [],
   "source": [
    "# import ast\n",
    "# path = \"gemeinden_simplify200.geojson\"\n",
    "\n",
    "# file = open(path, \"r\")\n",
    "# d_wc3 = ast.literal_eval(file.read())\n",
    "\n",
    "# DE_level5 = gpd.GeoDataFrame.from_features(d_wc3, crs=\"EPSG:4326\")\n",
    "# DE_level5"
   ]
  },
  {
   "cell_type": "code",
   "execution_count": 18,
   "id": "18042a2f-3f11-4628-9452-44023748f3c0",
   "metadata": {},
   "outputs": [],
   "source": [
    "# DE_level5.drop('geometry')"
   ]
  },
  {
   "cell_type": "code",
   "execution_count": 19,
   "id": "e4d3dbc9-aa8b-4062-b44f-d616ce4d64bd",
   "metadata": {},
   "outputs": [],
   "source": [
    "# df_onerow = df.loc[[idx]]\n",
    "# df_onerow"
   ]
  },
  {
   "cell_type": "code",
   "execution_count": 20,
   "id": "ee08fb1d-0bba-4035-b054-2096b6d19fb1",
   "metadata": {},
   "outputs": [],
   "source": [
    "# type(df_onerow)"
   ]
  },
  {
   "cell_type": "code",
   "execution_count": 21,
   "id": "6884ab8e-33c1-4a82-bbf6-f98c1161ff25",
   "metadata": {},
   "outputs": [],
   "source": [
    "# df_onerow[col_geom] = df_onerow[col_geom].apply(str)\n",
    "# # df[col_geom] = df[col_geom].astype('string')\n",
    "# # df[col_geom] = df[col_geom].astype(str)"
   ]
  },
  {
   "cell_type": "code",
   "execution_count": 22,
   "id": "2b4f0325-777b-4510-93e8-2bb62ad758a9",
   "metadata": {},
   "outputs": [],
   "source": [
    "# df_onerow.dtypes\n",
    "\n",
    "# print(df.dtypes)\n",
    "# print()\n",
    "# type(df_onerow.loc[idx,col_geom])"
   ]
  },
  {
   "cell_type": "code",
   "execution_count": 23,
   "id": "69ecef5e-68cf-42c2-bb30-eca438e37b5a",
   "metadata": {},
   "outputs": [],
   "source": [
    "# df = pd.DataFrame({'float': [1.0],\n",
    "#                    'int': [1],\n",
    "#                    'datetime': [pd.Timestamp('20180310')],\n",
    "#                    'string': 'foo'})\n",
    "# print(df.dtypes)\n",
    "# print()\n",
    "# type(df.loc[0,'string'])"
   ]
  },
  {
   "cell_type": "code",
   "execution_count": 24,
   "id": "22b28135-f622-4fa9-b1f3-81bcbaf01344",
   "metadata": {},
   "outputs": [],
   "source": [
    "# import geopandas as gpd"
   ]
  },
  {
   "cell_type": "code",
   "execution_count": 25,
   "id": "532143dc-b996-4294-a74b-f98aceb74a8c",
   "metadata": {},
   "outputs": [],
   "source": [
    "# # type(df['geometry'])\n",
    "# type(geo_new)"
   ]
  },
  {
   "cell_type": "code",
   "execution_count": 26,
   "id": "bcae2175-4991-4029-9396-9f2d8518cf31",
   "metadata": {},
   "outputs": [],
   "source": [
    "# gs = gpd.GeoSeries.from_wkt(df_onerow['geometry'])\n",
    "# # print(f'gs.shape={gs.shape()}')\n",
    "# # pdf_countries = gpd.GeoDataFrame(df, geometry=gs, crs=crs)"
   ]
  },
  {
   "cell_type": "code",
   "execution_count": 27,
   "id": "099f9b0c-6203-4a8c-b66d-79e943ee5e70",
   "metadata": {
    "scrolled": true
   },
   "outputs": [],
   "source": [
    "# df_onerow.at[idx,'geometry']"
   ]
  },
  {
   "cell_type": "code",
   "execution_count": 28,
   "id": "81cfa755-fb22-4da0-8df6-d2cb8bf7ad09",
   "metadata": {},
   "outputs": [],
   "source": [
    "# json1 = \"{'type': 'Feature', 'properties': {'name': 'Afghanistan'}, 'geometry': {'type': 'Polygon', 'coordinates': [[[61.210817, 35.650072], [62.230651, 35.270664], [60.803193, 34.404102], [61.210817, 35.650072]]]}, 'id': 'AFG'}\"#"
   ]
  },
  {
   "cell_type": "code",
   "execution_count": 29,
   "id": "43e6396b-873f-4ba7-99a5-5eeae4872db6",
   "metadata": {},
   "outputs": [],
   "source": [
    "# json2 = json1.replace(\"'\", \"\\\"\")\n",
    "# json2"
   ]
  },
  {
   "cell_type": "code",
   "execution_count": 30,
   "id": "2720db2e-e41d-425a-9d0b-1aa6a5b2dcc6",
   "metadata": {},
   "outputs": [],
   "source": [
    "# geo=json.loads(json2)"
   ]
  },
  {
   "cell_type": "code",
   "execution_count": 31,
   "id": "910ba5c1-a2c3-4b60-a135-ba6ce73f24d1",
   "metadata": {},
   "outputs": [],
   "source": [
    "# len(geo['geometry'])"
   ]
  },
  {
   "cell_type": "code",
   "execution_count": 32,
   "id": "feb5509b-57bc-48ac-bbb8-78e2d9b5fee5",
   "metadata": {},
   "outputs": [],
   "source": [
    "# geo['geometry']#[0]"
   ]
  },
  {
   "cell_type": "code",
   "execution_count": 33,
   "id": "43d0a09e-6f31-4c31-9c9a-7137cfe30792",
   "metadata": {},
   "outputs": [],
   "source": [
    "# geo['geometry']"
   ]
  },
  {
   "cell_type": "code",
   "execution_count": 34,
   "id": "99f21728-82b7-492f-acd9-6a369685e510",
   "metadata": {},
   "outputs": [],
   "source": [
    "# gp = {\n",
    "#      \"type\": \"Polygon\",\n",
    "#      \"coordinates\": [\n",
    "#          [\n",
    "#              [100.0, 0.0],\n",
    "#              [101.0, 0.0],\n",
    "#              [101.0, 1.0],\n",
    "#              [100.0, 1.0],\n",
    "#              [100.0, 0.0]\n",
    "#          ]\n",
    "#      ]\n",
    "#  }\n",
    "# mp = {\n",
    "#      \"type\": \"MultiPolygon\",\n",
    "#      \"coordinates\": [\n",
    "#          [\n",
    "#              [\n",
    "#                  [102.0, 2.0],\n",
    "#                  [103.0, 2.0],\n",
    "#                  [103.0, 3.0],\n",
    "#                  [102.0, 3.0],\n",
    "#                  [102.0, 2.0]\n",
    "#              ]\n",
    "#          ],\n",
    "#          [\n",
    "#              [\n",
    "#                  [100.0, 0.0],\n",
    "#                  [101.0, 0.0],\n",
    "#                  [101.0, 1.0],\n",
    "#                  [100.0, 1.0],\n",
    "#                  [100.0, 0.0]\n",
    "#              ],\n",
    "#              [\n",
    "#                  [100.2, 0.2],\n",
    "#                  [100.2, 0.8],\n",
    "#                  [100.8, 0.8],\n",
    "#                  [100.8, 0.2],\n",
    "#                  [100.2, 0.2]\n",
    "#              ]\n",
    "#          ]\n",
    "#      ]\n",
    "#  }"
   ]
  },
  {
   "cell_type": "code",
   "execution_count": 35,
   "id": "738f9559-86a3-4d30-840f-2e008c8db886",
   "metadata": {},
   "outputs": [],
   "source": [
    "# import geopandas as gpd"
   ]
  },
  {
   "cell_type": "code",
   "execution_count": 36,
   "id": "6b377d25-4b00-45d9-9071-1aea0271d10b",
   "metadata": {},
   "outputs": [],
   "source": [
    "# fm = folium.Map()"
   ]
  },
  {
   "cell_type": "code",
   "execution_count": 37,
   "id": "8b12a2d0-1192-4492-ae28-0f276e25a530",
   "metadata": {},
   "outputs": [],
   "source": [
    "# crs = \"EPSG:4326\"\n",
    "# path = 'D0_Deutschland_Country.csv'\n",
    "# pdf_countries = pd.read_csv(path, index_col=[0])\n",
    "# # Filter countries with null geometry\n",
    "# # pdf_countries = pdf_countries[pdf_countries['geometry'].notnull()]\n",
    "# # gs = gpd.GeoSeries.from_wkt(pdf_countries['geometry'])\n",
    "# # # print(f'gs.shape={gs.shape()}')\n",
    "# # pdf_countries = gpd.GeoDataFrame(pdf_countries, geometry=gs, crs=crs)\n",
    "# # return pdf_countries"
   ]
  },
  {
   "cell_type": "code",
   "execution_count": 38,
   "id": "10ad1ead-73ad-48dc-b5d7-d75eaf4d2487",
   "metadata": {},
   "outputs": [],
   "source": [
    "# type(pdf_countries.at[0,'geometry'])"
   ]
  },
  {
   "cell_type": "code",
   "execution_count": 39,
   "id": "16e70464-01cc-4726-b50b-a9ba2e13fda3",
   "metadata": {},
   "outputs": [],
   "source": [
    "# gj = folium.GeoJson(\n",
    "#         data=pdf,\n",
    "#         # nan_fill_opacity=0.1,\n",
    "#         style_function=style_function,\n",
    "#         # line_color='black',\n",
    "#         highlight_function=highlight_function,\n",
    "#         tooltip=tooltip\n",
    "#     )"
   ]
  },
  {
   "cell_type": "code",
   "execution_count": 40,
   "id": "7bf2ca78-726f-4842-998c-a8664f41e522",
   "metadata": {},
   "outputs": [],
   "source": [
    "# import folium\n",
    "# fg = folium.FeatureGroup(name='AFG')"
   ]
  },
  {
   "cell_type": "code",
   "execution_count": 129,
   "id": "4f2a42f7-e2c8-4911-86e2-34041108f14d",
   "metadata": {},
   "outputs": [],
   "source": [
    "# # bev_dicht_ZA2022\tEinwohner__innen je km² im Jahr 2020\n",
    "# # bev_dicht_ZA2021\tEinwohner/-innen je km² im Jahr 2019, K2, ZA2021\n",
    "# str_pattern = 'bev_'\n",
    "# col_filtered = 'title'\n",
    "# col_displayed = ['title','\n",
    "# pdf_bev = df_results[df_results[col_filtered].str.contains(str_pattern)]\n",
    "# pdf_bev"
   ]
  },
  {
   "cell_type": "code",
   "execution_count": null,
   "id": "d71210fc-0173-48f3-b99a-8d966adff61a",
   "metadata": {},
   "outputs": [],
   "source": []
  }
 ],
 "metadata": {
  "kernelspec": {
   "display_name": "Python 3 (ipykernel)",
   "language": "python",
   "name": "python3"
  },
  "language_info": {
   "codemirror_mode": {
    "name": "ipython",
    "version": 3
   },
   "file_extension": ".py",
   "mimetype": "text/x-python",
   "name": "python",
   "nbconvert_exporter": "python",
   "pygments_lexer": "ipython3",
   "version": "3.12.6"
  }
 },
 "nbformat": 4,
 "nbformat_minor": 5
}
